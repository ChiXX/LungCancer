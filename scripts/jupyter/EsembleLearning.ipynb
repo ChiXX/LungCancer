{
 "cells": [
  {
   "cell_type": "code",
   "execution_count": 285,
   "metadata": {},
   "outputs": [],
   "source": [
    "import pandas as pd\n",
    "import numpy as np\n",
    "import matplotlib.pyplot as plt\n",
    "from sklearn.ensemble import RandomForestClassifier\n",
    "from sklearn.metrics import roc_curve, auc, recall_score, accuracy_score, f1_score, confusion_matrix\n",
    "from sklearn.model_selection import train_test_split, GridSearchCV, cross_val_score,cross_validate"
   ]
  },
  {
   "cell_type": "markdown",
   "metadata": {},
   "source": [
    "## Data preparing"
   ]
  },
  {
   "cell_type": "markdown",
   "metadata": {},
   "source": [
    "### Full data"
   ]
  },
  {
   "cell_type": "code",
   "execution_count": 336,
   "metadata": {},
   "outputs": [],
   "source": [
    "cancer_data = pd.read_csv('../../data/cancer_data_v4.csv')\n",
    "cancer_data.drop(['WBC', 'EO%', 'EO', 'GLO', 'NEUT%', 'HCT', 'TCH','TBIL', 'IBIL', 'LDH-L'], axis=1, inplace=True)\n",
    "for fea in cancer_data.columns[6:]:\n",
    "    median = cancer_data.groupby(['Age_group', 'A=male B=female'])[fea].median()\n",
    "    cancer_data.set_index(['Age_group', 'A=male B=female'], inplace=True)\n",
    "    cancer_data[fea].fillna(median, inplace=True)\n",
    "    cancer_data.reset_index(inplace=True)\n",
    "cancer_data['A=Case, B=Control'] = cancer_data['A=Case, B=Control'].apply(lambda x: 1 if x=='A' else 0)\n",
    "X_train, X_test, y_train, y_test = train_test_split(cancer_data.drop(['Origin','Age_group','A=male B=female','ID', 'A=Case, B=Control', 'Pattern'], axis=1), cancer_data['A=Case, B=Control'], test_size=0.3, random_state=0)"
   ]
  },
  {
   "cell_type": "markdown",
   "metadata": {},
   "source": [
    "### Physical Center"
   ]
  },
  {
   "cell_type": "code",
   "execution_count": 397,
   "metadata": {},
   "outputs": [],
   "source": [
    "cancer_data = pd.read_csv('../../data/cancer_data_v4.csv')\n",
    "cancer_data.drop(['WBC', 'EO%', 'EO', 'GLO', 'NEUT%', 'HCT', 'TCH','TBIL', 'IBIL', 'LDH-L'], axis=1, inplace=True)\n",
    "for fea in cancer_data.columns[6:]:\n",
    "    median = cancer_data.groupby(['Age_group', 'A=male B=female'])[fea].median()\n",
    "    cancer_data.set_index(['Age_group', 'A=male B=female'], inplace=True)\n",
    "    cancer_data[fea].fillna(median, inplace=True)\n",
    "    cancer_data.reset_index(inplace=True)\n",
    "cancer_data['A=Case, B=Control'] = cancer_data['A=Case, B=Control'].apply(lambda x: 1 if x=='A' else 0)\n",
    "\n",
    "group_b = cancer_data[cancer_data['Origin']=='B']\n",
    "group_c = cancer_data[cancer_data['Origin']=='C'].sample(n=212,random_state=0)\n",
    "\n",
    "new = pd.concat([group_b,group_c], axis=0).sample(frac=1,random_state=0)\n",
    "X_train, X_test, y_train, y_test = train_test_split(new.drop(['Origin','Age_group','A=male B=female','ID', 'A=Case, B=Control', 'Pattern'], axis=1), new['A=Case, B=Control'], test_size=0.3, random_state=0)"
   ]
  },
  {
   "cell_type": "code",
   "execution_count": 398,
   "metadata": {},
   "outputs": [
    {
     "data": {
      "text/html": [
       "<div>\n",
       "<style scoped>\n",
       "    .dataframe tbody tr th:only-of-type {\n",
       "        vertical-align: middle;\n",
       "    }\n",
       "\n",
       "    .dataframe tbody tr th {\n",
       "        vertical-align: top;\n",
       "    }\n",
       "\n",
       "    .dataframe thead th {\n",
       "        text-align: right;\n",
       "    }\n",
       "</style>\n",
       "<table border=\"1\" class=\"dataframe\">\n",
       "  <thead>\n",
       "    <tr style=\"text-align: right;\">\n",
       "      <th></th>\n",
       "      <th>Age</th>\n",
       "      <th>Smoke</th>\n",
       "      <th>MCV</th>\n",
       "      <th>ALT</th>\n",
       "      <th>AST:ALT</th>\n",
       "      <th>GLU</th>\n",
       "      <th>BUN</th>\n",
       "      <th>Cr</th>\n",
       "      <th>RBC</th>\n",
       "      <th>HGB</th>\n",
       "      <th>...</th>\n",
       "      <th>Cystatin-C</th>\n",
       "      <th>UA</th>\n",
       "      <th>TG</th>\n",
       "      <th>HDL-C</th>\n",
       "      <th>LDL-C</th>\n",
       "      <th>ALP</th>\n",
       "      <th>GGT</th>\n",
       "      <th>CK</th>\n",
       "      <th>HBDH</th>\n",
       "      <th>T-CEA</th>\n",
       "    </tr>\n",
       "  </thead>\n",
       "  <tbody>\n",
       "    <tr>\n",
       "      <th>4539</th>\n",
       "      <td>59</td>\n",
       "      <td>0.0</td>\n",
       "      <td>83.5</td>\n",
       "      <td>23.0</td>\n",
       "      <td>0.91</td>\n",
       "      <td>5.97</td>\n",
       "      <td>4.50</td>\n",
       "      <td>67.0</td>\n",
       "      <td>5.70</td>\n",
       "      <td>147.0</td>\n",
       "      <td>...</td>\n",
       "      <td>0.88</td>\n",
       "      <td>404.0</td>\n",
       "      <td>1.11</td>\n",
       "      <td>1.50</td>\n",
       "      <td>3.84</td>\n",
       "      <td>50.0</td>\n",
       "      <td>23.0</td>\n",
       "      <td>119.0</td>\n",
       "      <td>101.0</td>\n",
       "      <td>1.44</td>\n",
       "    </tr>\n",
       "    <tr>\n",
       "      <th>1937</th>\n",
       "      <td>53</td>\n",
       "      <td>300.0</td>\n",
       "      <td>90.7</td>\n",
       "      <td>33.0</td>\n",
       "      <td>0.88</td>\n",
       "      <td>5.29</td>\n",
       "      <td>4.55</td>\n",
       "      <td>93.3</td>\n",
       "      <td>4.83</td>\n",
       "      <td>144.0</td>\n",
       "      <td>...</td>\n",
       "      <td>0.83</td>\n",
       "      <td>293.0</td>\n",
       "      <td>3.82</td>\n",
       "      <td>0.87</td>\n",
       "      <td>2.49</td>\n",
       "      <td>56.0</td>\n",
       "      <td>46.0</td>\n",
       "      <td>162.0</td>\n",
       "      <td>110.0</td>\n",
       "      <td>0.88</td>\n",
       "    </tr>\n",
       "    <tr>\n",
       "      <th>5451</th>\n",
       "      <td>47</td>\n",
       "      <td>0.0</td>\n",
       "      <td>92.5</td>\n",
       "      <td>19.0</td>\n",
       "      <td>1.16</td>\n",
       "      <td>5.89</td>\n",
       "      <td>3.90</td>\n",
       "      <td>74.0</td>\n",
       "      <td>5.59</td>\n",
       "      <td>169.0</td>\n",
       "      <td>...</td>\n",
       "      <td>0.82</td>\n",
       "      <td>271.0</td>\n",
       "      <td>1.36</td>\n",
       "      <td>1.34</td>\n",
       "      <td>4.73</td>\n",
       "      <td>79.0</td>\n",
       "      <td>17.0</td>\n",
       "      <td>116.0</td>\n",
       "      <td>157.0</td>\n",
       "      <td>1.08</td>\n",
       "    </tr>\n",
       "    <tr>\n",
       "      <th>5364</th>\n",
       "      <td>48</td>\n",
       "      <td>0.0</td>\n",
       "      <td>93.4</td>\n",
       "      <td>12.0</td>\n",
       "      <td>0.83</td>\n",
       "      <td>4.57</td>\n",
       "      <td>4.70</td>\n",
       "      <td>80.0</td>\n",
       "      <td>5.33</td>\n",
       "      <td>164.0</td>\n",
       "      <td>...</td>\n",
       "      <td>0.91</td>\n",
       "      <td>374.0</td>\n",
       "      <td>1.78</td>\n",
       "      <td>1.49</td>\n",
       "      <td>3.83</td>\n",
       "      <td>48.0</td>\n",
       "      <td>21.0</td>\n",
       "      <td>77.0</td>\n",
       "      <td>114.0</td>\n",
       "      <td>0.65</td>\n",
       "    </tr>\n",
       "    <tr>\n",
       "      <th>4975</th>\n",
       "      <td>74</td>\n",
       "      <td>0.0</td>\n",
       "      <td>93.1</td>\n",
       "      <td>14.0</td>\n",
       "      <td>1.36</td>\n",
       "      <td>4.87</td>\n",
       "      <td>4.90</td>\n",
       "      <td>82.0</td>\n",
       "      <td>4.51</td>\n",
       "      <td>135.0</td>\n",
       "      <td>...</td>\n",
       "      <td>1.16</td>\n",
       "      <td>390.0</td>\n",
       "      <td>1.41</td>\n",
       "      <td>0.84</td>\n",
       "      <td>1.55</td>\n",
       "      <td>98.0</td>\n",
       "      <td>26.0</td>\n",
       "      <td>107.0</td>\n",
       "      <td>141.0</td>\n",
       "      <td>2.73</td>\n",
       "    </tr>\n",
       "    <tr>\n",
       "      <th>...</th>\n",
       "      <td>...</td>\n",
       "      <td>...</td>\n",
       "      <td>...</td>\n",
       "      <td>...</td>\n",
       "      <td>...</td>\n",
       "      <td>...</td>\n",
       "      <td>...</td>\n",
       "      <td>...</td>\n",
       "      <td>...</td>\n",
       "      <td>...</td>\n",
       "      <td>...</td>\n",
       "      <td>...</td>\n",
       "      <td>...</td>\n",
       "      <td>...</td>\n",
       "      <td>...</td>\n",
       "      <td>...</td>\n",
       "      <td>...</td>\n",
       "      <td>...</td>\n",
       "      <td>...</td>\n",
       "      <td>...</td>\n",
       "      <td>...</td>\n",
       "    </tr>\n",
       "    <tr>\n",
       "      <th>7621</th>\n",
       "      <td>51</td>\n",
       "      <td>900.0</td>\n",
       "      <td>93.1</td>\n",
       "      <td>29.0</td>\n",
       "      <td>0.76</td>\n",
       "      <td>4.78</td>\n",
       "      <td>4.60</td>\n",
       "      <td>81.0</td>\n",
       "      <td>5.53</td>\n",
       "      <td>173.0</td>\n",
       "      <td>...</td>\n",
       "      <td>0.95</td>\n",
       "      <td>499.0</td>\n",
       "      <td>4.61</td>\n",
       "      <td>0.97</td>\n",
       "      <td>2.82</td>\n",
       "      <td>91.0</td>\n",
       "      <td>23.0</td>\n",
       "      <td>100.0</td>\n",
       "      <td>136.0</td>\n",
       "      <td>1.43</td>\n",
       "    </tr>\n",
       "    <tr>\n",
       "      <th>7060</th>\n",
       "      <td>66</td>\n",
       "      <td>0.0</td>\n",
       "      <td>87.3</td>\n",
       "      <td>7.0</td>\n",
       "      <td>1.17</td>\n",
       "      <td>5.94</td>\n",
       "      <td>4.40</td>\n",
       "      <td>45.0</td>\n",
       "      <td>4.81</td>\n",
       "      <td>136.0</td>\n",
       "      <td>...</td>\n",
       "      <td>0.74</td>\n",
       "      <td>289.0</td>\n",
       "      <td>1.27</td>\n",
       "      <td>1.54</td>\n",
       "      <td>3.69</td>\n",
       "      <td>93.0</td>\n",
       "      <td>11.0</td>\n",
       "      <td>148.0</td>\n",
       "      <td>177.0</td>\n",
       "      <td>1.47</td>\n",
       "    </tr>\n",
       "    <tr>\n",
       "      <th>7241</th>\n",
       "      <td>65</td>\n",
       "      <td>0.0</td>\n",
       "      <td>87.6</td>\n",
       "      <td>18.0</td>\n",
       "      <td>1.33</td>\n",
       "      <td>7.63</td>\n",
       "      <td>9.70</td>\n",
       "      <td>121.0</td>\n",
       "      <td>4.99</td>\n",
       "      <td>143.0</td>\n",
       "      <td>...</td>\n",
       "      <td>0.90</td>\n",
       "      <td>424.0</td>\n",
       "      <td>0.57</td>\n",
       "      <td>1.44</td>\n",
       "      <td>2.15</td>\n",
       "      <td>58.0</td>\n",
       "      <td>8.0</td>\n",
       "      <td>100.0</td>\n",
       "      <td>154.0</td>\n",
       "      <td>7.05</td>\n",
       "    </tr>\n",
       "    <tr>\n",
       "      <th>6362</th>\n",
       "      <td>65</td>\n",
       "      <td>0.0</td>\n",
       "      <td>98.3</td>\n",
       "      <td>14.0</td>\n",
       "      <td>1.00</td>\n",
       "      <td>4.22</td>\n",
       "      <td>7.10</td>\n",
       "      <td>89.0</td>\n",
       "      <td>4.64</td>\n",
       "      <td>148.0</td>\n",
       "      <td>...</td>\n",
       "      <td>1.21</td>\n",
       "      <td>360.0</td>\n",
       "      <td>1.16</td>\n",
       "      <td>1.70</td>\n",
       "      <td>1.64</td>\n",
       "      <td>68.0</td>\n",
       "      <td>28.0</td>\n",
       "      <td>48.0</td>\n",
       "      <td>143.0</td>\n",
       "      <td>2.82</td>\n",
       "    </tr>\n",
       "    <tr>\n",
       "      <th>1998</th>\n",
       "      <td>32</td>\n",
       "      <td>0.0</td>\n",
       "      <td>92.8</td>\n",
       "      <td>11.0</td>\n",
       "      <td>1.82</td>\n",
       "      <td>4.47</td>\n",
       "      <td>4.60</td>\n",
       "      <td>64.0</td>\n",
       "      <td>4.57</td>\n",
       "      <td>136.0</td>\n",
       "      <td>...</td>\n",
       "      <td>0.80</td>\n",
       "      <td>249.0</td>\n",
       "      <td>0.83</td>\n",
       "      <td>2.30</td>\n",
       "      <td>2.55</td>\n",
       "      <td>53.0</td>\n",
       "      <td>7.0</td>\n",
       "      <td>105.0</td>\n",
       "      <td>161.0</td>\n",
       "      <td>1.74</td>\n",
       "    </tr>\n",
       "  </tbody>\n",
       "</table>\n",
       "<p>296 rows × 37 columns</p>\n",
       "</div>"
      ],
      "text/plain": [
       "      Age  Smoke  MCV    ALT  AST:ALT   GLU   BUN     Cr   RBC    HGB  ...  \\\n",
       "4539   59    0.0  83.5  23.0     0.91  5.97  4.50   67.0  5.70  147.0  ...   \n",
       "1937   53  300.0  90.7  33.0     0.88  5.29  4.55   93.3  4.83  144.0  ...   \n",
       "5451   47    0.0  92.5  19.0     1.16  5.89  3.90   74.0  5.59  169.0  ...   \n",
       "5364   48    0.0  93.4  12.0     0.83  4.57  4.70   80.0  5.33  164.0  ...   \n",
       "4975   74    0.0  93.1  14.0     1.36  4.87  4.90   82.0  4.51  135.0  ...   \n",
       "...   ...    ...   ...   ...      ...   ...   ...    ...   ...    ...  ...   \n",
       "7621   51  900.0  93.1  29.0     0.76  4.78  4.60   81.0  5.53  173.0  ...   \n",
       "7060   66    0.0  87.3   7.0     1.17  5.94  4.40   45.0  4.81  136.0  ...   \n",
       "7241   65    0.0  87.6  18.0     1.33  7.63  9.70  121.0  4.99  143.0  ...   \n",
       "6362   65    0.0  98.3  14.0     1.00  4.22  7.10   89.0  4.64  148.0  ...   \n",
       "1998   32    0.0  92.8  11.0     1.82  4.47  4.60   64.0  4.57  136.0  ...   \n",
       "\n",
       "      Cystatin-C     UA    TG  HDL-C  LDL-C   ALP   GGT     CK   HBDH  T-CEA  \n",
       "4539        0.88  404.0  1.11   1.50   3.84  50.0  23.0  119.0  101.0   1.44  \n",
       "1937        0.83  293.0  3.82   0.87   2.49  56.0  46.0  162.0  110.0   0.88  \n",
       "5451        0.82  271.0  1.36   1.34   4.73  79.0  17.0  116.0  157.0   1.08  \n",
       "5364        0.91  374.0  1.78   1.49   3.83  48.0  21.0   77.0  114.0   0.65  \n",
       "4975        1.16  390.0  1.41   0.84   1.55  98.0  26.0  107.0  141.0   2.73  \n",
       "...          ...    ...   ...    ...    ...   ...   ...    ...    ...    ...  \n",
       "7621        0.95  499.0  4.61   0.97   2.82  91.0  23.0  100.0  136.0   1.43  \n",
       "7060        0.74  289.0  1.27   1.54   3.69  93.0  11.0  148.0  177.0   1.47  \n",
       "7241        0.90  424.0  0.57   1.44   2.15  58.0   8.0  100.0  154.0   7.05  \n",
       "6362        1.21  360.0  1.16   1.70   1.64  68.0  28.0   48.0  143.0   2.82  \n",
       "1998        0.80  249.0  0.83   2.30   2.55  53.0   7.0  105.0  161.0   1.74  \n",
       "\n",
       "[296 rows x 37 columns]"
      ]
     },
     "execution_count": 398,
     "metadata": {},
     "output_type": "execute_result"
    }
   ],
   "source": [
    "X_train"
   ]
  },
  {
   "cell_type": "code",
   "execution_count": 382,
   "metadata": {},
   "outputs": [
    {
     "name": "stdout",
     "output_type": "stream",
     "text": [
      "296 128\n"
     ]
    }
   ],
   "source": [
    "print(len(X_train), len(X_test))"
   ]
  },
  {
   "cell_type": "markdown",
   "metadata": {},
   "source": [
    "## RandomForestClassifier"
   ]
  },
  {
   "cell_type": "code",
   "execution_count": 350,
   "metadata": {},
   "outputs": [
    {
     "name": "stdout",
     "output_type": "stream",
     "text": [
      "0.7128378378378378\n"
     ]
    }
   ],
   "source": [
    "rf = RandomForestClassifier(oob_score=True,random_state=0)\n",
    "rf.fit(X_train, y_train)\n",
    "print(rf.oob_score_)"
   ]
  },
  {
   "cell_type": "markdown",
   "metadata": {},
   "source": [
    "# n_estimators"
   ]
  },
  {
   "cell_type": "code",
   "execution_count": 353,
   "metadata": {},
   "outputs": [
    {
     "name": "stdout",
     "output_type": "stream",
     "text": [
      "Wall time: 8.67 s\n"
     ]
    },
    {
     "data": {
      "text/plain": [
       "({'n_estimators': 35}, 0.7448275862068965)"
      ]
     },
     "execution_count": 353,
     "metadata": {},
     "output_type": "execute_result"
    }
   ],
   "source": [
    "%%time\n",
    "param_test1 = {'n_estimators':range(30,120,5)}\n",
    "gsearch1 = GridSearchCV(estimator = RandomForestClassifier(random_state=0), \n",
    "                       param_grid = param_test1, scoring='recall',cv=5)\n",
    "gsearch1.fit(X_train,y_train)\n",
    "gsearch1.best_params_, gsearch1.best_score_"
   ]
  },
  {
   "cell_type": "markdown",
   "metadata": {},
   "source": [
    "### max_depth & min_samples_split"
   ]
  },
  {
   "cell_type": "code",
   "execution_count": 354,
   "metadata": {},
   "outputs": [
    {
     "name": "stdout",
     "output_type": "stream",
     "text": [
      "Wall time: 21.4 s\n"
     ]
    },
    {
     "data": {
      "text/plain": [
       "({'max_depth': 3, 'min_samples_split': 10}, 0.7517241379310345)"
      ]
     },
     "execution_count": 354,
     "metadata": {},
     "output_type": "execute_result"
    }
   ],
   "source": [
    "%%time\n",
    "param_test2 = {'max_depth':range(1,20,2), 'min_samples_split':range(2,20,2)}\n",
    "gsearch2 = GridSearchCV(estimator = RandomForestClassifier(n_estimators= 35,random_state=0),\n",
    "   param_grid = param_test2, scoring='recall', cv=5)\n",
    "gsearch2.fit(X_train,y_train)\n",
    "gsearch2.best_params_, gsearch2.best_score_"
   ]
  },
  {
   "cell_type": "markdown",
   "metadata": {},
   "source": [
    "### min_samples_split & min_samples_leaf"
   ]
  },
  {
   "cell_type": "code",
   "execution_count": 355,
   "metadata": {},
   "outputs": [
    {
     "name": "stdout",
     "output_type": "stream",
     "text": [
      "Wall time: 20.4 s\n"
     ]
    },
    {
     "data": {
      "text/plain": [
       "({'min_samples_leaf': 7, 'min_samples_split': 2}, 0.7655172413793103)"
      ]
     },
     "execution_count": 355,
     "metadata": {},
     "output_type": "execute_result"
    }
   ],
   "source": [
    "%%time\n",
    "param_test3 = {'min_samples_split':range(2,10,1), 'min_samples_leaf':range(1,20,2)}\n",
    "gsearch3 = GridSearchCV(estimator = RandomForestClassifier(n_estimators= 35, max_depth=3,oob_score=True, random_state=10),\n",
    "            param_grid = param_test3, scoring='recall', cv=5)\n",
    "gsearch3.fit(X_train,y_train)\n",
    "gsearch3.best_params_, gsearch3.best_score_"
   ]
  },
  {
   "cell_type": "markdown",
   "metadata": {},
   "source": [
    "### max_features"
   ]
  },
  {
   "cell_type": "code",
   "execution_count": 356,
   "metadata": {},
   "outputs": [
    {
     "name": "stdout",
     "output_type": "stream",
     "text": [
      "Wall time: 3.93 s\n"
     ]
    },
    {
     "data": {
      "text/plain": [
       "({'max_features': 28}, 0.7862068965517242)"
      ]
     },
     "execution_count": 356,
     "metadata": {},
     "output_type": "execute_result"
    }
   ],
   "source": [
    "%%time\n",
    "param_test4 = {'max_features':range(4,30,2)}\n",
    "gsearch4 = GridSearchCV(estimator = RandomForestClassifier(n_estimators= 35, max_depth=3, min_samples_split=7,\n",
    "                                  min_samples_leaf=2 ,oob_score=True, random_state=0), param_grid = param_test4, scoring='recall', cv=5)\n",
    "gsearch4.fit(X_train,y_train)\n",
    "gsearch4.best_params_, gsearch4.best_score_"
   ]
  },
  {
   "cell_type": "code",
   "execution_count": 394,
   "metadata": {},
   "outputs": [
    {
     "name": "stdout",
     "output_type": "stream",
     "text": [
      "ACC: 0.640625\n",
      "REC: 0.5373134328358209\n",
      "SPC: 0.7540983606557377\n",
      "AUC: 0.7122583802299975\n"
     ]
    }
   ],
   "source": [
    "rf2 = RandomForestClassifier(n_estimators= 35, max_depth=3, min_samples_split=7,min_samples_leaf=2, max_features=2, oob_score=True, random_state=0)\n",
    "rf2.fit(X_train,y_train)\n",
    "\n",
    "y_pred = rf2.predict(X_test)\n",
    "tn, fp, fn, tp = confusion_matrix(y_test, y_pred).ravel()\n",
    "\n",
    "rf_prob = rf2.predict_proba(X_test)[:,1]\n",
    "rf_fpr, rf_tpr, _ = roc_curve(y_test, rf_prob)\n",
    "rf_auc = auc(rf_fpr, rf_tpr)\n",
    "\n",
    "print(\"ACC:\",accuracy_score(y_test, y_pred))\n",
    "print(\"REC:\",recall_score(y_test, y_pred))\n",
    "print(\"SPC:\",tn/(tn+fp))\n",
    "print(\"AUC:\",rf_auc)"
   ]
  },
  {
   "cell_type": "code",
   "execution_count": 375,
   "metadata": {},
   "outputs": [],
   "source": [
    "importances = pd.DataFrame(rf2.feature_importances_, columns = ['rf_importance'], index=X_train.columns).sort_values(by='rf_importance', ascending=False)"
   ]
  },
  {
   "cell_type": "markdown",
   "metadata": {},
   "source": [
    "## XGBoost"
   ]
  },
  {
   "cell_type": "code",
   "execution_count": 113,
   "metadata": {},
   "outputs": [],
   "source": [
    "from xgboost import XGBClassifier"
   ]
  },
  {
   "cell_type": "code",
   "execution_count": 365,
   "metadata": {},
   "outputs": [
    {
     "name": "stdout",
     "output_type": "stream",
     "text": [
      "ACC: 0.578125\n",
      "REC: 0.582089552238806\n",
      "SPC: 0.5737704918032787\n",
      "AUC: 0.630780523611451\n"
     ]
    }
   ],
   "source": [
    "xgb = XGBClassifier(random_state=0)\n",
    "xgb.fit(X_train,y_train)\n",
    "\n",
    "y_pred = xgb.predict(X_test)\n",
    "tn, fp, fn, tp = confusion_matrix(y_test, y_pred).ravel()\n",
    "xgb_prob = xgb.predict_proba(X_test)[:,1]\n",
    "xgb_fpr, xgb_tpr, _ = roc_curve(y_test, xgb_prob)\n",
    "xgb_auc = auc(xgb_fpr, xgb_tpr)\n",
    "print(\"ACC:\",accuracy_score(y_test, y_pred))\n",
    "print(\"REC:\",recall_score(y_test, y_pred))\n",
    "print(\"SPC:\",tn/(tn+fp))\n",
    "print(\"AUC:\",xgb_auc)"
   ]
  },
  {
   "cell_type": "code",
   "execution_count": 144,
   "metadata": {},
   "outputs": [
    {
     "data": {
      "text/plain": [
       "XGBClassifier(base_score=0.5, booster='gbtree', colsample_bylevel=1,\n",
       "              colsample_bynode=1, colsample_bytree=1, gamma=0, gpu_id=-1,\n",
       "              importance_type='gain', interaction_constraints='',\n",
       "              learning_rate=0.300000012, max_delta_step=0, max_depth=6,\n",
       "              min_child_weight=1, missing=nan, monotone_constraints='()',\n",
       "              n_estimators=100, n_jobs=0, num_parallel_tree=1, random_state=0,\n",
       "              reg_alpha=0, reg_lambda=1, scale_pos_weight=1, subsample=1,\n",
       "              tree_method='exact', validate_parameters=1, verbosity=None)"
      ]
     },
     "execution_count": 144,
     "metadata": {},
     "output_type": "execute_result"
    }
   ],
   "source": [
    "xgb"
   ]
  },
  {
   "cell_type": "markdown",
   "metadata": {},
   "source": [
    "### n_estimators"
   ]
  },
  {
   "cell_type": "code",
   "execution_count": 366,
   "metadata": {},
   "outputs": [
    {
     "name": "stdout",
     "output_type": "stream",
     "text": [
      "Wall time: 2.3 s\n"
     ]
    },
    {
     "data": {
      "text/plain": [
       "({'n_estimators': 90}, 0.710344827586207)"
      ]
     },
     "execution_count": 366,
     "metadata": {},
     "output_type": "execute_result"
    }
   ],
   "source": [
    "%%time\n",
    "param_test1 = {'n_estimators':range(50,200,10)}\n",
    "gsearch1 = GridSearchCV(estimator = XGBClassifier(random_state=0), \n",
    "                       param_grid = param_test1, scoring='recall',cv=5)\n",
    "gsearch1.fit(X_train,y_train)\n",
    "gsearch1.best_params_, gsearch1.best_score_"
   ]
  },
  {
   "cell_type": "markdown",
   "metadata": {},
   "source": [
    "### min_child_weight & max_depth"
   ]
  },
  {
   "cell_type": "code",
   "execution_count": 367,
   "metadata": {},
   "outputs": [
    {
     "name": "stdout",
     "output_type": "stream",
     "text": [
      "Wall time: 3.31 s\n"
     ]
    },
    {
     "data": {
      "text/plain": [
       "({'max_depth': 5, 'min_child_weight': 3}, 0.7793103448275862)"
      ]
     },
     "execution_count": 367,
     "metadata": {},
     "output_type": "execute_result"
    }
   ],
   "source": [
    "%%time\n",
    "param_test2 = {\n",
    " 'max_depth':[2,3,4,5,6],\n",
    " 'min_child_weight':[2,3,4,5,6,7]\n",
    "}\n",
    "gsearch2 = GridSearchCV(estimator = XGBClassifier(n_estimators=90,random_state=0), \n",
    "                       param_grid = param_test2, scoring='recall',cv=5)\n",
    "gsearch2.fit(X_train,y_train)\n",
    "gsearch2.best_params_, gsearch2.best_score_"
   ]
  },
  {
   "cell_type": "markdown",
   "metadata": {},
   "source": [
    "### Gamma"
   ]
  },
  {
   "cell_type": "code",
   "execution_count": 368,
   "metadata": {},
   "outputs": [
    {
     "name": "stdout",
     "output_type": "stream",
     "text": [
      "Wall time: 2.39 s\n"
     ]
    },
    {
     "data": {
      "text/plain": [
       "({'gamma': 0.42}, 0.7793103448275863)"
      ]
     },
     "execution_count": 368,
     "metadata": {},
     "output_type": "execute_result"
    }
   ],
   "source": [
    "%%time\n",
    "param_test3 = {\n",
    " 'gamma':[i/100.0 for i in range(25,45, 1)]\n",
    "}\n",
    "gsearch3 = GridSearchCV(estimator = XGBClassifier(n_estimators=90,max_depth=5, min_child_weight=3, random_state=0), \n",
    "                       param_grid = param_test3, scoring='recall',cv=5)\n",
    "gsearch3.fit(X_train,y_train)\n",
    "gsearch3.best_params_, gsearch3.best_score_"
   ]
  },
  {
   "cell_type": "markdown",
   "metadata": {},
   "source": [
    "### subsample & colsample_bytree"
   ]
  },
  {
   "cell_type": "code",
   "execution_count": 369,
   "metadata": {},
   "outputs": [
    {
     "name": "stdout",
     "output_type": "stream",
     "text": [
      "Wall time: 26.2 s\n"
     ]
    },
    {
     "data": {
      "text/plain": [
       "({'colsample_bytree': 0.92, 'subsample': 0.81}, 0.7862068965517242)"
      ]
     },
     "execution_count": 369,
     "metadata": {},
     "output_type": "execute_result"
    }
   ],
   "source": [
    "%%time\n",
    "param_test4 = {\n",
    " 'subsample':[i/100.0 for i in range(80,100)],\n",
    " 'colsample_bytree':[i/100.0 for i in range(90,101)]\n",
    "}\n",
    "gsearch4 = GridSearchCV(estimator = XGBClassifier(n_estimators=90,max_depth=5, min_child_weight=3, gamma=0.42, random_state=0), \n",
    "                       param_grid = param_test4, scoring='recall',cv=5)\n",
    "gsearch4.fit(X_train,y_train)\n",
    "gsearch4.best_params_, gsearch4.best_score_"
   ]
  },
  {
   "cell_type": "markdown",
   "metadata": {},
   "source": [
    "### reg_alpha & reg_lambda"
   ]
  },
  {
   "cell_type": "code",
   "execution_count": 370,
   "metadata": {},
   "outputs": [
    {
     "name": "stdout",
     "output_type": "stream",
     "text": [
      "Wall time: 2.44 s\n"
     ]
    },
    {
     "data": {
      "text/plain": [
       "({'reg_alpha': 0, 'reg_lambda': 1}, 0.7862068965517242)"
      ]
     },
     "execution_count": 370,
     "metadata": {},
     "output_type": "execute_result"
    }
   ],
   "source": [
    "%%time\n",
    "param_test5 = {\n",
    " 'reg_alpha':[0, 1e-3, 2e-3, 3e-3, 4e-3],\n",
    " 'reg_lambda': [0.5, 1, 1.5, 2]\n",
    "}\n",
    "gsearch5 = GridSearchCV(estimator = XGBClassifier(n_estimators=90,max_depth=5, min_child_weight=3, gamma=0.42, colsample_bytree=0.92, subsample=0.81,random_state=0), \n",
    "                       param_grid = param_test5, scoring='recall',cv=5)\n",
    "gsearch5.fit(X_train,y_train)\n",
    "gsearch5.best_params_, gsearch5.best_score_"
   ]
  },
  {
   "cell_type": "markdown",
   "metadata": {},
   "source": [
    "### learning_rate"
   ]
  },
  {
   "cell_type": "code",
   "execution_count": 377,
   "metadata": {},
   "outputs": [
    {
     "name": "stdout",
     "output_type": "stream",
     "text": [
      "Wall time: 980 ms\n"
     ]
    },
    {
     "data": {
      "text/plain": [
       "({'learning_rate': 0.3}, 0.7862068965517242)"
      ]
     },
     "execution_count": 377,
     "metadata": {},
     "output_type": "execute_result"
    }
   ],
   "source": [
    "%%time\n",
    "param_test6 = {\n",
    "    'learning_rate': [0.01, 0.05, 0.07, 0.1, 0.2, 0.25, 0.3]\n",
    "}\n",
    "gsearch6 = GridSearchCV(estimator = XGBClassifier(n_estimators=90,max_depth=5, min_child_weight=3, gamma=0.42, colsample_bytree=0.92, subsample=0.81, reg_alpha=0, reg_lambda=1, random_state=0), \n",
    "                       param_grid = param_test6, scoring='recall',cv=5)\n",
    "gsearch6.fit(X_train,y_train)\n",
    "gsearch6.best_params_, gsearch6.best_score_"
   ]
  },
  {
   "cell_type": "code",
   "execution_count": 393,
   "metadata": {},
   "outputs": [
    {
     "name": "stdout",
     "output_type": "stream",
     "text": [
      "ACC: 0.6640625\n",
      "REC: 0.5970149253731343\n",
      "SPC: 0.7377049180327869\n",
      "AUC: 0.7700024467824811\n"
     ]
    }
   ],
   "source": [
    "xgb2 = XGBClassifier(n_estimators=90,max_depth=5, min_child_weight=3, gamma=0.34, colsample_bytree=0.92, subsample=0.81, reg_alpha=0, reg_lambda=1, learning_rate=0.3,random_state=0)\n",
    "xgb2.fit(X_train,y_train)\n",
    "y_pred = xgb2.predict(X_test)\n",
    "tn, fp, fn, tp = confusion_matrix(y_test, y_pred).ravel()\n",
    "\n",
    "xgb_prob = xgb2.predict_proba(X_test)[:,1]\n",
    "xgb_fpr, xgb_tpr, _ = roc_curve(y_test, xgb_prob)\n",
    "xgb_auc = auc(xgb_fpr, xgb_tpr)\n",
    "\n",
    "print(\"ACC:\",accuracy_score(y_test, y_pred))\n",
    "print(\"REC:\",recall_score(y_test, y_pred))\n",
    "print(\"SPC:\",tn/(tn+fp))\n",
    "print(\"AUC:\",xgb_auc)"
   ]
  },
  {
   "cell_type": "code",
   "execution_count": 334,
   "metadata": {
    "collapsed": true
   },
   "outputs": [
    {
     "data": {
      "text/html": [
       "<div>\n",
       "<style scoped>\n",
       "    .dataframe tbody tr th:only-of-type {\n",
       "        vertical-align: middle;\n",
       "    }\n",
       "\n",
       "    .dataframe tbody tr th {\n",
       "        vertical-align: top;\n",
       "    }\n",
       "\n",
       "    .dataframe thead th {\n",
       "        text-align: right;\n",
       "    }\n",
       "</style>\n",
       "<table border=\"1\" class=\"dataframe\">\n",
       "  <thead>\n",
       "    <tr style=\"text-align: right;\">\n",
       "      <th></th>\n",
       "      <th>rf_importance</th>\n",
       "      <th>xgb_importance</th>\n",
       "    </tr>\n",
       "  </thead>\n",
       "  <tbody>\n",
       "    <tr>\n",
       "      <th>BASO</th>\n",
       "      <td>0.033166</td>\n",
       "      <td>0.048534</td>\n",
       "    </tr>\n",
       "    <tr>\n",
       "      <th>RBC</th>\n",
       "      <td>0.042941</td>\n",
       "      <td>0.037253</td>\n",
       "    </tr>\n",
       "    <tr>\n",
       "      <th>PLT</th>\n",
       "      <td>0.034554</td>\n",
       "      <td>0.036376</td>\n",
       "    </tr>\n",
       "    <tr>\n",
       "      <th>BUN</th>\n",
       "      <td>0.030496</td>\n",
       "      <td>0.034813</td>\n",
       "    </tr>\n",
       "    <tr>\n",
       "      <th>MCV</th>\n",
       "      <td>0.027678</td>\n",
       "      <td>0.034582</td>\n",
       "    </tr>\n",
       "    <tr>\n",
       "      <th>RDW-CV</th>\n",
       "      <td>0.034931</td>\n",
       "      <td>0.033044</td>\n",
       "    </tr>\n",
       "    <tr>\n",
       "      <th>TP</th>\n",
       "      <td>0.032907</td>\n",
       "      <td>0.032932</td>\n",
       "    </tr>\n",
       "    <tr>\n",
       "      <th>RDW-SD</th>\n",
       "      <td>0.006911</td>\n",
       "      <td>0.031402</td>\n",
       "    </tr>\n",
       "    <tr>\n",
       "      <th>NEUT</th>\n",
       "      <td>0.054752</td>\n",
       "      <td>0.031271</td>\n",
       "    </tr>\n",
       "    <tr>\n",
       "      <th>GLU</th>\n",
       "      <td>0.049081</td>\n",
       "      <td>0.031186</td>\n",
       "    </tr>\n",
       "    <tr>\n",
       "      <th>AST:ALT</th>\n",
       "      <td>0.043177</td>\n",
       "      <td>0.030443</td>\n",
       "    </tr>\n",
       "    <tr>\n",
       "      <th>Cr</th>\n",
       "      <td>0.029616</td>\n",
       "      <td>0.029815</td>\n",
       "    </tr>\n",
       "    <tr>\n",
       "      <th>DBIL</th>\n",
       "      <td>0.018945</td>\n",
       "      <td>0.029207</td>\n",
       "    </tr>\n",
       "    <tr>\n",
       "      <th>CK</th>\n",
       "      <td>0.062062</td>\n",
       "      <td>0.028930</td>\n",
       "    </tr>\n",
       "    <tr>\n",
       "      <th>BASO%</th>\n",
       "      <td>0.036049</td>\n",
       "      <td>0.028897</td>\n",
       "    </tr>\n",
       "    <tr>\n",
       "      <th>T-CEA</th>\n",
       "      <td>0.021970</td>\n",
       "      <td>0.028543</td>\n",
       "    </tr>\n",
       "    <tr>\n",
       "      <th>ALT</th>\n",
       "      <td>0.029260</td>\n",
       "      <td>0.028384</td>\n",
       "    </tr>\n",
       "    <tr>\n",
       "      <th>LYM%</th>\n",
       "      <td>0.041383</td>\n",
       "      <td>0.027893</td>\n",
       "    </tr>\n",
       "    <tr>\n",
       "      <th>AST</th>\n",
       "      <td>0.010016</td>\n",
       "      <td>0.027609</td>\n",
       "    </tr>\n",
       "    <tr>\n",
       "      <th>HDL-C</th>\n",
       "      <td>0.032644</td>\n",
       "      <td>0.026734</td>\n",
       "    </tr>\n",
       "    <tr>\n",
       "      <th>TG</th>\n",
       "      <td>0.039540</td>\n",
       "      <td>0.026273</td>\n",
       "    </tr>\n",
       "    <tr>\n",
       "      <th>ALB</th>\n",
       "      <td>0.013287</td>\n",
       "      <td>0.026153</td>\n",
       "    </tr>\n",
       "    <tr>\n",
       "      <th>HBDH</th>\n",
       "      <td>0.035417</td>\n",
       "      <td>0.026108</td>\n",
       "    </tr>\n",
       "    <tr>\n",
       "      <th>Cystatin-C</th>\n",
       "      <td>0.023802</td>\n",
       "      <td>0.026088</td>\n",
       "    </tr>\n",
       "    <tr>\n",
       "      <th>MONO</th>\n",
       "      <td>0.025655</td>\n",
       "      <td>0.025216</td>\n",
       "    </tr>\n",
       "    <tr>\n",
       "      <th>Age</th>\n",
       "      <td>0.013774</td>\n",
       "      <td>0.024703</td>\n",
       "    </tr>\n",
       "    <tr>\n",
       "      <th>MONO%</th>\n",
       "      <td>0.016401</td>\n",
       "      <td>0.024341</td>\n",
       "    </tr>\n",
       "    <tr>\n",
       "      <th>MCHC</th>\n",
       "      <td>0.016510</td>\n",
       "      <td>0.023409</td>\n",
       "    </tr>\n",
       "    <tr>\n",
       "      <th>LYMPH</th>\n",
       "      <td>0.020483</td>\n",
       "      <td>0.023105</td>\n",
       "    </tr>\n",
       "    <tr>\n",
       "      <th>MCH</th>\n",
       "      <td>0.023423</td>\n",
       "      <td>0.022741</td>\n",
       "    </tr>\n",
       "    <tr>\n",
       "      <th>HGB</th>\n",
       "      <td>0.018951</td>\n",
       "      <td>0.021313</td>\n",
       "    </tr>\n",
       "    <tr>\n",
       "      <th>LDL-C</th>\n",
       "      <td>0.020171</td>\n",
       "      <td>0.019770</td>\n",
       "    </tr>\n",
       "    <tr>\n",
       "      <th>A/G</th>\n",
       "      <td>0.007336</td>\n",
       "      <td>0.018688</td>\n",
       "    </tr>\n",
       "    <tr>\n",
       "      <th>ALP</th>\n",
       "      <td>0.020209</td>\n",
       "      <td>0.018269</td>\n",
       "    </tr>\n",
       "    <tr>\n",
       "      <th>GGT</th>\n",
       "      <td>0.021040</td>\n",
       "      <td>0.018082</td>\n",
       "    </tr>\n",
       "    <tr>\n",
       "      <th>UA</th>\n",
       "      <td>0.007906</td>\n",
       "      <td>0.017893</td>\n",
       "    </tr>\n",
       "    <tr>\n",
       "      <th>Smoke</th>\n",
       "      <td>0.003556</td>\n",
       "      <td>0.000000</td>\n",
       "    </tr>\n",
       "  </tbody>\n",
       "</table>\n",
       "</div>"
      ],
      "text/plain": [
       "            rf_importance  xgb_importance\n",
       "BASO             0.033166        0.048534\n",
       "RBC              0.042941        0.037253\n",
       "PLT              0.034554        0.036376\n",
       "BUN              0.030496        0.034813\n",
       "MCV              0.027678        0.034582\n",
       "RDW-CV           0.034931        0.033044\n",
       "TP               0.032907        0.032932\n",
       "RDW-SD           0.006911        0.031402\n",
       "NEUT             0.054752        0.031271\n",
       "GLU              0.049081        0.031186\n",
       "AST:ALT          0.043177        0.030443\n",
       "Cr               0.029616        0.029815\n",
       "DBIL             0.018945        0.029207\n",
       "CK               0.062062        0.028930\n",
       "BASO%            0.036049        0.028897\n",
       "T-CEA            0.021970        0.028543\n",
       "ALT              0.029260        0.028384\n",
       "LYM%             0.041383        0.027893\n",
       "AST              0.010016        0.027609\n",
       "HDL-C            0.032644        0.026734\n",
       "TG               0.039540        0.026273\n",
       "ALB              0.013287        0.026153\n",
       "HBDH             0.035417        0.026108\n",
       "Cystatin-C       0.023802        0.026088\n",
       "MONO             0.025655        0.025216\n",
       "Age              0.013774        0.024703\n",
       "MONO%            0.016401        0.024341\n",
       "MCHC             0.016510        0.023409\n",
       "LYMPH            0.020483        0.023105\n",
       "MCH              0.023423        0.022741\n",
       "HGB              0.018951        0.021313\n",
       "LDL-C            0.020171        0.019770\n",
       "A/G              0.007336        0.018688\n",
       "ALP              0.020209        0.018269\n",
       "GGT              0.021040        0.018082\n",
       "UA               0.007906        0.017893\n",
       "Smoke            0.003556        0.000000"
      ]
     },
     "execution_count": 334,
     "metadata": {},
     "output_type": "execute_result"
    }
   ],
   "source": [
    "importances['xgb_importance'] = pd.DataFrame(xgb2.feature_importances_, index=X_train.columns)\n",
    "importances.sort_values(by='xgb_importance', ascending=False)"
   ]
  },
  {
   "cell_type": "markdown",
   "metadata": {},
   "source": [
    "# model export"
   ]
  },
  {
   "cell_type": "code",
   "execution_count": 198,
   "metadata": {},
   "outputs": [],
   "source": [
    "from joblib import dump, load"
   ]
  },
  {
   "cell_type": "code",
   "execution_count": 399,
   "metadata": {},
   "outputs": [
    {
     "data": {
      "text/plain": [
       "['../model/xgb_clf_mini']"
      ]
     },
     "execution_count": 399,
     "metadata": {},
     "output_type": "execute_result"
    }
   ],
   "source": [
    "dump(rf2, '../model/rf_clf_mini')\n",
    "dump(xgb2, '../model/xgb_clf_mini')"
   ]
  }
 ],
 "metadata": {
  "kernelspec": {
   "display_name": "Python 3",
   "language": "python",
   "name": "python3"
  },
  "language_info": {
   "codemirror_mode": {
    "name": "ipython",
    "version": 3
   },
   "file_extension": ".py",
   "mimetype": "text/x-python",
   "name": "python",
   "nbconvert_exporter": "python",
   "pygments_lexer": "ipython3",
   "version": "3.8.3"
  }
 },
 "nbformat": 4,
 "nbformat_minor": 4
}
