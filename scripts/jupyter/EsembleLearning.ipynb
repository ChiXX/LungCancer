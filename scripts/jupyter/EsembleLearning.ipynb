{
 "cells": [
  {
   "cell_type": "code",
   "execution_count": 1,
   "metadata": {},
   "outputs": [],
   "source": [
    "import pandas as pd\n",
    "import numpy as np\n",
    "import matplotlib.pyplot as plt\n",
    "from sklearn.ensemble import RandomForestClassifier\n",
    "from sklearn.metrics import roc_curve, auc, recall_score, accuracy_score, f1_score, confusion_matrix\n",
    "from sklearn.model_selection import train_test_split, GridSearchCV, cross_val_score,cross_validate"
   ]
  },
  {
   "cell_type": "markdown",
   "metadata": {},
   "source": [
    "## Data preparing"
   ]
  },
  {
   "cell_type": "code",
   "execution_count": 5,
   "metadata": {},
   "outputs": [],
   "source": [
    "cancer_data = pd.read_csv('../../data/cancer_data_v4.csv')\n",
    "\n",
    "cancer_data.drop(['WBC', 'EO%', 'EO', 'GLO', 'NEUT%', 'HCT', 'TCH','TBIL', 'IBIL', 'LDH-L'], axis=1, inplace=True)\n",
    "for fea in cancer_data.columns[6:]:\n",
    "    median = cancer_data.groupby(['Origin','Age_group', 'A=male B=female'])[fea].median()\n",
    "    cancer_data.set_index(['Origin','Age_group', 'A=male B=female'], inplace=True)\n",
    "    cancer_data[fea].fillna(median, inplace=True)\n",
    "    cancer_data.reset_index(inplace=True)\n",
    "cancer_data['A=Case, B=Control'] = cancer_data['A=Case, B=Control'].apply(lambda x: 1 if x=='A' else 0)\n",
    "\n",
    "group_b = cancer_data[cancer_data['Origin']=='B']\n",
    "group_c = cancer_data[cancer_data['Origin']=='C'].sample(n=212,random_state=0)\n",
    "\n",
    "data_bc = pd.concat([group_b,group_c], axis=0).sample(frac=1,random_state=0)# 424\n",
    "data_ac = cancer_data.append(data_bc).drop_duplicates(keep=False).sample(frac=1,random_state=0) # 7368"
   ]
  },
  {
   "cell_type": "code",
   "execution_count": 6,
   "metadata": {},
   "outputs": [],
   "source": [
    "X1, y1 = data_bc.drop(['Origin','Age_group','A=male B=female','ID', 'A=Case, B=Control', 'Pattern'], axis=1), data_bc['A=Case, B=Control']\n",
    "X2, y2 = data_ac.drop(['Origin','Age_group','A=male B=female','ID', 'A=Case, B=Control', 'Pattern'], axis=1), data_ac['A=Case, B=Control']"
   ]
  },
  {
   "cell_type": "markdown",
   "metadata": {},
   "source": [
    "## RandomForestClassifier"
   ]
  },
  {
   "cell_type": "code",
   "execution_count": 32,
   "metadata": {},
   "outputs": [
    {
     "name": "stdout",
     "output_type": "stream",
     "text": [
      "0.9698697068403909\n"
     ]
    }
   ],
   "source": [
    "rf = RandomForestClassifier(n_estimators= 260, oob_score=True,random_state=0)\n",
    "rf.fit(X2, y2)\n",
    "print(rf.oob_score_) # 0.9698697068403909"
   ]
  },
  {
   "cell_type": "markdown",
   "metadata": {},
   "source": [
    "# n_estimators"
   ]
  },
  {
   "cell_type": "code",
   "execution_count": 9,
   "metadata": {},
   "outputs": [
    {
     "name": "stdout",
     "output_type": "stream",
     "text": [
      "Wall time: 6min 2s\n"
     ]
    },
    {
     "data": {
      "text/plain": [
       "({'n_estimators': 260}, 0.9682710923794147)"
      ]
     },
     "execution_count": 9,
     "metadata": {},
     "output_type": "execute_result"
    }
   ],
   "source": [
    "%%time\n",
    "param_test1 = {'n_estimators':range(150,350,10)}\n",
    "gsearch1 = GridSearchCV(estimator = RandomForestClassifier(random_state=0), param_grid = param_test1, scoring='recall',cv=5)\n",
    "gsearch1.fit(X2,y2)\n",
    "gsearch1.best_params_, gsearch1.best_score_"
   ]
  },
  {
   "cell_type": "markdown",
   "metadata": {},
   "source": [
    "### max_depth & min_samples_split"
   ]
  },
  {
   "cell_type": "code",
   "execution_count": 19,
   "metadata": {},
   "outputs": [
    {
     "name": "stdout",
     "output_type": "stream",
     "text": [
      "Wall time: 26min 38s\n"
     ]
    },
    {
     "data": {
      "text/plain": [
       "({'max_depth': 20, 'min_samples_split': 10}, 0.9672132407931615)"
      ]
     },
     "execution_count": 19,
     "metadata": {},
     "output_type": "execute_result"
    }
   ],
   "source": [
    "%%time\n",
    "param_test2 = {'max_depth':range(10,51,5), 'min_samples_split':range(10,101,10)}\n",
    "gsearch2 = GridSearchCV(estimator = RandomForestClassifier(n_estimators= 260,random_state=0), param_grid = param_test2, scoring='recall', cv=5)\n",
    "gsearch2.fit(X2,y2)\n",
    "gsearch2.best_params_, gsearch2.best_score_"
   ]
  },
  {
   "cell_type": "markdown",
   "metadata": {},
   "source": [
    "### min_samples_split & min_samples_leaf"
   ]
  },
  {
   "cell_type": "code",
   "execution_count": 23,
   "metadata": {},
   "outputs": [
    {
     "name": "stdout",
     "output_type": "stream",
     "text": [
      "Wall time: 5min 53s\n"
     ]
    },
    {
     "data": {
      "text/plain": [
       "({'min_samples_leaf': 10, 'min_samples_split': 10}, 0.9566399670098482)"
      ]
     },
     "execution_count": 23,
     "metadata": {},
     "output_type": "execute_result"
    }
   ],
   "source": [
    "%%time\n",
    "param_test3 = {'min_samples_split':range(10,101,20), 'min_samples_leaf':range(10,101,20)}\n",
    "gsearch3 = GridSearchCV(estimator = RandomForestClassifier(n_estimators= 260, max_depth=20,oob_score=True, random_state=0), param_grid = param_test3, scoring='recall', cv=5)\n",
    "gsearch3.fit(X2,y2)\n",
    "gsearch3.best_params_, gsearch3.best_score_"
   ]
  },
  {
   "cell_type": "markdown",
   "metadata": {},
   "source": [
    "### max_features"
   ]
  },
  {
   "cell_type": "code",
   "execution_count": 28,
   "metadata": {},
   "outputs": [
    {
     "name": "stdout",
     "output_type": "stream",
     "text": [
      "Wall time: 11min 27s\n"
     ]
    },
    {
     "data": {
      "text/plain": [
       "({'max_features': 22}, 0.9706520447603669)"
      ]
     },
     "execution_count": 28,
     "metadata": {},
     "output_type": "execute_result"
    }
   ],
   "source": [
    "%%time\n",
    "param_test4 = {'max_features':range(2,30,2)}\n",
    "gsearch4 = GridSearchCV(estimator = RandomForestClassifier(n_estimators= 260, oob_score=True, random_state=0), param_grid = param_test4, scoring='recall', cv=5)\n",
    "gsearch4.fit(X2,y2)\n",
    "gsearch4.best_params_, gsearch4.best_score_"
   ]
  },
  {
   "cell_type": "code",
   "execution_count": 33,
   "metadata": {},
   "outputs": [
    {
     "name": "stdout",
     "output_type": "stream",
     "text": [
      "ACC: 0.5377358490566038\n",
      "REC: 0.08490566037735849\n",
      "SPC: 0.9905660377358491\n",
      "AUC: 0.7150787646849414\n"
     ]
    }
   ],
   "source": [
    "rf2 = RandomForestClassifier(n_estimators= 260, oob_score=True, random_state=0)\n",
    "rf2.fit(X2,y2)\n",
    "\n",
    "y_pred = rf2.predict(X1)\n",
    "tn, fp, fn, tp = confusion_matrix(y1, y_pred).ravel()\n",
    "\n",
    "rf_prob = rf2.predict_proba(X1)[:,1]\n",
    "rf_fpr, rf_tpr, _ = roc_curve(y1, rf_prob)\n",
    "rf_auc = auc(rf_fpr, rf_tpr)\n",
    "\n",
    "print(\"ACC:\",accuracy_score(y1, y_pred))\n",
    "print(\"REC:\",recall_score(y1, y_pred))\n",
    "print(\"SPC:\",tn/(tn+fp))\n",
    "print(\"AUC:\",rf_auc)"
   ]
  },
  {
   "cell_type": "code",
   "execution_count": 375,
   "metadata": {},
   "outputs": [],
   "source": [
    "importances = pd.DataFrame(rf2.feature_importances_, columns = ['rf_importance'], index=X_train.columns).sort_values(by='rf_importance', ascending=False)"
   ]
  },
  {
   "cell_type": "markdown",
   "metadata": {},
   "source": [
    "## XGBoost"
   ]
  },
  {
   "cell_type": "code",
   "execution_count": 35,
   "metadata": {},
   "outputs": [],
   "source": [
    "from xgboost import XGBClassifier"
   ]
  },
  {
   "cell_type": "markdown",
   "metadata": {},
   "source": [
    "### n_estimators"
   ]
  },
  {
   "cell_type": "code",
   "execution_count": 38,
   "metadata": {},
   "outputs": [
    {
     "name": "stdout",
     "output_type": "stream",
     "text": [
      "Wall time: 27.1 s\n"
     ]
    },
    {
     "data": {
      "text/plain": [
       "({'n_estimators': 120}, 1.0)"
      ]
     },
     "execution_count": 38,
     "metadata": {},
     "output_type": "execute_result"
    }
   ],
   "source": [
    "%%time\n",
    "param_test1 = {'n_estimators':range(50,200,10)}\n",
    "gsearch1 = GridSearchCV(estimator = XGBClassifier(random_state=0), \n",
    "                       param_grid = param_test1, scoring='recall',cv=5)\n",
    "gsearch1.fit(X2,y2)\n",
    "gsearch1.best_params_, gsearch1.best_score_"
   ]
  },
  {
   "cell_type": "markdown",
   "metadata": {},
   "source": [
    "### min_child_weight & max_depth"
   ]
  },
  {
   "cell_type": "code",
   "execution_count": 40,
   "metadata": {},
   "outputs": [
    {
     "name": "stdout",
     "output_type": "stream",
     "text": [
      "Wall time: 39.7 s\n"
     ]
    },
    {
     "data": {
      "text/plain": [
       "({'max_depth': 5, 'min_child_weight': 3}, 1.0)"
      ]
     },
     "execution_count": 40,
     "metadata": {},
     "output_type": "execute_result"
    }
   ],
   "source": [
    "%%time\n",
    "param_test2 = {\n",
    " 'max_depth':[2,3,4,5,6],\n",
    " 'min_child_weight':[2,3,4,5,6,7]\n",
    "}\n",
    "gsearch2 = GridSearchCV(estimator = XGBClassifier(n_estimators=120,random_state=0), \n",
    "                       param_grid = param_test2, scoring='recall',cv=5)\n",
    "gsearch2.fit(X2,y2)\n",
    "gsearch2.best_params_, gsearch2.best_score_"
   ]
  },
  {
   "cell_type": "markdown",
   "metadata": {},
   "source": [
    "### Gamma"
   ]
  },
  {
   "cell_type": "code",
   "execution_count": 368,
   "metadata": {},
   "outputs": [
    {
     "name": "stdout",
     "output_type": "stream",
     "text": [
      "Wall time: 2.39 s\n"
     ]
    },
    {
     "data": {
      "text/plain": [
       "({'gamma': 0.42}, 0.7793103448275863)"
      ]
     },
     "execution_count": 368,
     "metadata": {},
     "output_type": "execute_result"
    }
   ],
   "source": [
    "%%time\n",
    "param_test3 = {\n",
    " 'gamma':[i/100.0 for i in range(25,45, 1)]\n",
    "}\n",
    "gsearch3 = GridSearchCV(estimator = XGBClassifier(n_estimators=90,max_depth=5, min_child_weight=3, random_state=0), \n",
    "                       param_grid = param_test3, scoring='recall',cv=5)\n",
    "gsearch3.fit(X_train,y_train)\n",
    "gsearch3.best_params_, gsearch3.best_score_"
   ]
  },
  {
   "cell_type": "markdown",
   "metadata": {},
   "source": [
    "### subsample & colsample_bytree"
   ]
  },
  {
   "cell_type": "code",
   "execution_count": 369,
   "metadata": {},
   "outputs": [
    {
     "name": "stdout",
     "output_type": "stream",
     "text": [
      "Wall time: 26.2 s\n"
     ]
    },
    {
     "data": {
      "text/plain": [
       "({'colsample_bytree': 0.92, 'subsample': 0.81}, 0.7862068965517242)"
      ]
     },
     "execution_count": 369,
     "metadata": {},
     "output_type": "execute_result"
    }
   ],
   "source": [
    "%%time\n",
    "param_test4 = {\n",
    " 'subsample':[i/100.0 for i in range(80,100)],\n",
    " 'colsample_bytree':[i/100.0 for i in range(90,101)]\n",
    "}\n",
    "gsearch4 = GridSearchCV(estimator = XGBClassifier(n_estimators=90,max_depth=5, min_child_weight=3, gamma=0.42, random_state=0), \n",
    "                       param_grid = param_test4, scoring='recall',cv=5)\n",
    "gsearch4.fit(X_train,y_train)\n",
    "gsearch4.best_params_, gsearch4.best_score_"
   ]
  },
  {
   "cell_type": "markdown",
   "metadata": {},
   "source": [
    "### reg_alpha & reg_lambda"
   ]
  },
  {
   "cell_type": "code",
   "execution_count": 370,
   "metadata": {},
   "outputs": [
    {
     "name": "stdout",
     "output_type": "stream",
     "text": [
      "Wall time: 2.44 s\n"
     ]
    },
    {
     "data": {
      "text/plain": [
       "({'reg_alpha': 0, 'reg_lambda': 1}, 0.7862068965517242)"
      ]
     },
     "execution_count": 370,
     "metadata": {},
     "output_type": "execute_result"
    }
   ],
   "source": [
    "%%time\n",
    "param_test5 = {\n",
    " 'reg_alpha':[0, 1e-3, 2e-3, 3e-3, 4e-3],\n",
    " 'reg_lambda': [0.5, 1, 1.5, 2]\n",
    "}\n",
    "gsearch5 = GridSearchCV(estimator = XGBClassifier(n_estimators=90,max_depth=5, min_child_weight=3, gamma=0.42, colsample_bytree=0.92, subsample=0.81,random_state=0), \n",
    "                       param_grid = param_test5, scoring='recall',cv=5)\n",
    "gsearch5.fit(X_train,y_train)\n",
    "gsearch5.best_params_, gsearch5.best_score_"
   ]
  },
  {
   "cell_type": "markdown",
   "metadata": {},
   "source": [
    "### learning_rate"
   ]
  },
  {
   "cell_type": "code",
   "execution_count": 377,
   "metadata": {},
   "outputs": [
    {
     "name": "stdout",
     "output_type": "stream",
     "text": [
      "Wall time: 980 ms\n"
     ]
    },
    {
     "data": {
      "text/plain": [
       "({'learning_rate': 0.3}, 0.7862068965517242)"
      ]
     },
     "execution_count": 377,
     "metadata": {},
     "output_type": "execute_result"
    }
   ],
   "source": [
    "%%time\n",
    "param_test6 = {\n",
    "    'learning_rate': [0.01, 0.05, 0.07, 0.1, 0.2, 0.25, 0.3]\n",
    "}\n",
    "gsearch6 = GridSearchCV(estimator = XGBClassifier(n_estimators=90,max_depth=5, min_child_weight=3, gamma=0.42, colsample_bytree=0.92, subsample=0.81, reg_alpha=0, reg_lambda=1, random_state=0), \n",
    "                       param_grid = param_test6, scoring='recall',cv=5)\n",
    "gsearch6.fit(X_train,y_train)\n",
    "gsearch6.best_params_, gsearch6.best_score_"
   ]
  },
  {
   "cell_type": "code",
   "execution_count": 42,
   "metadata": {},
   "outputs": [
    {
     "name": "stdout",
     "output_type": "stream",
     "text": [
      "ACC: 0.5023584905660378\n",
      "REC: 0.0047169811320754715\n",
      "SPC: 1.0\n",
      "AUC: 0.6608001067995729\n"
     ]
    }
   ],
   "source": [
    "xgb2 = XGBClassifier(n_estimators=120, random_state=0)\n",
    "xgb2.fit(X2,y2)\n",
    "y_pred = xgb2.predict(X1)\n",
    "tn, fp, fn, tp = confusion_matrix(y1, y_pred).ravel()\n",
    "\n",
    "xgb_prob = xgb2.predict_proba(X1)[:,1]\n",
    "xgb_fpr, xgb_tpr, _ = roc_curve(y1, xgb_prob)\n",
    "xgb_auc = auc(xgb_fpr, xgb_tpr)\n",
    "\n",
    "print(\"ACC:\",accuracy_score(y1, y_pred))\n",
    "print(\"REC:\",recall_score(y1, y_pred))\n",
    "print(\"SPC:\",tn/(tn+fp))\n",
    "print(\"AUC:\",xgb_auc)"
   ]
  },
  {
   "cell_type": "code",
   "execution_count": 334,
   "metadata": {
    "collapsed": true
   },
   "outputs": [
    {
     "data": {
      "text/html": [
       "<div>\n",
       "<style scoped>\n",
       "    .dataframe tbody tr th:only-of-type {\n",
       "        vertical-align: middle;\n",
       "    }\n",
       "\n",
       "    .dataframe tbody tr th {\n",
       "        vertical-align: top;\n",
       "    }\n",
       "\n",
       "    .dataframe thead th {\n",
       "        text-align: right;\n",
       "    }\n",
       "</style>\n",
       "<table border=\"1\" class=\"dataframe\">\n",
       "  <thead>\n",
       "    <tr style=\"text-align: right;\">\n",
       "      <th></th>\n",
       "      <th>rf_importance</th>\n",
       "      <th>xgb_importance</th>\n",
       "    </tr>\n",
       "  </thead>\n",
       "  <tbody>\n",
       "    <tr>\n",
       "      <th>BASO</th>\n",
       "      <td>0.033166</td>\n",
       "      <td>0.048534</td>\n",
       "    </tr>\n",
       "    <tr>\n",
       "      <th>RBC</th>\n",
       "      <td>0.042941</td>\n",
       "      <td>0.037253</td>\n",
       "    </tr>\n",
       "    <tr>\n",
       "      <th>PLT</th>\n",
       "      <td>0.034554</td>\n",
       "      <td>0.036376</td>\n",
       "    </tr>\n",
       "    <tr>\n",
       "      <th>BUN</th>\n",
       "      <td>0.030496</td>\n",
       "      <td>0.034813</td>\n",
       "    </tr>\n",
       "    <tr>\n",
       "      <th>MCV</th>\n",
       "      <td>0.027678</td>\n",
       "      <td>0.034582</td>\n",
       "    </tr>\n",
       "    <tr>\n",
       "      <th>RDW-CV</th>\n",
       "      <td>0.034931</td>\n",
       "      <td>0.033044</td>\n",
       "    </tr>\n",
       "    <tr>\n",
       "      <th>TP</th>\n",
       "      <td>0.032907</td>\n",
       "      <td>0.032932</td>\n",
       "    </tr>\n",
       "    <tr>\n",
       "      <th>RDW-SD</th>\n",
       "      <td>0.006911</td>\n",
       "      <td>0.031402</td>\n",
       "    </tr>\n",
       "    <tr>\n",
       "      <th>NEUT</th>\n",
       "      <td>0.054752</td>\n",
       "      <td>0.031271</td>\n",
       "    </tr>\n",
       "    <tr>\n",
       "      <th>GLU</th>\n",
       "      <td>0.049081</td>\n",
       "      <td>0.031186</td>\n",
       "    </tr>\n",
       "    <tr>\n",
       "      <th>AST:ALT</th>\n",
       "      <td>0.043177</td>\n",
       "      <td>0.030443</td>\n",
       "    </tr>\n",
       "    <tr>\n",
       "      <th>Cr</th>\n",
       "      <td>0.029616</td>\n",
       "      <td>0.029815</td>\n",
       "    </tr>\n",
       "    <tr>\n",
       "      <th>DBIL</th>\n",
       "      <td>0.018945</td>\n",
       "      <td>0.029207</td>\n",
       "    </tr>\n",
       "    <tr>\n",
       "      <th>CK</th>\n",
       "      <td>0.062062</td>\n",
       "      <td>0.028930</td>\n",
       "    </tr>\n",
       "    <tr>\n",
       "      <th>BASO%</th>\n",
       "      <td>0.036049</td>\n",
       "      <td>0.028897</td>\n",
       "    </tr>\n",
       "    <tr>\n",
       "      <th>T-CEA</th>\n",
       "      <td>0.021970</td>\n",
       "      <td>0.028543</td>\n",
       "    </tr>\n",
       "    <tr>\n",
       "      <th>ALT</th>\n",
       "      <td>0.029260</td>\n",
       "      <td>0.028384</td>\n",
       "    </tr>\n",
       "    <tr>\n",
       "      <th>LYM%</th>\n",
       "      <td>0.041383</td>\n",
       "      <td>0.027893</td>\n",
       "    </tr>\n",
       "    <tr>\n",
       "      <th>AST</th>\n",
       "      <td>0.010016</td>\n",
       "      <td>0.027609</td>\n",
       "    </tr>\n",
       "    <tr>\n",
       "      <th>HDL-C</th>\n",
       "      <td>0.032644</td>\n",
       "      <td>0.026734</td>\n",
       "    </tr>\n",
       "    <tr>\n",
       "      <th>TG</th>\n",
       "      <td>0.039540</td>\n",
       "      <td>0.026273</td>\n",
       "    </tr>\n",
       "    <tr>\n",
       "      <th>ALB</th>\n",
       "      <td>0.013287</td>\n",
       "      <td>0.026153</td>\n",
       "    </tr>\n",
       "    <tr>\n",
       "      <th>HBDH</th>\n",
       "      <td>0.035417</td>\n",
       "      <td>0.026108</td>\n",
       "    </tr>\n",
       "    <tr>\n",
       "      <th>Cystatin-C</th>\n",
       "      <td>0.023802</td>\n",
       "      <td>0.026088</td>\n",
       "    </tr>\n",
       "    <tr>\n",
       "      <th>MONO</th>\n",
       "      <td>0.025655</td>\n",
       "      <td>0.025216</td>\n",
       "    </tr>\n",
       "    <tr>\n",
       "      <th>Age</th>\n",
       "      <td>0.013774</td>\n",
       "      <td>0.024703</td>\n",
       "    </tr>\n",
       "    <tr>\n",
       "      <th>MONO%</th>\n",
       "      <td>0.016401</td>\n",
       "      <td>0.024341</td>\n",
       "    </tr>\n",
       "    <tr>\n",
       "      <th>MCHC</th>\n",
       "      <td>0.016510</td>\n",
       "      <td>0.023409</td>\n",
       "    </tr>\n",
       "    <tr>\n",
       "      <th>LYMPH</th>\n",
       "      <td>0.020483</td>\n",
       "      <td>0.023105</td>\n",
       "    </tr>\n",
       "    <tr>\n",
       "      <th>MCH</th>\n",
       "      <td>0.023423</td>\n",
       "      <td>0.022741</td>\n",
       "    </tr>\n",
       "    <tr>\n",
       "      <th>HGB</th>\n",
       "      <td>0.018951</td>\n",
       "      <td>0.021313</td>\n",
       "    </tr>\n",
       "    <tr>\n",
       "      <th>LDL-C</th>\n",
       "      <td>0.020171</td>\n",
       "      <td>0.019770</td>\n",
       "    </tr>\n",
       "    <tr>\n",
       "      <th>A/G</th>\n",
       "      <td>0.007336</td>\n",
       "      <td>0.018688</td>\n",
       "    </tr>\n",
       "    <tr>\n",
       "      <th>ALP</th>\n",
       "      <td>0.020209</td>\n",
       "      <td>0.018269</td>\n",
       "    </tr>\n",
       "    <tr>\n",
       "      <th>GGT</th>\n",
       "      <td>0.021040</td>\n",
       "      <td>0.018082</td>\n",
       "    </tr>\n",
       "    <tr>\n",
       "      <th>UA</th>\n",
       "      <td>0.007906</td>\n",
       "      <td>0.017893</td>\n",
       "    </tr>\n",
       "    <tr>\n",
       "      <th>Smoke</th>\n",
       "      <td>0.003556</td>\n",
       "      <td>0.000000</td>\n",
       "    </tr>\n",
       "  </tbody>\n",
       "</table>\n",
       "</div>"
      ],
      "text/plain": [
       "            rf_importance  xgb_importance\n",
       "BASO             0.033166        0.048534\n",
       "RBC              0.042941        0.037253\n",
       "PLT              0.034554        0.036376\n",
       "BUN              0.030496        0.034813\n",
       "MCV              0.027678        0.034582\n",
       "RDW-CV           0.034931        0.033044\n",
       "TP               0.032907        0.032932\n",
       "RDW-SD           0.006911        0.031402\n",
       "NEUT             0.054752        0.031271\n",
       "GLU              0.049081        0.031186\n",
       "AST:ALT          0.043177        0.030443\n",
       "Cr               0.029616        0.029815\n",
       "DBIL             0.018945        0.029207\n",
       "CK               0.062062        0.028930\n",
       "BASO%            0.036049        0.028897\n",
       "T-CEA            0.021970        0.028543\n",
       "ALT              0.029260        0.028384\n",
       "LYM%             0.041383        0.027893\n",
       "AST              0.010016        0.027609\n",
       "HDL-C            0.032644        0.026734\n",
       "TG               0.039540        0.026273\n",
       "ALB              0.013287        0.026153\n",
       "HBDH             0.035417        0.026108\n",
       "Cystatin-C       0.023802        0.026088\n",
       "MONO             0.025655        0.025216\n",
       "Age              0.013774        0.024703\n",
       "MONO%            0.016401        0.024341\n",
       "MCHC             0.016510        0.023409\n",
       "LYMPH            0.020483        0.023105\n",
       "MCH              0.023423        0.022741\n",
       "HGB              0.018951        0.021313\n",
       "LDL-C            0.020171        0.019770\n",
       "A/G              0.007336        0.018688\n",
       "ALP              0.020209        0.018269\n",
       "GGT              0.021040        0.018082\n",
       "UA               0.007906        0.017893\n",
       "Smoke            0.003556        0.000000"
      ]
     },
     "execution_count": 334,
     "metadata": {},
     "output_type": "execute_result"
    }
   ],
   "source": [
    "importances['xgb_importance'] = pd.DataFrame(xgb2.feature_importances_, index=X_train.columns)\n",
    "importances.sort_values(by='xgb_importance', ascending=False)"
   ]
  },
  {
   "cell_type": "markdown",
   "metadata": {},
   "source": [
    "# model export"
   ]
  },
  {
   "cell_type": "code",
   "execution_count": 43,
   "metadata": {},
   "outputs": [],
   "source": [
    "from joblib import dump, load"
   ]
  },
  {
   "cell_type": "code",
   "execution_count": 44,
   "metadata": {},
   "outputs": [
    {
     "data": {
      "text/plain": [
       "['../model/xgb_clf']"
      ]
     },
     "execution_count": 44,
     "metadata": {},
     "output_type": "execute_result"
    }
   ],
   "source": [
    "# dump(rf2, '../model/rf_clf')\n",
    "# dump(xgb2, '../model/xgb_clf')"
   ]
  }
 ],
 "metadata": {
  "kernelspec": {
   "display_name": "Python 3",
   "language": "python",
   "name": "python3"
  },
  "language_info": {
   "codemirror_mode": {
    "name": "ipython",
    "version": 3
   },
   "file_extension": ".py",
   "mimetype": "text/x-python",
   "name": "python",
   "nbconvert_exporter": "python",
   "pygments_lexer": "ipython3",
   "version": "3.8.3"
  }
 },
 "nbformat": 4,
 "nbformat_minor": 4
}
