{
 "cells": [
  {
   "cell_type": "code",
   "execution_count": 5,
   "metadata": {},
   "outputs": [],
   "source": [
    "import pandas as pd\n",
    "import numpy as np\n",
    "import matplotlib.pyplot as plt\n",
    "from sklearn.ensemble import RandomForestClassifier\n",
    "from sklearn.metrics import roc_curve, auc, recall_score, accuracy_score, f1_score\n",
    "from sklearn.model_selection import train_test_split, GridSearchCV, cross_val_score"
   ]
  },
  {
   "cell_type": "markdown",
   "metadata": {},
   "source": [
    "## Data preparing"
   ]
  },
  {
   "cell_type": "code",
   "execution_count": 105,
   "metadata": {},
   "outputs": [],
   "source": [
    "cancer_data = pd.read_csv('../../data/cancer_data_v4.csv')\n",
    "cancer_data.drop(['WBC', 'EO%', 'EO', 'GLO', 'NEUT%', 'HCT', 'TCH','TBIL', 'IBIL', 'LDH-L'], axis=1, inplace=True)\n",
    "for fea in cancer_data.columns[6:]:\n",
    "    median = cancer_data.groupby(['Age_group', 'A=male B=female'])[fea].median()\n",
    "    cancer_data.set_index(['Age_group', 'A=male B=female'], inplace=True)\n",
    "    cancer_data[fea].fillna(median, inplace=True)\n",
    "    cancer_data.reset_index(inplace=True)\n",
    "cancer_data['A=Case, B=Control'] = cancer_data['A=Case, B=Control'].apply(lambda x: 1 if x=='A' else 0)\n",
    "X_train, X_test, y_train, y_test = train_test_split(cancer_data.drop(['Origin','Age_group','A=male B=female','ID', 'A=Case, B=Control', 'Pattern'], axis=1), cancer_data['A=Case, B=Control'], test_size=0.3)"
   ]
  },
  {
   "cell_type": "code",
   "execution_count": 172,
   "metadata": {},
   "outputs": [],
   "source": [
    "cancer_data2 = pd.read_csv('../../data/cancer_data_v4.csv')\n",
    "for fea in cancer_data2.columns[6:]:\n",
    "    median = cancer_data2.groupby(['Age_group', 'A=male B=female'])[fea].median()\n",
    "    cancer_data2.set_index(['Age_group', 'A=male B=female'], inplace=True)\n",
    "    cancer_data2[fea].fillna(median, inplace=True)\n",
    "    cancer_data2.reset_index(inplace=True)\n",
    "cancer_data2.to_csv('../../data/cancer_data_v5.csv')"
   ]
  },
  {
   "cell_type": "code",
   "execution_count": 106,
   "metadata": {},
   "outputs": [
    {
     "name": "stdout",
     "output_type": "stream",
     "text": [
      "5454 2338\n"
     ]
    }
   ],
   "source": [
    "print(len(X_train), len(X_test))"
   ]
  },
  {
   "cell_type": "markdown",
   "metadata": {},
   "source": [
    "## RandomForestClassifier"
   ]
  },
  {
   "cell_type": "code",
   "execution_count": 146,
   "metadata": {},
   "outputs": [
    {
     "name": "stdout",
     "output_type": "stream",
     "text": [
      "0.9314264759809314\n"
     ]
    }
   ],
   "source": [
    "rf = RandomForestClassifier(oob_score=True,random_state=0)\n",
    "rf.fit(X_train, y_train)\n",
    "print(rf_clf.oob_score_)"
   ]
  },
  {
   "cell_type": "markdown",
   "metadata": {},
   "source": [
    "### n_estimators"
   ]
  },
  {
   "cell_type": "code",
   "execution_count": 13,
   "metadata": {},
   "outputs": [
    {
     "name": "stdout",
     "output_type": "stream",
     "text": [
      "Wall time: 4min 47s\n"
     ]
    },
    {
     "data": {
      "text/plain": [
       "({'n_estimators': 280}, 0.9191555496349301)"
      ]
     },
     "execution_count": 13,
     "metadata": {},
     "output_type": "execute_result"
    }
   ],
   "source": [
    "%%time\n",
    "param_test1 = {'n_estimators':range(150,350,10)}\n",
    "gsearch1 = GridSearchCV(estimator = RandomForestClassifier(max_features='sqrt' ,random_state=0), \n",
    "                       param_grid = param_test1, scoring='recall',cv=5)\n",
    "gsearch1.fit(X_train,y_train)\n",
    "gsearch1.best_params_, gsearch1.best_score_"
   ]
  },
  {
   "cell_type": "markdown",
   "metadata": {},
   "source": [
    "### max_depth & min_samples_split"
   ]
  },
  {
   "cell_type": "code",
   "execution_count": 17,
   "metadata": {},
   "outputs": [
    {
     "name": "stdout",
     "output_type": "stream",
     "text": [
      "Wall time: 7min 51s\n"
     ]
    },
    {
     "data": {
      "text/plain": [
       "({'max_depth': 20, 'min_samples_split': 20}, 0.9184438058626879)"
      ]
     },
     "execution_count": 17,
     "metadata": {},
     "output_type": "execute_result"
    }
   ],
   "source": [
    "%%time\n",
    "param_test2 = {'max_depth':range(10,30,5), 'min_samples_split':range(20,100,10)}\n",
    "gsearch2 = GridSearchCV(estimator = RandomForestClassifier(n_estimators= 280, max_features='sqrt' ,oob_score=True, random_state=0),\n",
    "   param_grid = param_test2, scoring='recall', cv=5)\n",
    "gsearch2.fit(X_train,y_train)\n",
    "gsearch2.best_params_, gsearch2.best_score_"
   ]
  },
  {
   "cell_type": "markdown",
   "metadata": {},
   "source": [
    "### min_samples_split & min_samples_leaf"
   ]
  },
  {
   "cell_type": "code",
   "execution_count": 178,
   "metadata": {},
   "outputs": [
    {
     "name": "stdout",
     "output_type": "stream",
     "text": [
      "Wall time: 6min 46s\n"
     ]
    },
    {
     "data": {
      "text/plain": [
       "({'min_samples_leaf': 10, 'min_samples_split': 20}, 0.9097793679189028)"
      ]
     },
     "execution_count": 178,
     "metadata": {},
     "output_type": "execute_result"
    }
   ],
   "source": [
    "%%time\n",
    "param_test3 = {'min_samples_split':range(20,150,20), 'min_samples_leaf':range(10,60,10)}\n",
    "gsearch3 = GridSearchCV(estimator = RandomForestClassifier(n_estimators= 280, max_depth=20,max_features='sqrt' ,oob_score=True, random_state=10),\n",
    "            param_grid = param_test3, scoring='recall', cv=5)\n",
    "gsearch3.fit(X_train,y_train)\n",
    "gsearch3.best_params_, gsearch3.best_score_"
   ]
  },
  {
   "cell_type": "markdown",
   "metadata": {},
   "source": [
    "### max_features"
   ]
  },
  {
   "cell_type": "code",
   "execution_count": 107,
   "metadata": {},
   "outputs": [
    {
     "name": "stdout",
     "output_type": "stream",
     "text": [
      "Wall time: 2min 49s\n"
     ]
    },
    {
     "data": {
      "text/plain": [
       "({'max_features': 4}, 0.906911984406358)"
      ]
     },
     "execution_count": 107,
     "metadata": {},
     "output_type": "execute_result"
    }
   ],
   "source": [
    "%%time\n",
    "param_test4 = {'max_features':range(4,20,2)}\n",
    "gsearch4 = GridSearchCV(estimator = RandomForestClassifier(n_estimators= 280, max_depth=20, min_samples_split=20,\n",
    "                                  min_samples_leaf=20 ,oob_score=True, random_state=0),\n",
    "param_grid = param_test4, scoring='recall', cv=5)\n",
    "gsearch4.fit(X_train,y_train)\n",
    "gsearch4.best_params_, gsearch4.best_score_"
   ]
  },
  {
   "cell_type": "code",
   "execution_count": 121,
   "metadata": {},
   "outputs": [
    {
     "name": "stdout",
     "output_type": "stream",
     "text": [
      "ACC: 0.9110350727117195\n",
      "REC: 0.9117402164862615\n",
      "AUC: 0.96921284447071\n"
     ]
    }
   ],
   "source": [
    "rf2 = RandomForestClassifier(n_estimators= 280, max_depth=20, min_samples_split=20,min_samples_leaf=20,oob_score=True, max_features=4)\n",
    "rf2.fit(X_train,y_train)\n",
    "y_pred = rf2.predict(X_test)\n",
    "rf_prob = rf2.predict_proba(X_test)[:,1]\n",
    "rf_fpr, rf_tpr, _ = roc_curve(y_test, rf_prob)\n",
    "rf_auc = auc(rf_fpr, rf_tpr)\n",
    "print(\"ACC:\",accuracy_score(y_test, y_pred))\n",
    "print(\"REC:\",recall_score(y_test, y_pred))\n",
    "print(\"AUC:\",rf_auc)"
   ]
  },
  {
   "cell_type": "code",
   "execution_count": 129,
   "metadata": {},
   "outputs": [],
   "source": [
    "importances = pd.DataFrame(rf2.feature_importances_, columns = ['rf_importance'], index=X_train.columns).sort_values(by='rf_importance', ascending=False)"
   ]
  },
  {
   "cell_type": "markdown",
   "metadata": {},
   "source": [
    "## XGBoost"
   ]
  },
  {
   "cell_type": "code",
   "execution_count": 113,
   "metadata": {},
   "outputs": [],
   "source": [
    "from xgboost import XGBClassifier"
   ]
  },
  {
   "cell_type": "code",
   "execution_count": 151,
   "metadata": {},
   "outputs": [
    {
     "name": "stdout",
     "output_type": "stream",
     "text": [
      "ACC: 0.9713430282292558\n",
      "REC: 0.9616985845129059\n",
      "AUC: 0.9896187360723291\n"
     ]
    }
   ],
   "source": [
    "xgb = XGBClassifier(random_state=0)\n",
    "xgb.fit(X_train,y_train)\n",
    "y_pred = xgb.predict(X_test)\n",
    "xgb_prob = xgb.predict_proba(X_test)[:,1]\n",
    "xgb_fpr, xgb_tpr, _ = roc_curve(y_test, xgb_prob)\n",
    "xgb_auc = auc(xgb_fpr, xgb_tpr)\n",
    "print(\"ACC:\",accuracy_score(y_test, y_pred))\n",
    "print(\"REC:\",recall_score(y_test, y_pred))\n",
    "print(\"AUC:\",xgb_auc)"
   ]
  },
  {
   "cell_type": "code",
   "execution_count": 144,
   "metadata": {},
   "outputs": [
    {
     "data": {
      "text/plain": [
       "XGBClassifier(base_score=0.5, booster='gbtree', colsample_bylevel=1,\n",
       "              colsample_bynode=1, colsample_bytree=1, gamma=0, gpu_id=-1,\n",
       "              importance_type='gain', interaction_constraints='',\n",
       "              learning_rate=0.300000012, max_delta_step=0, max_depth=6,\n",
       "              min_child_weight=1, missing=nan, monotone_constraints='()',\n",
       "              n_estimators=100, n_jobs=0, num_parallel_tree=1, random_state=0,\n",
       "              reg_alpha=0, reg_lambda=1, scale_pos_weight=1, subsample=1,\n",
       "              tree_method='exact', validate_parameters=1, verbosity=None)"
      ]
     },
     "execution_count": 144,
     "metadata": {},
     "output_type": "execute_result"
    }
   ],
   "source": [
    "xgb"
   ]
  },
  {
   "cell_type": "markdown",
   "metadata": {},
   "source": [
    "### n_estimators"
   ]
  },
  {
   "cell_type": "code",
   "execution_count": 148,
   "metadata": {},
   "outputs": [
    {
     "name": "stdout",
     "output_type": "stream",
     "text": [
      "Wall time: 25.2 s\n"
     ]
    },
    {
     "data": {
      "text/plain": [
       "({'n_estimators': 100}, 0.9502337122742224)"
      ]
     },
     "execution_count": 148,
     "metadata": {},
     "output_type": "execute_result"
    }
   ],
   "source": [
    "%%time\n",
    "param_test1 = {'n_estimators':range(50,200,10)}\n",
    "gsearch1 = GridSearchCV(estimator = XGBClassifier(random_state=0), \n",
    "                       param_grid = param_test1, scoring='recall',cv=5)\n",
    "gsearch1.fit(X_train,y_train)\n",
    "gsearch1.best_params_, gsearch1.best_score_"
   ]
  },
  {
   "cell_type": "markdown",
   "metadata": {},
   "source": [
    "### min_child_weight & max_depth"
   ]
  },
  {
   "cell_type": "code",
   "execution_count": 156,
   "metadata": {},
   "outputs": [
    {
     "name": "stdout",
     "output_type": "stream",
     "text": [
      "Wall time: 27.8 s\n"
     ]
    },
    {
     "data": {
      "text/plain": [
       "({'max_depth': 3, 'min_child_weight': 3}, 0.9520245445976878)"
      ]
     },
     "execution_count": 156,
     "metadata": {},
     "output_type": "execute_result"
    }
   ],
   "source": [
    "%%time\n",
    "param_test2 = {\n",
    " 'max_depth':[2,3,4,5,6],\n",
    " 'min_child_weight':[2,3,4,5,6,7]\n",
    "}\n",
    "gsearch2 = GridSearchCV(estimator = XGBClassifier(n_estimators=100,random_state=0), \n",
    "                       param_grid = param_test2, scoring='recall',cv=5)\n",
    "gsearch2.fit(X_train,y_train)\n",
    "gsearch2.best_params_, gsearch2.best_score_"
   ]
  },
  {
   "cell_type": "markdown",
   "metadata": {},
   "source": [
    "### Gamma"
   ]
  },
  {
   "cell_type": "code",
   "execution_count": 161,
   "metadata": {},
   "outputs": [
    {
     "name": "stdout",
     "output_type": "stream",
     "text": [
      "Wall time: 21.9 s\n"
     ]
    },
    {
     "data": {
      "text/plain": [
       "({'gamma': 0.081}, 0.9523823263508184)"
      ]
     },
     "execution_count": 161,
     "metadata": {},
     "output_type": "execute_result"
    }
   ],
   "source": [
    "%%time\n",
    "param_test3 = {\n",
    " 'gamma':[i/1000.0 for i in range(80,100)]\n",
    "}\n",
    "gsearch3 = GridSearchCV(estimator = XGBClassifier(n_estimators=100,max_depth=3, min_child_weight=3, random_state=0), \n",
    "                       param_grid = param_test3, scoring='recall',cv=5)\n",
    "gsearch3.fit(X_train,y_train)\n",
    "gsearch3.best_params_, gsearch3.best_score_"
   ]
  },
  {
   "cell_type": "markdown",
   "metadata": {},
   "source": [
    "### subsample & colsample_bytree"
   ]
  },
  {
   "cell_type": "code",
   "execution_count": 166,
   "metadata": {},
   "outputs": [
    {
     "name": "stdout",
     "output_type": "stream",
     "text": [
      "Wall time: 1min 23s\n"
     ]
    },
    {
     "data": {
      "text/plain": [
       "({'colsample_bytree': 0.9, 'subsample': 0.8}, 0.9513089810914266)"
      ]
     },
     "execution_count": 166,
     "metadata": {},
     "output_type": "execute_result"
    }
   ],
   "source": [
    "%%time\n",
    "param_test4 = {\n",
    " 'subsample':[i/100.0 for i in range(80,90)],\n",
    " 'colsample_bytree':[i/100.0 for i in range(90,100)]\n",
    "}\n",
    "gsearch4 = GridSearchCV(estimator = XGBClassifier(n_estimators=100,max_depth=3, min_child_weight=3, gamma=0.081, random_state=0), \n",
    "                       param_grid = param_test4, scoring='recall',cv=5)\n",
    "gsearch4.fit(X_train,y_train)\n",
    "gsearch4.best_params_, gsearch4.best_score_"
   ]
  },
  {
   "cell_type": "markdown",
   "metadata": {},
   "source": [
    "### reg_alpha & reg_lambda"
   ]
  },
  {
   "cell_type": "code",
   "execution_count": 171,
   "metadata": {},
   "outputs": [
    {
     "name": "stdout",
     "output_type": "stream",
     "text": [
      "Wall time: 12.5 s\n"
     ]
    },
    {
     "data": {
      "text/plain": [
       "({'reg_alpha': 0.001, 'reg_lambda': 3}, 0.9520245445976879)"
      ]
     },
     "execution_count": 171,
     "metadata": {},
     "output_type": "execute_result"
    }
   ],
   "source": [
    "%%time\n",
    "param_test5 = {\n",
    " 'reg_alpha':[0, 1e-3, 2e-3, 3e-3, 4e-3],\n",
    " 'reg_lambda': [2.5, 3, 3.5]\n",
    "}\n",
    "gsearch5 = GridSearchCV(estimator = XGBClassifier(n_estimators=100,max_depth=3, min_child_weight=3, gamma=0.081, colsample_bytree=0.9, subsample=0.8,random_state=0), \n",
    "                       param_grid = param_test5, scoring='recall',cv=5)\n",
    "gsearch5.fit(X_train,y_train)\n",
    "gsearch5.best_params_, gsearch5.best_score_"
   ]
  },
  {
   "cell_type": "markdown",
   "metadata": {},
   "source": [
    "### learning_rate"
   ]
  },
  {
   "cell_type": "code",
   "execution_count": 174,
   "metadata": {},
   "outputs": [
    {
     "name": "stdout",
     "output_type": "stream",
     "text": [
      "Wall time: 5.83 s\n"
     ]
    },
    {
     "data": {
      "text/plain": [
       "({'learning_rate': 0.3}, 0.9520245445976879)"
      ]
     },
     "execution_count": 174,
     "metadata": {},
     "output_type": "execute_result"
    }
   ],
   "source": [
    "%%time\n",
    "param_test6 = {\n",
    "    'learning_rate': [0.01, 0.05, 0.07, 0.1, 0.2, 0.3, 0.4]\n",
    "}\n",
    "gsearch6 = GridSearchCV(estimator = XGBClassifier(n_estimators=100,max_depth=3, min_child_weight=3, gamma=0.081, colsample_bytree=0.9, subsample=0.8, reg_alpha=0.001, reg_lambda=3, random_state=0), \n",
    "                       param_grid = param_test6, scoring='recall',cv=5)\n",
    "gsearch6.fit(X_train,y_train)\n",
    "gsearch6.best_params_, gsearch6.best_score_"
   ]
  },
  {
   "cell_type": "code",
   "execution_count": 175,
   "metadata": {},
   "outputs": [
    {
     "name": "stdout",
     "output_type": "stream",
     "text": [
      "ACC: 0.9653550042771599\n",
      "REC: 0.9592006661115737\n",
      "AUC: 0.9908014209794389\n"
     ]
    }
   ],
   "source": [
    "xgb2 = XGBClassifier(n_estimators=100,max_depth=3, min_child_weight=3, gamma=0.081, colsample_bytree=0.9, subsample=0.8, reg_alpha=0.001, reg_lambda=3, learning_rate=0.3,random_state=0)\n",
    "xgb2.fit(X_train,y_train)\n",
    "y_pred = xgb2.predict(X_test)\n",
    "xgb_prob = xgb2.predict_proba(X_test)[:,1]\n",
    "xgb_fpr, xgb_tpr, _ = roc_curve(y_test, xgb_prob)\n",
    "xgb_auc = auc(xgb_fpr, xgb_tpr)\n",
    "print(\"ACC:\",accuracy_score(y_test, y_pred))\n",
    "print(\"REC:\",recall_score(y_test, y_pred))\n",
    "print(\"AUC:\",xgb_auc)"
   ]
  },
  {
   "cell_type": "code",
   "execution_count": 177,
   "metadata": {},
   "outputs": [
    {
     "data": {
      "text/html": [
       "<div>\n",
       "<style scoped>\n",
       "    .dataframe tbody tr th:only-of-type {\n",
       "        vertical-align: middle;\n",
       "    }\n",
       "\n",
       "    .dataframe tbody tr th {\n",
       "        vertical-align: top;\n",
       "    }\n",
       "\n",
       "    .dataframe thead th {\n",
       "        text-align: right;\n",
       "    }\n",
       "</style>\n",
       "<table border=\"1\" class=\"dataframe\">\n",
       "  <thead>\n",
       "    <tr style=\"text-align: right;\">\n",
       "      <th></th>\n",
       "      <th>rf_importance</th>\n",
       "      <th>xgb_importance</th>\n",
       "    </tr>\n",
       "  </thead>\n",
       "  <tbody>\n",
       "    <tr>\n",
       "      <th>Smoke</th>\n",
       "      <td>0.153443</td>\n",
       "      <td>0.120294</td>\n",
       "    </tr>\n",
       "    <tr>\n",
       "      <th>T-CEA</th>\n",
       "      <td>0.116812</td>\n",
       "      <td>0.110624</td>\n",
       "    </tr>\n",
       "    <tr>\n",
       "      <th>GGT</th>\n",
       "      <td>0.084610</td>\n",
       "      <td>0.094486</td>\n",
       "    </tr>\n",
       "    <tr>\n",
       "      <th>BASO</th>\n",
       "      <td>0.067347</td>\n",
       "      <td>0.078656</td>\n",
       "    </tr>\n",
       "    <tr>\n",
       "      <th>BASO%</th>\n",
       "      <td>0.084056</td>\n",
       "      <td>0.069264</td>\n",
       "    </tr>\n",
       "    <tr>\n",
       "      <th>HGB</th>\n",
       "      <td>0.026121</td>\n",
       "      <td>0.056442</td>\n",
       "    </tr>\n",
       "    <tr>\n",
       "      <th>DBIL</th>\n",
       "      <td>0.025848</td>\n",
       "      <td>0.040447</td>\n",
       "    </tr>\n",
       "    <tr>\n",
       "      <th>HDL-C</th>\n",
       "      <td>0.045392</td>\n",
       "      <td>0.040386</td>\n",
       "    </tr>\n",
       "    <tr>\n",
       "      <th>MCV</th>\n",
       "      <td>0.045461</td>\n",
       "      <td>0.038161</td>\n",
       "    </tr>\n",
       "    <tr>\n",
       "      <th>RDW-CV</th>\n",
       "      <td>0.030843</td>\n",
       "      <td>0.029699</td>\n",
       "    </tr>\n",
       "    <tr>\n",
       "      <th>UA</th>\n",
       "      <td>0.030925</td>\n",
       "      <td>0.027919</td>\n",
       "    </tr>\n",
       "    <tr>\n",
       "      <th>RDW-SD</th>\n",
       "      <td>0.034527</td>\n",
       "      <td>0.026202</td>\n",
       "    </tr>\n",
       "    <tr>\n",
       "      <th>PLT</th>\n",
       "      <td>0.017314</td>\n",
       "      <td>0.024543</td>\n",
       "    </tr>\n",
       "    <tr>\n",
       "      <th>LYMPH</th>\n",
       "      <td>0.022898</td>\n",
       "      <td>0.021878</td>\n",
       "    </tr>\n",
       "    <tr>\n",
       "      <th>A/G</th>\n",
       "      <td>0.018527</td>\n",
       "      <td>0.016367</td>\n",
       "    </tr>\n",
       "    <tr>\n",
       "      <th>TG</th>\n",
       "      <td>0.008300</td>\n",
       "      <td>0.016069</td>\n",
       "    </tr>\n",
       "    <tr>\n",
       "      <th>AST</th>\n",
       "      <td>0.012336</td>\n",
       "      <td>0.015577</td>\n",
       "    </tr>\n",
       "    <tr>\n",
       "      <th>GLU</th>\n",
       "      <td>0.011483</td>\n",
       "      <td>0.014317</td>\n",
       "    </tr>\n",
       "    <tr>\n",
       "      <th>Cystatin-C</th>\n",
       "      <td>0.012922</td>\n",
       "      <td>0.011744</td>\n",
       "    </tr>\n",
       "    <tr>\n",
       "      <th>Age</th>\n",
       "      <td>0.005324</td>\n",
       "      <td>0.011622</td>\n",
       "    </tr>\n",
       "    <tr>\n",
       "      <th>NEUT</th>\n",
       "      <td>0.008680</td>\n",
       "      <td>0.010975</td>\n",
       "    </tr>\n",
       "    <tr>\n",
       "      <th>CK</th>\n",
       "      <td>0.006516</td>\n",
       "      <td>0.010962</td>\n",
       "    </tr>\n",
       "    <tr>\n",
       "      <th>AST:ALT</th>\n",
       "      <td>0.005712</td>\n",
       "      <td>0.010419</td>\n",
       "    </tr>\n",
       "    <tr>\n",
       "      <th>MONO</th>\n",
       "      <td>0.011437</td>\n",
       "      <td>0.010110</td>\n",
       "    </tr>\n",
       "    <tr>\n",
       "      <th>MONO%</th>\n",
       "      <td>0.008994</td>\n",
       "      <td>0.008958</td>\n",
       "    </tr>\n",
       "    <tr>\n",
       "      <th>LYM%</th>\n",
       "      <td>0.010554</td>\n",
       "      <td>0.008397</td>\n",
       "    </tr>\n",
       "    <tr>\n",
       "      <th>ALP</th>\n",
       "      <td>0.007512</td>\n",
       "      <td>0.008155</td>\n",
       "    </tr>\n",
       "    <tr>\n",
       "      <th>HBDH</th>\n",
       "      <td>0.005796</td>\n",
       "      <td>0.008071</td>\n",
       "    </tr>\n",
       "    <tr>\n",
       "      <th>TP</th>\n",
       "      <td>0.007243</td>\n",
       "      <td>0.007611</td>\n",
       "    </tr>\n",
       "    <tr>\n",
       "      <th>Cr</th>\n",
       "      <td>0.006975</td>\n",
       "      <td>0.007235</td>\n",
       "    </tr>\n",
       "    <tr>\n",
       "      <th>RBC</th>\n",
       "      <td>0.011735</td>\n",
       "      <td>0.007229</td>\n",
       "    </tr>\n",
       "    <tr>\n",
       "      <th>BUN</th>\n",
       "      <td>0.008537</td>\n",
       "      <td>0.007120</td>\n",
       "    </tr>\n",
       "    <tr>\n",
       "      <th>LDL-C</th>\n",
       "      <td>0.006068</td>\n",
       "      <td>0.006663</td>\n",
       "    </tr>\n",
       "    <tr>\n",
       "      <th>ALB</th>\n",
       "      <td>0.009460</td>\n",
       "      <td>0.006398</td>\n",
       "    </tr>\n",
       "    <tr>\n",
       "      <th>ALT</th>\n",
       "      <td>0.005256</td>\n",
       "      <td>0.005901</td>\n",
       "    </tr>\n",
       "    <tr>\n",
       "      <th>MCHC</th>\n",
       "      <td>0.005008</td>\n",
       "      <td>0.005603</td>\n",
       "    </tr>\n",
       "    <tr>\n",
       "      <th>MCH</th>\n",
       "      <td>0.020030</td>\n",
       "      <td>0.005494</td>\n",
       "    </tr>\n",
       "  </tbody>\n",
       "</table>\n",
       "</div>"
      ],
      "text/plain": [
       "            rf_importance  xgb_importance\n",
       "Smoke            0.153443        0.120294\n",
       "T-CEA            0.116812        0.110624\n",
       "GGT              0.084610        0.094486\n",
       "BASO             0.067347        0.078656\n",
       "BASO%            0.084056        0.069264\n",
       "HGB              0.026121        0.056442\n",
       "DBIL             0.025848        0.040447\n",
       "HDL-C            0.045392        0.040386\n",
       "MCV              0.045461        0.038161\n",
       "RDW-CV           0.030843        0.029699\n",
       "UA               0.030925        0.027919\n",
       "RDW-SD           0.034527        0.026202\n",
       "PLT              0.017314        0.024543\n",
       "LYMPH            0.022898        0.021878\n",
       "A/G              0.018527        0.016367\n",
       "TG               0.008300        0.016069\n",
       "AST              0.012336        0.015577\n",
       "GLU              0.011483        0.014317\n",
       "Cystatin-C       0.012922        0.011744\n",
       "Age              0.005324        0.011622\n",
       "NEUT             0.008680        0.010975\n",
       "CK               0.006516        0.010962\n",
       "AST:ALT          0.005712        0.010419\n",
       "MONO             0.011437        0.010110\n",
       "MONO%            0.008994        0.008958\n",
       "LYM%             0.010554        0.008397\n",
       "ALP              0.007512        0.008155\n",
       "HBDH             0.005796        0.008071\n",
       "TP               0.007243        0.007611\n",
       "Cr               0.006975        0.007235\n",
       "RBC              0.011735        0.007229\n",
       "BUN              0.008537        0.007120\n",
       "LDL-C            0.006068        0.006663\n",
       "ALB              0.009460        0.006398\n",
       "ALT              0.005256        0.005901\n",
       "MCHC             0.005008        0.005603\n",
       "MCH              0.020030        0.005494"
      ]
     },
     "execution_count": 177,
     "metadata": {},
     "output_type": "execute_result"
    }
   ],
   "source": [
    "importances['xgb_importance'] = pd.DataFrame(xgb2.feature_importances_, index=X_train.columns)\n",
    "importances.sort_values(by='xgb_importance', ascending=False)"
   ]
  },
  {
   "cell_type": "markdown",
   "metadata": {},
   "source": [
    "## AUC & ROC"
   ]
  },
  {
   "cell_type": "code",
   "execution_count": 194,
   "metadata": {},
   "outputs": [
    {
     "data": {
      "image/png": "[encoded data removed]",
      "text/plain": [
       "<Figure size 432x288 with 1 Axes>"
      ]
     },
     "metadata": {
      "needs_background": "light"
     },
     "output_type": "display_data"
    }
   ],
   "source": [
    "plt.plot([0, 1], [0, 1], 'k--')\n",
    "plt.plot(rf_fpr, rf_tpr, label='        AUC:0.97\\nRF    ACC:0.91\\n        REC:0.91')\n",
    "plt.plot(xgb_fpr, xgb_tpr, label='        AUC:0.99\\nXGB ACC:0.97\\n        REC:0.96')\n",
    "plt.xlabel('False positive rate')\n",
    "plt.ylabel('True positive rate')\n",
    "plt.title('ROC curve')\n",
    "plt.legend(loc=\"lower right\")\n",
    "plt.show()"
   ]
  }
 ],
 "metadata": {
  "kernelspec": {
   "display_name": "Python 3",
   "language": "python",
   "name": "python3"
  },
  "language_info": {
   "codemirror_mode": {
    "name": "ipython",
    "version": 3
   },
   "file_extension": ".py",
   "mimetype": "text/x-python",
   "name": "python",
   "nbconvert_exporter": "python",
   "pygments_lexer": "ipython3",
   "version": "3.8.3"
  }
 },
 "nbformat": 4,
 "nbformat_minor": 4
}
