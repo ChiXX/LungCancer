{
 "cells": [
  {
   "cell_type": "code",
   "execution_count": 1,
   "metadata": {},
   "outputs": [],
   "source": [
    "import pandas as pd\n",
    "import numpy as np\n",
    "import matplotlib.pyplot as plt\n",
    "import scipy.stats as ss\n",
    "import seaborn as sns\n",
    "import re"
   ]
  },
  {
   "cell_type": "markdown",
   "metadata": {},
   "source": [
    "## Edit title"
   ]
  },
  {
   "cell_type": "code",
   "execution_count": 79,
   "metadata": {},
   "outputs": [],
   "source": [
    "cancer_data = pd.read_excel('../../data/cancer_data.xls')\n",
    "cancer_info = pd.read_excel('../../data/cancer_info.xlsx')\n",
    "\n",
    "title_dic = cancer_info.groupby('变量名')['变量名缩写'].apply(list).to_dict()\n",
    "for k, v in title_dic.items():\n",
    "    cancer_data.rename(columns={k:v[0]}, inplace=True)\n",
    "cancer_data.replace('UN', np.nan, inplace=True)\n",
    "\n",
    "cancer_data.to_csv('../../data/cancer_data.csv', index=False)"
   ]
  },
  {
   "cell_type": "markdown",
   "metadata": {},
   "source": [
    "## Process error value"
   ]
  },
  {
   "cell_type": "code",
   "execution_count": 121,
   "metadata": {},
   "outputs": [
    {
     "name": "stderr",
     "output_type": "stream",
     "text": [
      "C:\\Users\\Chi\\anaconda3\\lib\\site-packages\\IPython\\core\\interactiveshell.py:3063: DtypeWarning: Columns (5,6,34,50,66,68,69,70,71,72) have mixed types.Specify dtype option on import or set low_memory=False.\n",
      "  interactivity=interactivity, compiler=compiler, result=result)\n"
     ]
    }
   ],
   "source": [
    "cancer_data = pd.read_csv('../../data/cancer_data.csv')\n",
    "for i in cancer_data.columns:\n",
    "    cancer_data[i] = cancer_data[i].apply(lambda x: np.nan if isinstance(x, str) and x[0] in ['>','<'] else x)"
   ]
  },
  {
   "cell_type": "code",
   "execution_count": 106,
   "metadata": {},
   "outputs": [
    {
     "data": {
      "text/plain": [
       "Index(['ID', 'A=Case, B=Control', 'Origin', 'A=male B=female', 'Age',\n",
       "       'Pattern', 'TNM', 'Smoke', 'RBC', 'HGB', 'HCT', 'MCV ', 'MCH', 'MCHC ',\n",
       "       'RDW-CV', 'RDW-SD', 'PLT', 'PCT', 'MPV', 'P-LCR', 'PDW', 'WBC', 'NEUT%',\n",
       "       'LYM%', 'MONO%', 'EO%', 'BASO%', 'AC%', 'NEUT', 'LYMPH', 'MONO', 'EO',\n",
       "       'BASO', 'TBIL', 'DBIL', 'IBIL', 'ALT', 'AST', 'AST:ALT', 'TP', 'ALB',\n",
       "       'GLO', 'A/G', 'GLU', 'BUN', 'Cr', 'Cystatin-C', 'UA', 'TG', 'TCH',\n",
       "       'HDL-C', 'LDL-C', 'ALP', 'GGT', 'CK', 'LDH-L', 'HBDH', 'Na', 'K', 'Cl',\n",
       "       'CO2Cp', 'AG', 'Beta-HB', 'Ca', 'Mg', 'P', 'T-CEA', 'T-CA199',\n",
       "       'T-CA125', 'T-CYFRA21-1', 'T-NSE', 'T-ESR', 'T-CRP'],\n",
       "      dtype='object')"
      ]
     },
     "execution_count": 106,
     "metadata": {},
     "output_type": "execute_result"
    }
   ],
   "source": [
    "cancer_data.columns"
   ]
  },
  {
   "cell_type": "code",
   "execution_count": 126,
   "metadata": {
    "scrolled": false
   },
   "outputs": [],
   "source": [
    "for i in ['Age', 'Smoke', 'RBC', 'HGB', 'HCT', 'MCV ', 'MCH', 'MCHC ',\n",
    "       'RDW-CV', 'RDW-SD', 'PLT', 'PCT', 'MPV', 'P-LCR', 'PDW', 'WBC', 'NEUT%',\n",
    "       'LYM%', 'MONO%', 'EO%', 'BASO%', 'AC%', 'NEUT', 'LYMPH', 'MONO', 'EO',\n",
    "       'BASO', 'TBIL', 'DBIL', 'IBIL', 'ALT', 'AST', 'AST:ALT', 'TP', 'ALB',\n",
    "       'GLO', 'A/G', 'GLU', 'BUN', 'Cr', 'Cystatin-C', 'UA', 'TG', 'TCH',\n",
    "       'HDL-C', 'LDL-C', 'ALP', 'GGT', 'CK', 'LDH-L', 'HBDH', 'Na', 'K', 'Cl',\n",
    "       'CO2Cp', 'AG', 'Beta-HB', 'Ca', 'Mg', 'P', 'T-CEA', 'T-CA199',\n",
    "       'T-CA125', 'T-CYFRA21-1', 'T-NSE', 'T-ESR', 'T-CRP']:\n",
    "    cancer_data[i] = cancer_data[i].astype('float')"
   ]
  },
  {
   "cell_type": "code",
   "execution_count": 127,
   "metadata": {},
   "outputs": [],
   "source": [
    "cancer_data.to_csv('../../data/cancer_data_v2.csv', index=False)"
   ]
  },
  {
   "cell_type": "markdown",
   "metadata": {},
   "source": [
    "## File description: change the data type as float."
   ]
  },
  {
   "cell_type": "code",
   "execution_count": 552,
   "metadata": {
    "scrolled": false
   },
   "outputs": [
    {
     "data": {
      "text/html": [
       "<div>\n",
       "<style scoped>\n",
       "    .dataframe tbody tr th:only-of-type {\n",
       "        vertical-align: middle;\n",
       "    }\n",
       "\n",
       "    .dataframe tbody tr th {\n",
       "        vertical-align: top;\n",
       "    }\n",
       "\n",
       "    .dataframe thead th {\n",
       "        text-align: right;\n",
       "    }\n",
       "</style>\n",
       "<table border=\"1\" class=\"dataframe\">\n",
       "  <thead>\n",
       "    <tr style=\"text-align: right;\">\n",
       "      <th></th>\n",
       "      <th>ID</th>\n",
       "      <th>A=Case, B=Control</th>\n",
       "      <th>Origin</th>\n",
       "      <th>A=male B=female</th>\n",
       "      <th>Age</th>\n",
       "      <th>Pattern</th>\n",
       "      <th>TNM</th>\n",
       "      <th>Smoke</th>\n",
       "      <th>RBC</th>\n",
       "      <th>HGB</th>\n",
       "      <th>...</th>\n",
       "      <th>Ca</th>\n",
       "      <th>Mg</th>\n",
       "      <th>P</th>\n",
       "      <th>T-CEA</th>\n",
       "      <th>T-CA199</th>\n",
       "      <th>T-CA125</th>\n",
       "      <th>T-CYFRA21-1</th>\n",
       "      <th>T-NSE</th>\n",
       "      <th>T-ESR</th>\n",
       "      <th>T-CRP</th>\n",
       "    </tr>\n",
       "  </thead>\n",
       "  <tbody>\n",
       "    <tr>\n",
       "      <th>0</th>\n",
       "      <td>1</td>\n",
       "      <td>A</td>\n",
       "      <td>A</td>\n",
       "      <td>B</td>\n",
       "      <td>41</td>\n",
       "      <td>A</td>\n",
       "      <td>NaN</td>\n",
       "      <td>0.0</td>\n",
       "      <td>3.78</td>\n",
       "      <td>122.0</td>\n",
       "      <td>...</td>\n",
       "      <td>2.16</td>\n",
       "      <td>0.90</td>\n",
       "      <td>1.19</td>\n",
       "      <td>NaN</td>\n",
       "      <td>NaN</td>\n",
       "      <td>NaN</td>\n",
       "      <td>NaN</td>\n",
       "      <td>NaN</td>\n",
       "      <td>NaN</td>\n",
       "      <td>NaN</td>\n",
       "    </tr>\n",
       "    <tr>\n",
       "      <th>1</th>\n",
       "      <td>100</td>\n",
       "      <td>A</td>\n",
       "      <td>A</td>\n",
       "      <td>A</td>\n",
       "      <td>35</td>\n",
       "      <td>A</td>\n",
       "      <td>NaN</td>\n",
       "      <td>0.0</td>\n",
       "      <td>5.53</td>\n",
       "      <td>169.0</td>\n",
       "      <td>...</td>\n",
       "      <td>NaN</td>\n",
       "      <td>NaN</td>\n",
       "      <td>NaN</td>\n",
       "      <td>NaN</td>\n",
       "      <td>NaN</td>\n",
       "      <td>31.89</td>\n",
       "      <td>8.43</td>\n",
       "      <td>12.92</td>\n",
       "      <td>NaN</td>\n",
       "      <td>NaN</td>\n",
       "    </tr>\n",
       "    <tr>\n",
       "      <th>2</th>\n",
       "      <td>1000</td>\n",
       "      <td>A</td>\n",
       "      <td>A</td>\n",
       "      <td>A</td>\n",
       "      <td>50</td>\n",
       "      <td>A</td>\n",
       "      <td>NaN</td>\n",
       "      <td>0.0</td>\n",
       "      <td>4.04</td>\n",
       "      <td>120.0</td>\n",
       "      <td>...</td>\n",
       "      <td>1.99</td>\n",
       "      <td>0.86</td>\n",
       "      <td>0.98</td>\n",
       "      <td>3.33</td>\n",
       "      <td>42.15</td>\n",
       "      <td>49.91</td>\n",
       "      <td>3.61</td>\n",
       "      <td>11.05</td>\n",
       "      <td>40.0</td>\n",
       "      <td>35.7</td>\n",
       "    </tr>\n",
       "    <tr>\n",
       "      <th>3</th>\n",
       "      <td>1004</td>\n",
       "      <td>A</td>\n",
       "      <td>A</td>\n",
       "      <td>A</td>\n",
       "      <td>51</td>\n",
       "      <td>A</td>\n",
       "      <td>NaN</td>\n",
       "      <td>0.0</td>\n",
       "      <td>NaN</td>\n",
       "      <td>NaN</td>\n",
       "      <td>...</td>\n",
       "      <td>NaN</td>\n",
       "      <td>NaN</td>\n",
       "      <td>NaN</td>\n",
       "      <td>NaN</td>\n",
       "      <td>NaN</td>\n",
       "      <td>NaN</td>\n",
       "      <td>NaN</td>\n",
       "      <td>NaN</td>\n",
       "      <td>NaN</td>\n",
       "      <td>NaN</td>\n",
       "    </tr>\n",
       "    <tr>\n",
       "      <th>4</th>\n",
       "      <td>1005</td>\n",
       "      <td>A</td>\n",
       "      <td>A</td>\n",
       "      <td>B</td>\n",
       "      <td>49</td>\n",
       "      <td>A</td>\n",
       "      <td>NaN</td>\n",
       "      <td>0.0</td>\n",
       "      <td>4.04</td>\n",
       "      <td>118.0</td>\n",
       "      <td>...</td>\n",
       "      <td>NaN</td>\n",
       "      <td>NaN</td>\n",
       "      <td>NaN</td>\n",
       "      <td>33.34</td>\n",
       "      <td>213.70</td>\n",
       "      <td>141.20</td>\n",
       "      <td>12.69</td>\n",
       "      <td>NaN</td>\n",
       "      <td>24.0</td>\n",
       "      <td>NaN</td>\n",
       "    </tr>\n",
       "    <tr>\n",
       "      <th>...</th>\n",
       "      <td>...</td>\n",
       "      <td>...</td>\n",
       "      <td>...</td>\n",
       "      <td>...</td>\n",
       "      <td>...</td>\n",
       "      <td>...</td>\n",
       "      <td>...</td>\n",
       "      <td>...</td>\n",
       "      <td>...</td>\n",
       "      <td>...</td>\n",
       "      <td>...</td>\n",
       "      <td>...</td>\n",
       "      <td>...</td>\n",
       "      <td>...</td>\n",
       "      <td>...</td>\n",
       "      <td>...</td>\n",
       "      <td>...</td>\n",
       "      <td>...</td>\n",
       "      <td>...</td>\n",
       "      <td>...</td>\n",
       "      <td>...</td>\n",
       "    </tr>\n",
       "    <tr>\n",
       "      <th>8740</th>\n",
       "      <td>2489054</td>\n",
       "      <td>B</td>\n",
       "      <td>C</td>\n",
       "      <td>A</td>\n",
       "      <td>60</td>\n",
       "      <td>O</td>\n",
       "      <td>NaN</td>\n",
       "      <td>25.0</td>\n",
       "      <td>4.96</td>\n",
       "      <td>161.0</td>\n",
       "      <td>...</td>\n",
       "      <td>NaN</td>\n",
       "      <td>NaN</td>\n",
       "      <td>NaN</td>\n",
       "      <td>1.34</td>\n",
       "      <td>10.90</td>\n",
       "      <td>12.80</td>\n",
       "      <td>NaN</td>\n",
       "      <td>NaN</td>\n",
       "      <td>NaN</td>\n",
       "      <td>NaN</td>\n",
       "    </tr>\n",
       "    <tr>\n",
       "      <th>8741</th>\n",
       "      <td>2491728</td>\n",
       "      <td>B</td>\n",
       "      <td>C</td>\n",
       "      <td>A</td>\n",
       "      <td>48</td>\n",
       "      <td>O</td>\n",
       "      <td>NaN</td>\n",
       "      <td>0.0</td>\n",
       "      <td>5.35</td>\n",
       "      <td>174.0</td>\n",
       "      <td>...</td>\n",
       "      <td>2.12</td>\n",
       "      <td>0.90</td>\n",
       "      <td>0.74</td>\n",
       "      <td>0.97</td>\n",
       "      <td>20.91</td>\n",
       "      <td>8.24</td>\n",
       "      <td>NaN</td>\n",
       "      <td>NaN</td>\n",
       "      <td>NaN</td>\n",
       "      <td>NaN</td>\n",
       "    </tr>\n",
       "    <tr>\n",
       "      <th>8742</th>\n",
       "      <td>2491799</td>\n",
       "      <td>B</td>\n",
       "      <td>C</td>\n",
       "      <td>A</td>\n",
       "      <td>56</td>\n",
       "      <td>O</td>\n",
       "      <td>NaN</td>\n",
       "      <td>0.0</td>\n",
       "      <td>6.36</td>\n",
       "      <td>129.0</td>\n",
       "      <td>...</td>\n",
       "      <td>NaN</td>\n",
       "      <td>NaN</td>\n",
       "      <td>NaN</td>\n",
       "      <td>1.38</td>\n",
       "      <td>6.93</td>\n",
       "      <td>8.92</td>\n",
       "      <td>NaN</td>\n",
       "      <td>NaN</td>\n",
       "      <td>NaN</td>\n",
       "      <td>NaN</td>\n",
       "    </tr>\n",
       "    <tr>\n",
       "      <th>8743</th>\n",
       "      <td>509610</td>\n",
       "      <td>B</td>\n",
       "      <td>C</td>\n",
       "      <td>B</td>\n",
       "      <td>59</td>\n",
       "      <td>O</td>\n",
       "      <td>NaN</td>\n",
       "      <td>25.0</td>\n",
       "      <td>5.03</td>\n",
       "      <td>147.0</td>\n",
       "      <td>...</td>\n",
       "      <td>2.42</td>\n",
       "      <td>0.89</td>\n",
       "      <td>1.06</td>\n",
       "      <td>3.88</td>\n",
       "      <td>23.20</td>\n",
       "      <td>NaN</td>\n",
       "      <td>NaN</td>\n",
       "      <td>NaN</td>\n",
       "      <td>NaN</td>\n",
       "      <td>NaN</td>\n",
       "    </tr>\n",
       "    <tr>\n",
       "      <th>8744</th>\n",
       "      <td>791207</td>\n",
       "      <td>B</td>\n",
       "      <td>C</td>\n",
       "      <td>B</td>\n",
       "      <td>59</td>\n",
       "      <td>O</td>\n",
       "      <td>NaN</td>\n",
       "      <td>200.0</td>\n",
       "      <td>3.63</td>\n",
       "      <td>120.0</td>\n",
       "      <td>...</td>\n",
       "      <td>NaN</td>\n",
       "      <td>NaN</td>\n",
       "      <td>NaN</td>\n",
       "      <td>1.29</td>\n",
       "      <td>5.88</td>\n",
       "      <td>NaN</td>\n",
       "      <td>NaN</td>\n",
       "      <td>NaN</td>\n",
       "      <td>NaN</td>\n",
       "      <td>NaN</td>\n",
       "    </tr>\n",
       "  </tbody>\n",
       "</table>\n",
       "<p>8745 rows × 73 columns</p>\n",
       "</div>"
      ],
      "text/plain": [
       "           ID A=Case, B=Control Origin A=male B=female  Age Pattern  TNM  \\\n",
       "0           1                 A      A               B   41       A  NaN   \n",
       "1         100                 A      A               A   35       A  NaN   \n",
       "2        1000                 A      A               A   50       A  NaN   \n",
       "3        1004                 A      A               A   51       A  NaN   \n",
       "4        1005                 A      A               B   49       A  NaN   \n",
       "...       ...               ...    ...             ...  ...     ...  ...   \n",
       "8740  2489054                 B      C               A   60       O  NaN   \n",
       "8741  2491728                 B      C               A   48       O  NaN   \n",
       "8742  2491799                 B      C               A   56       O  NaN   \n",
       "8743   509610                 B      C               B   59       O  NaN   \n",
       "8744   791207                 B      C               B   59       O  NaN   \n",
       "\n",
       "      Smoke   RBC    HGB  ...    Ca    Mg     P  T-CEA  T-CA199  T-CA125  \\\n",
       "0       0.0  3.78  122.0  ...  2.16  0.90  1.19    NaN      NaN      NaN   \n",
       "1       0.0  5.53  169.0  ...   NaN   NaN   NaN    NaN      NaN    31.89   \n",
       "2       0.0  4.04  120.0  ...  1.99  0.86  0.98   3.33    42.15    49.91   \n",
       "3       0.0   NaN    NaN  ...   NaN   NaN   NaN    NaN      NaN      NaN   \n",
       "4       0.0  4.04  118.0  ...   NaN   NaN   NaN  33.34   213.70   141.20   \n",
       "...     ...   ...    ...  ...   ...   ...   ...    ...      ...      ...   \n",
       "8740   25.0  4.96  161.0  ...   NaN   NaN   NaN   1.34    10.90    12.80   \n",
       "8741    0.0  5.35  174.0  ...  2.12  0.90  0.74   0.97    20.91     8.24   \n",
       "8742    0.0  6.36  129.0  ...   NaN   NaN   NaN   1.38     6.93     8.92   \n",
       "8743   25.0  5.03  147.0  ...  2.42  0.89  1.06   3.88    23.20      NaN   \n",
       "8744  200.0  3.63  120.0  ...   NaN   NaN   NaN   1.29     5.88      NaN   \n",
       "\n",
       "      T-CYFRA21-1  T-NSE  T-ESR  T-CRP  \n",
       "0             NaN    NaN    NaN    NaN  \n",
       "1            8.43  12.92    NaN    NaN  \n",
       "2            3.61  11.05   40.0   35.7  \n",
       "3             NaN    NaN    NaN    NaN  \n",
       "4           12.69    NaN   24.0    NaN  \n",
       "...           ...    ...    ...    ...  \n",
       "8740          NaN    NaN    NaN    NaN  \n",
       "8741          NaN    NaN    NaN    NaN  \n",
       "8742          NaN    NaN    NaN    NaN  \n",
       "8743          NaN    NaN    NaN    NaN  \n",
       "8744          NaN    NaN    NaN    NaN  \n",
       "\n",
       "[8745 rows x 73 columns]"
      ]
     },
     "execution_count": 552,
     "metadata": {},
     "output_type": "execute_result"
    }
   ],
   "source": [
    "cancer_data2 = pd.read_csv('../../data/cancer_data_v2.csv')\n",
    "cancer_data2"
   ]
  },
  {
   "cell_type": "markdown",
   "metadata": {},
   "source": [
    "# ------------------------暂时无用---------------------------"
   ]
  },
  {
   "cell_type": "code",
   "execution_count": null,
   "metadata": {},
   "outputs": [],
   "source": [
    "def scren_nan(df, row, column):\n",
    "    \n",
    "    \n",
    "    # keep the left part\n",
    "    samples_nan_rate = dict(df.isnull().sum(axis=1)/df.shape[1] < row)\n",
    "    features_nan_rate = dict(df.isnull().sum(axis=0)/df.shape[0] < column)\n",
    "    \n",
    "    samples_to_select = [k for k, v in samples_nan_rate.items() if str(v)==\"True\"]\n",
    "    features_to_select = [k for k, v in features_nan_rate.items() if str(v)==\"True\"]\n",
    "    \n",
    "    return df.T[samples_to_select].T[features_to_select]"
   ]
  },
  {
   "cell_type": "markdown",
   "metadata": {},
   "source": [
    "# 打印缺失比例表"
   ]
  },
  {
   "cell_type": "code",
   "execution_count": 553,
   "metadata": {},
   "outputs": [],
   "source": [
    "feature2delete = pd.read_csv('../../data/AB组缺失step1.csv', index_col=0)\n",
    "feature2delete = feature2delete[feature2delete['Delete'] == 'Y'].index"
   ]
  },
  {
   "cell_type": "code",
   "execution_count": 100,
   "metadata": {},
   "outputs": [],
   "source": [
    "def missing_ratio(df):\n",
    "    group_a = df[df['A=Case, B=Control'] == 'A']\n",
    "    group_b = df[df['A=Case, B=Control'] == 'B']\n",
    "    features_nan_rate_a = group_a.isnull().sum(axis=0)/group_a.shape[0]\n",
    "    features_nan_rate_b = group_b.isnull().sum(axis=0)/group_b.shape[0]\n",
    "\n",
    "    columns_info = pd.concat([features_nan_rate_a, features_nan_rate_b], axis=1)\n",
    "    columns_info.columns = ['A', 'B']\n",
    "    return columns_info"
   ]
  },
  {
   "cell_type": "code",
   "execution_count": 124,
   "metadata": {},
   "outputs": [],
   "source": [
    "def feature_comparison(group1, group2, features, info):\n",
    "    fig_size_x = 4\n",
    "    fig_size_y = (len(features) // fig_size_x) + 1\n",
    "    plt.figure(dpi=100, figsize=(fig_size_x*2, fig_size_y*2))\n",
    "    num = 1\n",
    "    for feature in features:\n",
    "        plt.subplot(fig_size_y, fig_size_x, num)\n",
    "        plt.hist([group1[feature], group2[feature]], bins=50)\n",
    "        plt.title(feature)\n",
    "        num += 1\n",
    "    plt.legend(['Case', 'Control'], bbox_to_anchor=(1.05, 1), loc=2, borderaxespad=0)\n",
    "    plt.subplots_adjust(wspace=0.8, hspace=0.8)\n",
    "    plt.savefig(info)\n",
    "    plt.close()"
   ]
  },
  {
   "cell_type": "code",
   "execution_count": 554,
   "metadata": {},
   "outputs": [],
   "source": [
    "cancer_data3 = cancer_data2.drop(feature2delete, axis=1)"
   ]
  },
  {
   "cell_type": "markdown",
   "metadata": {},
   "source": [
    "# --------------------------------------------------"
   ]
  },
  {
   "cell_type": "code",
   "execution_count": 556,
   "metadata": {
    "scrolled": true
   },
   "outputs": [
    {
     "data": {
      "text/html": [
       "<div>\n",
       "<style scoped>\n",
       "    .dataframe tbody tr th:only-of-type {\n",
       "        vertical-align: middle;\n",
       "    }\n",
       "\n",
       "    .dataframe tbody tr th {\n",
       "        vertical-align: top;\n",
       "    }\n",
       "\n",
       "    .dataframe thead th {\n",
       "        text-align: right;\n",
       "    }\n",
       "</style>\n",
       "<table border=\"1\" class=\"dataframe\">\n",
       "  <thead>\n",
       "    <tr style=\"text-align: right;\">\n",
       "      <th></th>\n",
       "      <th>A</th>\n",
       "      <th>B</th>\n",
       "    </tr>\n",
       "  </thead>\n",
       "  <tbody>\n",
       "    <tr>\n",
       "      <th>ID</th>\n",
       "      <td>0.000000</td>\n",
       "      <td>0.000000</td>\n",
       "    </tr>\n",
       "    <tr>\n",
       "      <th>A=Case, B=Control</th>\n",
       "      <td>0.000000</td>\n",
       "      <td>0.000000</td>\n",
       "    </tr>\n",
       "    <tr>\n",
       "      <th>Origin</th>\n",
       "      <td>0.000000</td>\n",
       "      <td>0.000000</td>\n",
       "    </tr>\n",
       "    <tr>\n",
       "      <th>A=male B=female</th>\n",
       "      <td>0.000000</td>\n",
       "      <td>0.000000</td>\n",
       "    </tr>\n",
       "    <tr>\n",
       "      <th>Age</th>\n",
       "      <td>0.000000</td>\n",
       "      <td>0.000000</td>\n",
       "    </tr>\n",
       "    <tr>\n",
       "      <th>...</th>\n",
       "      <td>...</td>\n",
       "      <td>...</td>\n",
       "    </tr>\n",
       "    <tr>\n",
       "      <th>T-CEA</th>\n",
       "      <td>0.314815</td>\n",
       "      <td>0.003414</td>\n",
       "    </tr>\n",
       "    <tr>\n",
       "      <th>T-CA199</th>\n",
       "      <td>0.628338</td>\n",
       "      <td>0.183858</td>\n",
       "    </tr>\n",
       "    <tr>\n",
       "      <th>T-CA125</th>\n",
       "      <td>0.572567</td>\n",
       "      <td>0.652280</td>\n",
       "    </tr>\n",
       "    <tr>\n",
       "      <th>T-CYFRA21-1</th>\n",
       "      <td>0.382429</td>\n",
       "      <td>0.448183</td>\n",
       "    </tr>\n",
       "    <tr>\n",
       "      <th>T-NSE</th>\n",
       "      <td>0.419251</td>\n",
       "      <td>0.546696</td>\n",
       "    </tr>\n",
       "  </tbody>\n",
       "</table>\n",
       "<p>56 rows × 2 columns</p>\n",
       "</div>"
      ],
      "text/plain": [
       "                          A         B\n",
       "ID                 0.000000  0.000000\n",
       "A=Case, B=Control  0.000000  0.000000\n",
       "Origin             0.000000  0.000000\n",
       "A=male B=female    0.000000  0.000000\n",
       "Age                0.000000  0.000000\n",
       "...                     ...       ...\n",
       "T-CEA              0.314815  0.003414\n",
       "T-CA199            0.628338  0.183858\n",
       "T-CA125            0.572567  0.652280\n",
       "T-CYFRA21-1        0.382429  0.448183\n",
       "T-NSE              0.419251  0.546696\n",
       "\n",
       "[56 rows x 2 columns]"
      ]
     },
     "execution_count": 556,
     "metadata": {},
     "output_type": "execute_result"
    }
   ],
   "source": [
    "feature2delete2 = missing_ratio(cancer_data3)\n",
    "feature2delete2"
   ]
  },
  {
   "cell_type": "code",
   "execution_count": 111,
   "metadata": {},
   "outputs": [],
   "source": [
    "row_info = pd.DataFrame(columns=['MissingRate', 'A_left', 'B_left'])\n",
    "for i in np.arange(0,1.05,0.05):\n",
    "    samples_nan_rate = dict(cancer_data3.isnull().sum(axis=1)/cancer_data3.shape[1] < i)\n",
    "    samples_to_select = [k for k, v in samples_nan_rate.items() if str(v)==\"True\"]\n",
    "    cancer_data4 = cancer_data3.T[samples_to_select].T\n",
    "    a = cancer_data4[cancer_data4['A=Case, B=Control'] == 'A'].shape[0]\n",
    "    b = cancer_data4[cancer_data4['A=Case, B=Control'] == 'B'].shape[0]\n",
    "    row_info = row_info.append(pd.DataFrame({'MissingRate':[i], 'A_left':[a], 'B_left':[b]}))"
   ]
  },
  {
   "cell_type": "code",
   "execution_count": 112,
   "metadata": {},
   "outputs": [
    {
     "data": {
      "text/html": [
       "<div>\n",
       "<style scoped>\n",
       "    .dataframe tbody tr th:only-of-type {\n",
       "        vertical-align: middle;\n",
       "    }\n",
       "\n",
       "    .dataframe tbody tr th {\n",
       "        vertical-align: top;\n",
       "    }\n",
       "\n",
       "    .dataframe thead th {\n",
       "        text-align: right;\n",
       "    }\n",
       "</style>\n",
       "<table border=\"1\" class=\"dataframe\">\n",
       "  <thead>\n",
       "    <tr style=\"text-align: right;\">\n",
       "      <th></th>\n",
       "      <th>MissingRate</th>\n",
       "      <th>A_left</th>\n",
       "      <th>B_left</th>\n",
       "    </tr>\n",
       "  </thead>\n",
       "  <tbody>\n",
       "    <tr>\n",
       "      <th>0</th>\n",
       "      <td>0.00</td>\n",
       "      <td>0</td>\n",
       "      <td>0</td>\n",
       "    </tr>\n",
       "    <tr>\n",
       "      <th>0</th>\n",
       "      <td>0.05</td>\n",
       "      <td>2519</td>\n",
       "      <td>2481</td>\n",
       "    </tr>\n",
       "    <tr>\n",
       "      <th>0</th>\n",
       "      <td>0.10</td>\n",
       "      <td>3789</td>\n",
       "      <td>3738</td>\n",
       "    </tr>\n",
       "    <tr>\n",
       "      <th>0</th>\n",
       "      <td>0.15</td>\n",
       "      <td>3962</td>\n",
       "      <td>3796</td>\n",
       "    </tr>\n",
       "    <tr>\n",
       "      <th>0</th>\n",
       "      <td>0.20</td>\n",
       "      <td>3986</td>\n",
       "      <td>3796</td>\n",
       "    </tr>\n",
       "    <tr>\n",
       "      <th>0</th>\n",
       "      <td>0.25</td>\n",
       "      <td>4004</td>\n",
       "      <td>3796</td>\n",
       "    </tr>\n",
       "    <tr>\n",
       "      <th>0</th>\n",
       "      <td>0.30</td>\n",
       "      <td>4011</td>\n",
       "      <td>3796</td>\n",
       "    </tr>\n",
       "    <tr>\n",
       "      <th>0</th>\n",
       "      <td>0.35</td>\n",
       "      <td>4012</td>\n",
       "      <td>3796</td>\n",
       "    </tr>\n",
       "    <tr>\n",
       "      <th>0</th>\n",
       "      <td>0.40</td>\n",
       "      <td>4030</td>\n",
       "      <td>3796</td>\n",
       "    </tr>\n",
       "    <tr>\n",
       "      <th>0</th>\n",
       "      <td>0.45</td>\n",
       "      <td>4069</td>\n",
       "      <td>3798</td>\n",
       "    </tr>\n",
       "    <tr>\n",
       "      <th>0</th>\n",
       "      <td>0.50</td>\n",
       "      <td>4145</td>\n",
       "      <td>4064</td>\n",
       "    </tr>\n",
       "    <tr>\n",
       "      <th>0</th>\n",
       "      <td>0.55</td>\n",
       "      <td>4183</td>\n",
       "      <td>4086</td>\n",
       "    </tr>\n",
       "    <tr>\n",
       "      <th>0</th>\n",
       "      <td>0.60</td>\n",
       "      <td>4186</td>\n",
       "      <td>4087</td>\n",
       "    </tr>\n",
       "    <tr>\n",
       "      <th>0</th>\n",
       "      <td>0.65</td>\n",
       "      <td>4187</td>\n",
       "      <td>4087</td>\n",
       "    </tr>\n",
       "    <tr>\n",
       "      <th>0</th>\n",
       "      <td>0.70</td>\n",
       "      <td>4189</td>\n",
       "      <td>4087</td>\n",
       "    </tr>\n",
       "    <tr>\n",
       "      <th>0</th>\n",
       "      <td>0.75</td>\n",
       "      <td>4192</td>\n",
       "      <td>4087</td>\n",
       "    </tr>\n",
       "    <tr>\n",
       "      <th>0</th>\n",
       "      <td>0.80</td>\n",
       "      <td>4193</td>\n",
       "      <td>4087</td>\n",
       "    </tr>\n",
       "    <tr>\n",
       "      <th>0</th>\n",
       "      <td>0.85</td>\n",
       "      <td>4221</td>\n",
       "      <td>4091</td>\n",
       "    </tr>\n",
       "    <tr>\n",
       "      <th>0</th>\n",
       "      <td>0.90</td>\n",
       "      <td>4636</td>\n",
       "      <td>4099</td>\n",
       "    </tr>\n",
       "    <tr>\n",
       "      <th>0</th>\n",
       "      <td>0.95</td>\n",
       "      <td>4642</td>\n",
       "      <td>4099</td>\n",
       "    </tr>\n",
       "    <tr>\n",
       "      <th>0</th>\n",
       "      <td>1.00</td>\n",
       "      <td>4642</td>\n",
       "      <td>4099</td>\n",
       "    </tr>\n",
       "  </tbody>\n",
       "</table>\n",
       "</div>"
      ],
      "text/plain": [
       "   MissingRate A_left B_left\n",
       "0         0.00      0      0\n",
       "0         0.05   2519   2481\n",
       "0         0.10   3789   3738\n",
       "0         0.15   3962   3796\n",
       "0         0.20   3986   3796\n",
       "0         0.25   4004   3796\n",
       "0         0.30   4011   3796\n",
       "0         0.35   4012   3796\n",
       "0         0.40   4030   3796\n",
       "0         0.45   4069   3798\n",
       "0         0.50   4145   4064\n",
       "0         0.55   4183   4086\n",
       "0         0.60   4186   4087\n",
       "0         0.65   4187   4087\n",
       "0         0.70   4189   4087\n",
       "0         0.75   4192   4087\n",
       "0         0.80   4193   4087\n",
       "0         0.85   4221   4091\n",
       "0         0.90   4636   4099\n",
       "0         0.95   4642   4099\n",
       "0         1.00   4642   4099"
      ]
     },
     "execution_count": 112,
     "metadata": {},
     "output_type": "execute_result"
    }
   ],
   "source": [
    "row_info"
   ]
  },
  {
   "cell_type": "code",
   "execution_count": 101,
   "metadata": {},
   "outputs": [
    {
     "ename": "NameError",
     "evalue": "name 'columns_info' is not defined",
     "output_type": "error",
     "traceback": [
      "\u001b[1;31m---------------------------------------------------------------------------\u001b[0m",
      "\u001b[1;31mNameError\u001b[0m                                 Traceback (most recent call last)",
      "\u001b[1;32m<ipython-input-101-cf2524927425>\u001b[0m in \u001b[0;36m<module>\u001b[1;34m\u001b[0m\n\u001b[1;32m----> 1\u001b[1;33m \u001b[0mcolumns_info\u001b[0m\u001b[1;33m.\u001b[0m\u001b[0mto_csv\u001b[0m\u001b[1;33m(\u001b[0m\u001b[1;34m'../../data/AB组缺失比例.csv'\u001b[0m\u001b[1;33m)\u001b[0m\u001b[1;33m\u001b[0m\u001b[1;33m\u001b[0m\u001b[0m\n\u001b[0m",
      "\u001b[1;31mNameError\u001b[0m: name 'columns_info' is not defined"
     ]
    }
   ],
   "source": [
    "columns_info.to_csv('../../data/AB组缺失比例.csv')"
   ]
  },
  {
   "cell_type": "code",
   "execution_count": 84,
   "metadata": {},
   "outputs": [],
   "source": [
    "# row_info.to_csv('../../data/AB组剩余样本数（By row）.csv', index=False)\n",
    "# feature2delete2.to_csv('../../data/AB组缺失信息（After step1）.csv')"
   ]
  },
  {
   "cell_type": "markdown",
   "metadata": {},
   "source": [
    "# 横轴缺失率0.2以上将被过滤"
   ]
  },
  {
   "cell_type": "code",
   "execution_count": 557,
   "metadata": {},
   "outputs": [],
   "source": [
    "samples_nan_rate = dict(cancer_data3.isnull().sum(axis=1)/cancer_data3.shape[1] < 0.2)\n",
    "samples_to_select = [k for k, v in samples_nan_rate.items() if str(v)==\"True\"]\n",
    "cancer_data4 = cancer_data3.T[samples_to_select].T"
   ]
  },
  {
   "cell_type": "code",
   "execution_count": 558,
   "metadata": {
    "scrolled": true
   },
   "outputs": [
    {
     "data": {
      "text/html": [
       "<div>\n",
       "<style scoped>\n",
       "    .dataframe tbody tr th:only-of-type {\n",
       "        vertical-align: middle;\n",
       "    }\n",
       "\n",
       "    .dataframe tbody tr th {\n",
       "        vertical-align: top;\n",
       "    }\n",
       "\n",
       "    .dataframe thead th {\n",
       "        text-align: right;\n",
       "    }\n",
       "</style>\n",
       "<table border=\"1\" class=\"dataframe\">\n",
       "  <thead>\n",
       "    <tr style=\"text-align: right;\">\n",
       "      <th></th>\n",
       "      <th>ID</th>\n",
       "      <th>A=Case, B=Control</th>\n",
       "      <th>Origin</th>\n",
       "      <th>A=male B=female</th>\n",
       "      <th>Age</th>\n",
       "      <th>Pattern</th>\n",
       "      <th>Smoke</th>\n",
       "      <th>RBC</th>\n",
       "      <th>HGB</th>\n",
       "      <th>HCT</th>\n",
       "      <th>...</th>\n",
       "      <th>ALP</th>\n",
       "      <th>GGT</th>\n",
       "      <th>CK</th>\n",
       "      <th>LDH-L</th>\n",
       "      <th>HBDH</th>\n",
       "      <th>T-CEA</th>\n",
       "      <th>T-CA199</th>\n",
       "      <th>T-CA125</th>\n",
       "      <th>T-CYFRA21-1</th>\n",
       "      <th>T-NSE</th>\n",
       "    </tr>\n",
       "  </thead>\n",
       "  <tbody>\n",
       "    <tr>\n",
       "      <th>0</th>\n",
       "      <td>1</td>\n",
       "      <td>A</td>\n",
       "      <td>A</td>\n",
       "      <td>B</td>\n",
       "      <td>41</td>\n",
       "      <td>A</td>\n",
       "      <td>0</td>\n",
       "      <td>3.78</td>\n",
       "      <td>122</td>\n",
       "      <td>0.37</td>\n",
       "      <td>...</td>\n",
       "      <td>47</td>\n",
       "      <td>11</td>\n",
       "      <td>38</td>\n",
       "      <td>156</td>\n",
       "      <td>118</td>\n",
       "      <td>NaN</td>\n",
       "      <td>NaN</td>\n",
       "      <td>NaN</td>\n",
       "      <td>NaN</td>\n",
       "      <td>NaN</td>\n",
       "    </tr>\n",
       "    <tr>\n",
       "      <th>1</th>\n",
       "      <td>100</td>\n",
       "      <td>A</td>\n",
       "      <td>A</td>\n",
       "      <td>A</td>\n",
       "      <td>35</td>\n",
       "      <td>A</td>\n",
       "      <td>0</td>\n",
       "      <td>5.53</td>\n",
       "      <td>169</td>\n",
       "      <td>0.52</td>\n",
       "      <td>...</td>\n",
       "      <td>43</td>\n",
       "      <td>30</td>\n",
       "      <td>23</td>\n",
       "      <td>191</td>\n",
       "      <td>159</td>\n",
       "      <td>NaN</td>\n",
       "      <td>NaN</td>\n",
       "      <td>31.89</td>\n",
       "      <td>8.43</td>\n",
       "      <td>12.92</td>\n",
       "    </tr>\n",
       "    <tr>\n",
       "      <th>2</th>\n",
       "      <td>1000</td>\n",
       "      <td>A</td>\n",
       "      <td>A</td>\n",
       "      <td>A</td>\n",
       "      <td>50</td>\n",
       "      <td>A</td>\n",
       "      <td>0</td>\n",
       "      <td>4.04</td>\n",
       "      <td>120</td>\n",
       "      <td>0.38</td>\n",
       "      <td>...</td>\n",
       "      <td>66</td>\n",
       "      <td>17</td>\n",
       "      <td>60</td>\n",
       "      <td>211</td>\n",
       "      <td>166</td>\n",
       "      <td>3.33</td>\n",
       "      <td>42.15</td>\n",
       "      <td>49.91</td>\n",
       "      <td>3.61</td>\n",
       "      <td>11.05</td>\n",
       "    </tr>\n",
       "    <tr>\n",
       "      <th>5</th>\n",
       "      <td>1007</td>\n",
       "      <td>A</td>\n",
       "      <td>A</td>\n",
       "      <td>B</td>\n",
       "      <td>50</td>\n",
       "      <td>A</td>\n",
       "      <td>200</td>\n",
       "      <td>4.14</td>\n",
       "      <td>131</td>\n",
       "      <td>0.38</td>\n",
       "      <td>...</td>\n",
       "      <td>58</td>\n",
       "      <td>13</td>\n",
       "      <td>64</td>\n",
       "      <td>227</td>\n",
       "      <td>173</td>\n",
       "      <td>0.76</td>\n",
       "      <td>23.76</td>\n",
       "      <td>19.72</td>\n",
       "      <td>2.96</td>\n",
       "      <td>8.4</td>\n",
       "    </tr>\n",
       "    <tr>\n",
       "      <th>6</th>\n",
       "      <td>1008</td>\n",
       "      <td>A</td>\n",
       "      <td>A</td>\n",
       "      <td>A</td>\n",
       "      <td>51</td>\n",
       "      <td>A</td>\n",
       "      <td>400</td>\n",
       "      <td>4.54</td>\n",
       "      <td>139</td>\n",
       "      <td>0.41</td>\n",
       "      <td>...</td>\n",
       "      <td>88</td>\n",
       "      <td>31</td>\n",
       "      <td>51</td>\n",
       "      <td>159</td>\n",
       "      <td>146</td>\n",
       "      <td>NaN</td>\n",
       "      <td>NaN</td>\n",
       "      <td>NaN</td>\n",
       "      <td>NaN</td>\n",
       "      <td>NaN</td>\n",
       "    </tr>\n",
       "    <tr>\n",
       "      <th>...</th>\n",
       "      <td>...</td>\n",
       "      <td>...</td>\n",
       "      <td>...</td>\n",
       "      <td>...</td>\n",
       "      <td>...</td>\n",
       "      <td>...</td>\n",
       "      <td>...</td>\n",
       "      <td>...</td>\n",
       "      <td>...</td>\n",
       "      <td>...</td>\n",
       "      <td>...</td>\n",
       "      <td>...</td>\n",
       "      <td>...</td>\n",
       "      <td>...</td>\n",
       "      <td>...</td>\n",
       "      <td>...</td>\n",
       "      <td>...</td>\n",
       "      <td>...</td>\n",
       "      <td>...</td>\n",
       "      <td>...</td>\n",
       "      <td>...</td>\n",
       "    </tr>\n",
       "    <tr>\n",
       "      <th>8740</th>\n",
       "      <td>2489054</td>\n",
       "      <td>B</td>\n",
       "      <td>C</td>\n",
       "      <td>A</td>\n",
       "      <td>60</td>\n",
       "      <td>O</td>\n",
       "      <td>25</td>\n",
       "      <td>4.96</td>\n",
       "      <td>161</td>\n",
       "      <td>0.48</td>\n",
       "      <td>...</td>\n",
       "      <td>94</td>\n",
       "      <td>49</td>\n",
       "      <td>96</td>\n",
       "      <td>159</td>\n",
       "      <td>119</td>\n",
       "      <td>1.34</td>\n",
       "      <td>10.9</td>\n",
       "      <td>12.8</td>\n",
       "      <td>NaN</td>\n",
       "      <td>NaN</td>\n",
       "    </tr>\n",
       "    <tr>\n",
       "      <th>8741</th>\n",
       "      <td>2491728</td>\n",
       "      <td>B</td>\n",
       "      <td>C</td>\n",
       "      <td>A</td>\n",
       "      <td>48</td>\n",
       "      <td>O</td>\n",
       "      <td>0</td>\n",
       "      <td>5.35</td>\n",
       "      <td>174</td>\n",
       "      <td>0.51</td>\n",
       "      <td>...</td>\n",
       "      <td>60</td>\n",
       "      <td>65</td>\n",
       "      <td>76</td>\n",
       "      <td>164</td>\n",
       "      <td>129</td>\n",
       "      <td>0.97</td>\n",
       "      <td>20.91</td>\n",
       "      <td>8.24</td>\n",
       "      <td>NaN</td>\n",
       "      <td>NaN</td>\n",
       "    </tr>\n",
       "    <tr>\n",
       "      <th>8742</th>\n",
       "      <td>2491799</td>\n",
       "      <td>B</td>\n",
       "      <td>C</td>\n",
       "      <td>A</td>\n",
       "      <td>56</td>\n",
       "      <td>O</td>\n",
       "      <td>0</td>\n",
       "      <td>6.36</td>\n",
       "      <td>129</td>\n",
       "      <td>0.4</td>\n",
       "      <td>...</td>\n",
       "      <td>124</td>\n",
       "      <td>16</td>\n",
       "      <td>38</td>\n",
       "      <td>128</td>\n",
       "      <td>112</td>\n",
       "      <td>1.38</td>\n",
       "      <td>6.93</td>\n",
       "      <td>8.92</td>\n",
       "      <td>NaN</td>\n",
       "      <td>NaN</td>\n",
       "    </tr>\n",
       "    <tr>\n",
       "      <th>8743</th>\n",
       "      <td>509610</td>\n",
       "      <td>B</td>\n",
       "      <td>C</td>\n",
       "      <td>B</td>\n",
       "      <td>59</td>\n",
       "      <td>O</td>\n",
       "      <td>25</td>\n",
       "      <td>5.03</td>\n",
       "      <td>147</td>\n",
       "      <td>0.47</td>\n",
       "      <td>...</td>\n",
       "      <td>71</td>\n",
       "      <td>28</td>\n",
       "      <td>129</td>\n",
       "      <td>273</td>\n",
       "      <td>232</td>\n",
       "      <td>3.88</td>\n",
       "      <td>23.2</td>\n",
       "      <td>NaN</td>\n",
       "      <td>NaN</td>\n",
       "      <td>NaN</td>\n",
       "    </tr>\n",
       "    <tr>\n",
       "      <th>8744</th>\n",
       "      <td>791207</td>\n",
       "      <td>B</td>\n",
       "      <td>C</td>\n",
       "      <td>B</td>\n",
       "      <td>59</td>\n",
       "      <td>O</td>\n",
       "      <td>200</td>\n",
       "      <td>3.63</td>\n",
       "      <td>120</td>\n",
       "      <td>0.38</td>\n",
       "      <td>...</td>\n",
       "      <td>59</td>\n",
       "      <td>24</td>\n",
       "      <td>79</td>\n",
       "      <td>224</td>\n",
       "      <td>228</td>\n",
       "      <td>1.29</td>\n",
       "      <td>5.88</td>\n",
       "      <td>NaN</td>\n",
       "      <td>NaN</td>\n",
       "      <td>NaN</td>\n",
       "    </tr>\n",
       "  </tbody>\n",
       "</table>\n",
       "<p>7792 rows × 56 columns</p>\n",
       "</div>"
      ],
      "text/plain": [
       "           ID A=Case, B=Control Origin A=male B=female Age Pattern Smoke  \\\n",
       "0           1                 A      A               B  41       A     0   \n",
       "1         100                 A      A               A  35       A     0   \n",
       "2        1000                 A      A               A  50       A     0   \n",
       "5        1007                 A      A               B  50       A   200   \n",
       "6        1008                 A      A               A  51       A   400   \n",
       "...       ...               ...    ...             ...  ..     ...   ...   \n",
       "8740  2489054                 B      C               A  60       O    25   \n",
       "8741  2491728                 B      C               A  48       O     0   \n",
       "8742  2491799                 B      C               A  56       O     0   \n",
       "8743   509610                 B      C               B  59       O    25   \n",
       "8744   791207                 B      C               B  59       O   200   \n",
       "\n",
       "       RBC  HGB   HCT  ...  ALP GGT   CK LDH-L HBDH T-CEA T-CA199 T-CA125  \\\n",
       "0     3.78  122  0.37  ...   47  11   38   156  118   NaN     NaN     NaN   \n",
       "1     5.53  169  0.52  ...   43  30   23   191  159   NaN     NaN   31.89   \n",
       "2     4.04  120  0.38  ...   66  17   60   211  166  3.33   42.15   49.91   \n",
       "5     4.14  131  0.38  ...   58  13   64   227  173  0.76   23.76   19.72   \n",
       "6     4.54  139  0.41  ...   88  31   51   159  146   NaN     NaN     NaN   \n",
       "...    ...  ...   ...  ...  ...  ..  ...   ...  ...   ...     ...     ...   \n",
       "8740  4.96  161  0.48  ...   94  49   96   159  119  1.34    10.9    12.8   \n",
       "8741  5.35  174  0.51  ...   60  65   76   164  129  0.97   20.91    8.24   \n",
       "8742  6.36  129   0.4  ...  124  16   38   128  112  1.38    6.93    8.92   \n",
       "8743  5.03  147  0.47  ...   71  28  129   273  232  3.88    23.2     NaN   \n",
       "8744  3.63  120  0.38  ...   59  24   79   224  228  1.29    5.88     NaN   \n",
       "\n",
       "     T-CYFRA21-1  T-NSE  \n",
       "0            NaN    NaN  \n",
       "1           8.43  12.92  \n",
       "2           3.61  11.05  \n",
       "5           2.96    8.4  \n",
       "6            NaN    NaN  \n",
       "...          ...    ...  \n",
       "8740         NaN    NaN  \n",
       "8741         NaN    NaN  \n",
       "8742         NaN    NaN  \n",
       "8743         NaN    NaN  \n",
       "8744         NaN    NaN  \n",
       "\n",
       "[7792 rows x 56 columns]"
      ]
     },
     "execution_count": 558,
     "metadata": {},
     "output_type": "execute_result"
    }
   ],
   "source": [
    "cancer_data4"
   ]
  },
  {
   "cell_type": "code",
   "execution_count": 102,
   "metadata": {},
   "outputs": [],
   "source": [
    "column_info = pd.DataFrame(columns=['MissingRate', 'Feature_left', 'Feature_screened'])\n",
    "for i in np.arange(0,1.05,0.05):\n",
    "    features_nan_rate = dict(cancer_data4.isnull().sum(axis=0)/cancer_data4.shape[0] < i)\n",
    "    features_to_select = [k for k, v in features_nan_rate.items() if str(v)==\"True\"]\n",
    "    features_be_screened = [k for k, v in features_nan_rate.items() if str(v)==\"False\"]\n",
    "    cancer_data5 = cancer_data4[features_to_select]\n",
    "    column_info = column_info.append(pd.DataFrame({'MissingRate':[i], 'Feature_left':[cancer_data5.shape[1]], 'Feature_screeded':[features_be_screened]}))"
   ]
  },
  {
   "cell_type": "code",
   "execution_count": 103,
   "metadata": {},
   "outputs": [],
   "source": [
    "# column_info.to_csv('../../data/剩余特征数.csv', index=False)"
   ]
  },
  {
   "cell_type": "markdown",
   "metadata": {},
   "source": [
    "# 纵轴缺失率0.15以上将被过滤"
   ]
  },
  {
   "cell_type": "code",
   "execution_count": 559,
   "metadata": {},
   "outputs": [],
   "source": [
    "features_nan_rate = dict(cancer_data4.isnull().sum(axis=0)/cancer_data4.shape[0] < 0.15)\n",
    "features_to_select = [k for k, v in features_nan_rate.items() if str(v)==\"True\"]\n",
    "cancer_data5 = cancer_data4[features_to_select]"
   ]
  },
  {
   "cell_type": "code",
   "execution_count": 560,
   "metadata": {},
   "outputs": [
    {
     "data": {
      "text/html": [
       "<div>\n",
       "<style scoped>\n",
       "    .dataframe tbody tr th:only-of-type {\n",
       "        vertical-align: middle;\n",
       "    }\n",
       "\n",
       "    .dataframe tbody tr th {\n",
       "        vertical-align: top;\n",
       "    }\n",
       "\n",
       "    .dataframe thead th {\n",
       "        text-align: right;\n",
       "    }\n",
       "</style>\n",
       "<table border=\"1\" class=\"dataframe\">\n",
       "  <thead>\n",
       "    <tr style=\"text-align: right;\">\n",
       "      <th></th>\n",
       "      <th>ID</th>\n",
       "      <th>A=Case, B=Control</th>\n",
       "      <th>Origin</th>\n",
       "      <th>A=male B=female</th>\n",
       "      <th>Age</th>\n",
       "      <th>Pattern</th>\n",
       "      <th>Smoke</th>\n",
       "      <th>RBC</th>\n",
       "      <th>HGB</th>\n",
       "      <th>HCT</th>\n",
       "      <th>...</th>\n",
       "      <th>TG</th>\n",
       "      <th>TCH</th>\n",
       "      <th>HDL-C</th>\n",
       "      <th>LDL-C</th>\n",
       "      <th>ALP</th>\n",
       "      <th>GGT</th>\n",
       "      <th>CK</th>\n",
       "      <th>LDH-L</th>\n",
       "      <th>HBDH</th>\n",
       "      <th>T-CEA</th>\n",
       "    </tr>\n",
       "  </thead>\n",
       "  <tbody>\n",
       "    <tr>\n",
       "      <th>0</th>\n",
       "      <td>1</td>\n",
       "      <td>A</td>\n",
       "      <td>A</td>\n",
       "      <td>B</td>\n",
       "      <td>41</td>\n",
       "      <td>A</td>\n",
       "      <td>0</td>\n",
       "      <td>3.78</td>\n",
       "      <td>122</td>\n",
       "      <td>0.37</td>\n",
       "      <td>...</td>\n",
       "      <td>0.53</td>\n",
       "      <td>3.86</td>\n",
       "      <td>1.99</td>\n",
       "      <td>1.67</td>\n",
       "      <td>47</td>\n",
       "      <td>11</td>\n",
       "      <td>38</td>\n",
       "      <td>156</td>\n",
       "      <td>118</td>\n",
       "      <td>NaN</td>\n",
       "    </tr>\n",
       "    <tr>\n",
       "      <th>1</th>\n",
       "      <td>100</td>\n",
       "      <td>A</td>\n",
       "      <td>A</td>\n",
       "      <td>A</td>\n",
       "      <td>35</td>\n",
       "      <td>A</td>\n",
       "      <td>0</td>\n",
       "      <td>5.53</td>\n",
       "      <td>169</td>\n",
       "      <td>0.52</td>\n",
       "      <td>...</td>\n",
       "      <td>1.23</td>\n",
       "      <td>6.6</td>\n",
       "      <td>2.49</td>\n",
       "      <td>3.85</td>\n",
       "      <td>43</td>\n",
       "      <td>30</td>\n",
       "      <td>23</td>\n",
       "      <td>191</td>\n",
       "      <td>159</td>\n",
       "      <td>NaN</td>\n",
       "    </tr>\n",
       "    <tr>\n",
       "      <th>2</th>\n",
       "      <td>1000</td>\n",
       "      <td>A</td>\n",
       "      <td>A</td>\n",
       "      <td>A</td>\n",
       "      <td>50</td>\n",
       "      <td>A</td>\n",
       "      <td>0</td>\n",
       "      <td>4.04</td>\n",
       "      <td>120</td>\n",
       "      <td>0.38</td>\n",
       "      <td>...</td>\n",
       "      <td>0.93</td>\n",
       "      <td>4.22</td>\n",
       "      <td>1.12</td>\n",
       "      <td>2.96</td>\n",
       "      <td>66</td>\n",
       "      <td>17</td>\n",
       "      <td>60</td>\n",
       "      <td>211</td>\n",
       "      <td>166</td>\n",
       "      <td>3.33</td>\n",
       "    </tr>\n",
       "    <tr>\n",
       "      <th>5</th>\n",
       "      <td>1007</td>\n",
       "      <td>A</td>\n",
       "      <td>A</td>\n",
       "      <td>B</td>\n",
       "      <td>50</td>\n",
       "      <td>A</td>\n",
       "      <td>200</td>\n",
       "      <td>4.14</td>\n",
       "      <td>131</td>\n",
       "      <td>0.38</td>\n",
       "      <td>...</td>\n",
       "      <td>1.76</td>\n",
       "      <td>3.97</td>\n",
       "      <td>1.47</td>\n",
       "      <td>2.2</td>\n",
       "      <td>58</td>\n",
       "      <td>13</td>\n",
       "      <td>64</td>\n",
       "      <td>227</td>\n",
       "      <td>173</td>\n",
       "      <td>0.76</td>\n",
       "    </tr>\n",
       "    <tr>\n",
       "      <th>6</th>\n",
       "      <td>1008</td>\n",
       "      <td>A</td>\n",
       "      <td>A</td>\n",
       "      <td>A</td>\n",
       "      <td>51</td>\n",
       "      <td>A</td>\n",
       "      <td>400</td>\n",
       "      <td>4.54</td>\n",
       "      <td>139</td>\n",
       "      <td>0.41</td>\n",
       "      <td>...</td>\n",
       "      <td>1.27</td>\n",
       "      <td>3.55</td>\n",
       "      <td>1.1</td>\n",
       "      <td>2.13</td>\n",
       "      <td>88</td>\n",
       "      <td>31</td>\n",
       "      <td>51</td>\n",
       "      <td>159</td>\n",
       "      <td>146</td>\n",
       "      <td>NaN</td>\n",
       "    </tr>\n",
       "    <tr>\n",
       "      <th>...</th>\n",
       "      <td>...</td>\n",
       "      <td>...</td>\n",
       "      <td>...</td>\n",
       "      <td>...</td>\n",
       "      <td>...</td>\n",
       "      <td>...</td>\n",
       "      <td>...</td>\n",
       "      <td>...</td>\n",
       "      <td>...</td>\n",
       "      <td>...</td>\n",
       "      <td>...</td>\n",
       "      <td>...</td>\n",
       "      <td>...</td>\n",
       "      <td>...</td>\n",
       "      <td>...</td>\n",
       "      <td>...</td>\n",
       "      <td>...</td>\n",
       "      <td>...</td>\n",
       "      <td>...</td>\n",
       "      <td>...</td>\n",
       "      <td>...</td>\n",
       "    </tr>\n",
       "    <tr>\n",
       "      <th>8740</th>\n",
       "      <td>2489054</td>\n",
       "      <td>B</td>\n",
       "      <td>C</td>\n",
       "      <td>A</td>\n",
       "      <td>60</td>\n",
       "      <td>O</td>\n",
       "      <td>25</td>\n",
       "      <td>4.96</td>\n",
       "      <td>161</td>\n",
       "      <td>0.48</td>\n",
       "      <td>...</td>\n",
       "      <td>1.82</td>\n",
       "      <td>5.39</td>\n",
       "      <td>1.35</td>\n",
       "      <td>3.4</td>\n",
       "      <td>94</td>\n",
       "      <td>49</td>\n",
       "      <td>96</td>\n",
       "      <td>159</td>\n",
       "      <td>119</td>\n",
       "      <td>1.34</td>\n",
       "    </tr>\n",
       "    <tr>\n",
       "      <th>8741</th>\n",
       "      <td>2491728</td>\n",
       "      <td>B</td>\n",
       "      <td>C</td>\n",
       "      <td>A</td>\n",
       "      <td>48</td>\n",
       "      <td>O</td>\n",
       "      <td>0</td>\n",
       "      <td>5.35</td>\n",
       "      <td>174</td>\n",
       "      <td>0.51</td>\n",
       "      <td>...</td>\n",
       "      <td>0.97</td>\n",
       "      <td>5.22</td>\n",
       "      <td>1.11</td>\n",
       "      <td>3.71</td>\n",
       "      <td>60</td>\n",
       "      <td>65</td>\n",
       "      <td>76</td>\n",
       "      <td>164</td>\n",
       "      <td>129</td>\n",
       "      <td>0.97</td>\n",
       "    </tr>\n",
       "    <tr>\n",
       "      <th>8742</th>\n",
       "      <td>2491799</td>\n",
       "      <td>B</td>\n",
       "      <td>C</td>\n",
       "      <td>A</td>\n",
       "      <td>56</td>\n",
       "      <td>O</td>\n",
       "      <td>0</td>\n",
       "      <td>6.36</td>\n",
       "      <td>129</td>\n",
       "      <td>0.4</td>\n",
       "      <td>...</td>\n",
       "      <td>1.19</td>\n",
       "      <td>5.91</td>\n",
       "      <td>1.39</td>\n",
       "      <td>4.03</td>\n",
       "      <td>124</td>\n",
       "      <td>16</td>\n",
       "      <td>38</td>\n",
       "      <td>128</td>\n",
       "      <td>112</td>\n",
       "      <td>1.38</td>\n",
       "    </tr>\n",
       "    <tr>\n",
       "      <th>8743</th>\n",
       "      <td>509610</td>\n",
       "      <td>B</td>\n",
       "      <td>C</td>\n",
       "      <td>B</td>\n",
       "      <td>59</td>\n",
       "      <td>O</td>\n",
       "      <td>25</td>\n",
       "      <td>5.03</td>\n",
       "      <td>147</td>\n",
       "      <td>0.47</td>\n",
       "      <td>...</td>\n",
       "      <td>0.71</td>\n",
       "      <td>5.39</td>\n",
       "      <td>1.83</td>\n",
       "      <td>2.88</td>\n",
       "      <td>71</td>\n",
       "      <td>28</td>\n",
       "      <td>129</td>\n",
       "      <td>273</td>\n",
       "      <td>232</td>\n",
       "      <td>3.88</td>\n",
       "    </tr>\n",
       "    <tr>\n",
       "      <th>8744</th>\n",
       "      <td>791207</td>\n",
       "      <td>B</td>\n",
       "      <td>C</td>\n",
       "      <td>B</td>\n",
       "      <td>59</td>\n",
       "      <td>O</td>\n",
       "      <td>200</td>\n",
       "      <td>3.63</td>\n",
       "      <td>120</td>\n",
       "      <td>0.38</td>\n",
       "      <td>...</td>\n",
       "      <td>1.54</td>\n",
       "      <td>4.38</td>\n",
       "      <td>1.56</td>\n",
       "      <td>2.45</td>\n",
       "      <td>59</td>\n",
       "      <td>24</td>\n",
       "      <td>79</td>\n",
       "      <td>224</td>\n",
       "      <td>228</td>\n",
       "      <td>1.29</td>\n",
       "    </tr>\n",
       "  </tbody>\n",
       "</table>\n",
       "<p>7792 rows × 52 columns</p>\n",
       "</div>"
      ],
      "text/plain": [
       "           ID A=Case, B=Control Origin A=male B=female Age Pattern Smoke  \\\n",
       "0           1                 A      A               B  41       A     0   \n",
       "1         100                 A      A               A  35       A     0   \n",
       "2        1000                 A      A               A  50       A     0   \n",
       "5        1007                 A      A               B  50       A   200   \n",
       "6        1008                 A      A               A  51       A   400   \n",
       "...       ...               ...    ...             ...  ..     ...   ...   \n",
       "8740  2489054                 B      C               A  60       O    25   \n",
       "8741  2491728                 B      C               A  48       O     0   \n",
       "8742  2491799                 B      C               A  56       O     0   \n",
       "8743   509610                 B      C               B  59       O    25   \n",
       "8744   791207                 B      C               B  59       O   200   \n",
       "\n",
       "       RBC  HGB   HCT  ...    TG   TCH HDL-C LDL-C  ALP GGT   CK LDH-L HBDH  \\\n",
       "0     3.78  122  0.37  ...  0.53  3.86  1.99  1.67   47  11   38   156  118   \n",
       "1     5.53  169  0.52  ...  1.23   6.6  2.49  3.85   43  30   23   191  159   \n",
       "2     4.04  120  0.38  ...  0.93  4.22  1.12  2.96   66  17   60   211  166   \n",
       "5     4.14  131  0.38  ...  1.76  3.97  1.47   2.2   58  13   64   227  173   \n",
       "6     4.54  139  0.41  ...  1.27  3.55   1.1  2.13   88  31   51   159  146   \n",
       "...    ...  ...   ...  ...   ...   ...   ...   ...  ...  ..  ...   ...  ...   \n",
       "8740  4.96  161  0.48  ...  1.82  5.39  1.35   3.4   94  49   96   159  119   \n",
       "8741  5.35  174  0.51  ...  0.97  5.22  1.11  3.71   60  65   76   164  129   \n",
       "8742  6.36  129   0.4  ...  1.19  5.91  1.39  4.03  124  16   38   128  112   \n",
       "8743  5.03  147  0.47  ...  0.71  5.39  1.83  2.88   71  28  129   273  232   \n",
       "8744  3.63  120  0.38  ...  1.54  4.38  1.56  2.45   59  24   79   224  228   \n",
       "\n",
       "     T-CEA  \n",
       "0      NaN  \n",
       "1      NaN  \n",
       "2     3.33  \n",
       "5     0.76  \n",
       "6      NaN  \n",
       "...    ...  \n",
       "8740  1.34  \n",
       "8741  0.97  \n",
       "8742  1.38  \n",
       "8743  3.88  \n",
       "8744  1.29  \n",
       "\n",
       "[7792 rows x 52 columns]"
      ]
     },
     "execution_count": 560,
     "metadata": {},
     "output_type": "execute_result"
    }
   ],
   "source": [
    "cancer_data5"
   ]
  },
  {
   "cell_type": "code",
   "execution_count": 561,
   "metadata": {},
   "outputs": [],
   "source": [
    "cancer_data5.to_csv('../../data/cancer_data_v3.csv', index=False)"
   ]
  },
  {
   "cell_type": "markdown",
   "metadata": {},
   "source": [
    "# 异常值处理"
   ]
  },
  {
   "cell_type": "code",
   "execution_count": 148,
   "metadata": {
    "scrolled": true
   },
   "outputs": [
    {
     "data": {
      "text/html": [
       "<div>\n",
       "<style scoped>\n",
       "    .dataframe tbody tr th:only-of-type {\n",
       "        vertical-align: middle;\n",
       "    }\n",
       "\n",
       "    .dataframe tbody tr th {\n",
       "        vertical-align: top;\n",
       "    }\n",
       "\n",
       "    .dataframe thead th {\n",
       "        text-align: right;\n",
       "    }\n",
       "</style>\n",
       "<table border=\"1\" class=\"dataframe\">\n",
       "  <thead>\n",
       "    <tr style=\"text-align: right;\">\n",
       "      <th></th>\n",
       "      <th>ID</th>\n",
       "      <th>A=Case, B=Control</th>\n",
       "      <th>Origin</th>\n",
       "      <th>A=male B=female</th>\n",
       "      <th>Pattern</th>\n",
       "      <th>Age</th>\n",
       "      <th>Smoke</th>\n",
       "      <th>RBC</th>\n",
       "      <th>HGB</th>\n",
       "      <th>HCT</th>\n",
       "      <th>...</th>\n",
       "      <th>TG</th>\n",
       "      <th>TCH</th>\n",
       "      <th>HDL-C</th>\n",
       "      <th>LDL-C</th>\n",
       "      <th>ALP</th>\n",
       "      <th>GGT</th>\n",
       "      <th>CK</th>\n",
       "      <th>LDH-L</th>\n",
       "      <th>HBDH</th>\n",
       "      <th>T-CEA</th>\n",
       "    </tr>\n",
       "  </thead>\n",
       "  <tbody>\n",
       "    <tr>\n",
       "      <th>0</th>\n",
       "      <td>1</td>\n",
       "      <td>A</td>\n",
       "      <td>A</td>\n",
       "      <td>B</td>\n",
       "      <td>A</td>\n",
       "      <td>41</td>\n",
       "      <td>0.0</td>\n",
       "      <td>3.78</td>\n",
       "      <td>122.0</td>\n",
       "      <td>0.37</td>\n",
       "      <td>...</td>\n",
       "      <td>0.53</td>\n",
       "      <td>3.86</td>\n",
       "      <td>1.99</td>\n",
       "      <td>1.67</td>\n",
       "      <td>47.0</td>\n",
       "      <td>11.0</td>\n",
       "      <td>38.0</td>\n",
       "      <td>156.0</td>\n",
       "      <td>118.0</td>\n",
       "      <td>NaN</td>\n",
       "    </tr>\n",
       "    <tr>\n",
       "      <th>1</th>\n",
       "      <td>100</td>\n",
       "      <td>A</td>\n",
       "      <td>A</td>\n",
       "      <td>A</td>\n",
       "      <td>A</td>\n",
       "      <td>35</td>\n",
       "      <td>0.0</td>\n",
       "      <td>5.53</td>\n",
       "      <td>169.0</td>\n",
       "      <td>0.52</td>\n",
       "      <td>...</td>\n",
       "      <td>1.23</td>\n",
       "      <td>6.60</td>\n",
       "      <td>2.49</td>\n",
       "      <td>3.85</td>\n",
       "      <td>43.0</td>\n",
       "      <td>30.0</td>\n",
       "      <td>23.0</td>\n",
       "      <td>191.0</td>\n",
       "      <td>159.0</td>\n",
       "      <td>NaN</td>\n",
       "    </tr>\n",
       "    <tr>\n",
       "      <th>2</th>\n",
       "      <td>1000</td>\n",
       "      <td>A</td>\n",
       "      <td>A</td>\n",
       "      <td>A</td>\n",
       "      <td>A</td>\n",
       "      <td>50</td>\n",
       "      <td>0.0</td>\n",
       "      <td>4.04</td>\n",
       "      <td>120.0</td>\n",
       "      <td>0.38</td>\n",
       "      <td>...</td>\n",
       "      <td>0.93</td>\n",
       "      <td>4.22</td>\n",
       "      <td>1.12</td>\n",
       "      <td>2.96</td>\n",
       "      <td>66.0</td>\n",
       "      <td>17.0</td>\n",
       "      <td>60.0</td>\n",
       "      <td>211.0</td>\n",
       "      <td>166.0</td>\n",
       "      <td>3.33</td>\n",
       "    </tr>\n",
       "    <tr>\n",
       "      <th>3</th>\n",
       "      <td>1007</td>\n",
       "      <td>A</td>\n",
       "      <td>A</td>\n",
       "      <td>B</td>\n",
       "      <td>A</td>\n",
       "      <td>50</td>\n",
       "      <td>200.0</td>\n",
       "      <td>4.14</td>\n",
       "      <td>131.0</td>\n",
       "      <td>0.38</td>\n",
       "      <td>...</td>\n",
       "      <td>1.76</td>\n",
       "      <td>3.97</td>\n",
       "      <td>1.47</td>\n",
       "      <td>2.20</td>\n",
       "      <td>58.0</td>\n",
       "      <td>13.0</td>\n",
       "      <td>64.0</td>\n",
       "      <td>227.0</td>\n",
       "      <td>173.0</td>\n",
       "      <td>0.76</td>\n",
       "    </tr>\n",
       "    <tr>\n",
       "      <th>4</th>\n",
       "      <td>1008</td>\n",
       "      <td>A</td>\n",
       "      <td>A</td>\n",
       "      <td>A</td>\n",
       "      <td>A</td>\n",
       "      <td>51</td>\n",
       "      <td>400.0</td>\n",
       "      <td>4.54</td>\n",
       "      <td>139.0</td>\n",
       "      <td>0.41</td>\n",
       "      <td>...</td>\n",
       "      <td>1.27</td>\n",
       "      <td>3.55</td>\n",
       "      <td>1.10</td>\n",
       "      <td>2.13</td>\n",
       "      <td>88.0</td>\n",
       "      <td>31.0</td>\n",
       "      <td>51.0</td>\n",
       "      <td>159.0</td>\n",
       "      <td>146.0</td>\n",
       "      <td>NaN</td>\n",
       "    </tr>\n",
       "    <tr>\n",
       "      <th>...</th>\n",
       "      <td>...</td>\n",
       "      <td>...</td>\n",
       "      <td>...</td>\n",
       "      <td>...</td>\n",
       "      <td>...</td>\n",
       "      <td>...</td>\n",
       "      <td>...</td>\n",
       "      <td>...</td>\n",
       "      <td>...</td>\n",
       "      <td>...</td>\n",
       "      <td>...</td>\n",
       "      <td>...</td>\n",
       "      <td>...</td>\n",
       "      <td>...</td>\n",
       "      <td>...</td>\n",
       "      <td>...</td>\n",
       "      <td>...</td>\n",
       "      <td>...</td>\n",
       "      <td>...</td>\n",
       "      <td>...</td>\n",
       "      <td>...</td>\n",
       "    </tr>\n",
       "    <tr>\n",
       "      <th>7787</th>\n",
       "      <td>2489054</td>\n",
       "      <td>B</td>\n",
       "      <td>C</td>\n",
       "      <td>A</td>\n",
       "      <td>O</td>\n",
       "      <td>60</td>\n",
       "      <td>25.0</td>\n",
       "      <td>4.96</td>\n",
       "      <td>161.0</td>\n",
       "      <td>0.48</td>\n",
       "      <td>...</td>\n",
       "      <td>1.82</td>\n",
       "      <td>5.39</td>\n",
       "      <td>1.35</td>\n",
       "      <td>3.40</td>\n",
       "      <td>94.0</td>\n",
       "      <td>49.0</td>\n",
       "      <td>96.0</td>\n",
       "      <td>159.0</td>\n",
       "      <td>119.0</td>\n",
       "      <td>1.34</td>\n",
       "    </tr>\n",
       "    <tr>\n",
       "      <th>7788</th>\n",
       "      <td>2491728</td>\n",
       "      <td>B</td>\n",
       "      <td>C</td>\n",
       "      <td>A</td>\n",
       "      <td>O</td>\n",
       "      <td>48</td>\n",
       "      <td>0.0</td>\n",
       "      <td>5.35</td>\n",
       "      <td>174.0</td>\n",
       "      <td>0.51</td>\n",
       "      <td>...</td>\n",
       "      <td>0.97</td>\n",
       "      <td>5.22</td>\n",
       "      <td>1.11</td>\n",
       "      <td>3.71</td>\n",
       "      <td>60.0</td>\n",
       "      <td>65.0</td>\n",
       "      <td>76.0</td>\n",
       "      <td>164.0</td>\n",
       "      <td>129.0</td>\n",
       "      <td>0.97</td>\n",
       "    </tr>\n",
       "    <tr>\n",
       "      <th>7789</th>\n",
       "      <td>2491799</td>\n",
       "      <td>B</td>\n",
       "      <td>C</td>\n",
       "      <td>A</td>\n",
       "      <td>O</td>\n",
       "      <td>56</td>\n",
       "      <td>0.0</td>\n",
       "      <td>6.36</td>\n",
       "      <td>129.0</td>\n",
       "      <td>0.40</td>\n",
       "      <td>...</td>\n",
       "      <td>1.19</td>\n",
       "      <td>5.91</td>\n",
       "      <td>1.39</td>\n",
       "      <td>4.03</td>\n",
       "      <td>124.0</td>\n",
       "      <td>16.0</td>\n",
       "      <td>38.0</td>\n",
       "      <td>128.0</td>\n",
       "      <td>112.0</td>\n",
       "      <td>1.38</td>\n",
       "    </tr>\n",
       "    <tr>\n",
       "      <th>7790</th>\n",
       "      <td>509610</td>\n",
       "      <td>B</td>\n",
       "      <td>C</td>\n",
       "      <td>B</td>\n",
       "      <td>O</td>\n",
       "      <td>59</td>\n",
       "      <td>25.0</td>\n",
       "      <td>5.03</td>\n",
       "      <td>147.0</td>\n",
       "      <td>0.47</td>\n",
       "      <td>...</td>\n",
       "      <td>0.71</td>\n",
       "      <td>5.39</td>\n",
       "      <td>1.83</td>\n",
       "      <td>2.88</td>\n",
       "      <td>71.0</td>\n",
       "      <td>28.0</td>\n",
       "      <td>129.0</td>\n",
       "      <td>273.0</td>\n",
       "      <td>232.0</td>\n",
       "      <td>3.88</td>\n",
       "    </tr>\n",
       "    <tr>\n",
       "      <th>7791</th>\n",
       "      <td>791207</td>\n",
       "      <td>B</td>\n",
       "      <td>C</td>\n",
       "      <td>B</td>\n",
       "      <td>O</td>\n",
       "      <td>59</td>\n",
       "      <td>200.0</td>\n",
       "      <td>3.63</td>\n",
       "      <td>120.0</td>\n",
       "      <td>0.38</td>\n",
       "      <td>...</td>\n",
       "      <td>1.54</td>\n",
       "      <td>4.38</td>\n",
       "      <td>1.56</td>\n",
       "      <td>2.45</td>\n",
       "      <td>59.0</td>\n",
       "      <td>24.0</td>\n",
       "      <td>79.0</td>\n",
       "      <td>224.0</td>\n",
       "      <td>228.0</td>\n",
       "      <td>1.29</td>\n",
       "    </tr>\n",
       "  </tbody>\n",
       "</table>\n",
       "<p>7792 rows × 52 columns</p>\n",
       "</div>"
      ],
      "text/plain": [
       "           ID A=Case, B=Control Origin A=male B=female Pattern  Age  Smoke  \\\n",
       "0           1                 A      A               B       A   41    0.0   \n",
       "1         100                 A      A               A       A   35    0.0   \n",
       "2        1000                 A      A               A       A   50    0.0   \n",
       "3        1007                 A      A               B       A   50  200.0   \n",
       "4        1008                 A      A               A       A   51  400.0   \n",
       "...       ...               ...    ...             ...     ...  ...    ...   \n",
       "7787  2489054                 B      C               A       O   60   25.0   \n",
       "7788  2491728                 B      C               A       O   48    0.0   \n",
       "7789  2491799                 B      C               A       O   56    0.0   \n",
       "7790   509610                 B      C               B       O   59   25.0   \n",
       "7791   791207                 B      C               B       O   59  200.0   \n",
       "\n",
       "       RBC    HGB   HCT  ...    TG   TCH  HDL-C  LDL-C    ALP   GGT     CK  \\\n",
       "0     3.78  122.0  0.37  ...  0.53  3.86   1.99   1.67   47.0  11.0   38.0   \n",
       "1     5.53  169.0  0.52  ...  1.23  6.60   2.49   3.85   43.0  30.0   23.0   \n",
       "2     4.04  120.0  0.38  ...  0.93  4.22   1.12   2.96   66.0  17.0   60.0   \n",
       "3     4.14  131.0  0.38  ...  1.76  3.97   1.47   2.20   58.0  13.0   64.0   \n",
       "4     4.54  139.0  0.41  ...  1.27  3.55   1.10   2.13   88.0  31.0   51.0   \n",
       "...    ...    ...   ...  ...   ...   ...    ...    ...    ...   ...    ...   \n",
       "7787  4.96  161.0  0.48  ...  1.82  5.39   1.35   3.40   94.0  49.0   96.0   \n",
       "7788  5.35  174.0  0.51  ...  0.97  5.22   1.11   3.71   60.0  65.0   76.0   \n",
       "7789  6.36  129.0  0.40  ...  1.19  5.91   1.39   4.03  124.0  16.0   38.0   \n",
       "7790  5.03  147.0  0.47  ...  0.71  5.39   1.83   2.88   71.0  28.0  129.0   \n",
       "7791  3.63  120.0  0.38  ...  1.54  4.38   1.56   2.45   59.0  24.0   79.0   \n",
       "\n",
       "      LDH-L   HBDH  T-CEA  \n",
       "0     156.0  118.0    NaN  \n",
       "1     191.0  159.0    NaN  \n",
       "2     211.0  166.0   3.33  \n",
       "3     227.0  173.0   0.76  \n",
       "4     159.0  146.0    NaN  \n",
       "...     ...    ...    ...  \n",
       "7787  159.0  119.0   1.34  \n",
       "7788  164.0  129.0   0.97  \n",
       "7789  128.0  112.0   1.38  \n",
       "7790  273.0  232.0   3.88  \n",
       "7791  224.0  228.0   1.29  \n",
       "\n",
       "[7792 rows x 52 columns]"
      ]
     },
     "execution_count": 148,
     "metadata": {},
     "output_type": "execute_result"
    }
   ],
   "source": [
    "cancer_data = pd.read_csv('../../data/cancer_data_v3.csv')\n",
    "cancer_data"
   ]
  },
  {
   "cell_type": "code",
   "execution_count": 4,
   "metadata": {},
   "outputs": [],
   "source": [
    "def stat_info(df, fea):\n",
    "    a = df[df['A=Case, B=Control']=='A'][fea]    \n",
    "    b = df[df['A=Case, B=Control']=='B'][fea]\n",
    "    print(f'{fea}:\\tCase\\tControl')\n",
    "    print(f'Null:\\t{a.isnull().values.any()}\\t{b.isnull().values.any()}')\n",
    "    a.dropna(inplace=True)\n",
    "    b.dropna(inplace=True)\n",
    "    print(f'均值:\\t{a.mean()}\\t{b.mean()}')\n",
    "    print(f'方差:\\t{a.std()}\\t{b.std()}')\n",
    "    print(f'Max:\\t{a.max()}\\t{b.max()}')\n",
    "    print(f'上四分位:\\t{a.quantile(0.75)}\\t{b.quantile(0.75)}')\n",
    "    print(f'中位数:\\t{a.median()}\\t{b.median()}')\n",
    "    print(f'下四分位:\\t{a.quantile(0.25)}\\t{b.quantile(0.25)}')\n",
    "    print(f'Min:\\t{a.min()}\\t{b.min()}')\n",
    "    print(f'偏度:\\t{a.skew()}\\t{b.skew()}')\n",
    "    print(f'峰度:\\t{a.kurt()}\\t{b.kurt()}')\n",
    "    print(f'P值:\\t{ss.ttest_ind(a, b)[1]}')\n",
    "    plt.hist([a,b], bins=50)\n",
    "    plt.legend(['Case','Control'])\n",
    "    plt.show()"
   ]
  },
  {
   "cell_type": "code",
   "execution_count": 149,
   "metadata": {},
   "outputs": [],
   "source": [
    "Age_group = cancer_data['Age'].apply(lambda x: 'Y' if x<52 else 'O' if x>68 else 'M') # Young, Old, Middle"
   ]
  },
  {
   "cell_type": "code",
   "execution_count": 150,
   "metadata": {},
   "outputs": [],
   "source": [
    "cancer_data.insert(5,'Age_group',Age_group)"
   ]
  },
  {
   "cell_type": "markdown",
   "metadata": {},
   "source": [
    "## 处理Nan: 中位数填充，依照依照年龄，性别分别填充"
   ]
  },
  {
   "cell_type": "code",
   "execution_count": 151,
   "metadata": {},
   "outputs": [],
   "source": [
    "for fea in cancer_data.columns[6:]:\n",
    "    median = cancer_data.groupby(['A=male B=female', 'Age_group'])[fea].median()\n",
    "    cancer_data.set_index(['A=male B=female', 'Age_group'], inplace=True)\n",
    "    cancer_data[fea].fillna(median, inplace=True)\n",
    "    cancer_data.reset_index(inplace=True)"
   ]
  },
  {
   "cell_type": "markdown",
   "metadata": {},
   "source": [
    "## 处理各个特征的异常值"
   ]
  },
  {
   "cell_type": "code",
   "execution_count": 154,
   "metadata": {},
   "outputs": [],
   "source": [
    "cancer_data2 = cancer_data.loc[:,:'Pattern']"
   ]
  },
  {
   "cell_type": "code",
   "execution_count": 155,
   "metadata": {},
   "outputs": [
    {
     "name": "stdout",
     "output_type": "stream",
     "text": [
      "Age:\tCase\tControl\n",
      "Null:\tFalse\tFalse\n",
      "均值:\t59.707310966449676\t59.53791469194313\n",
      "方差:\t11.910540219675632\t12.326649341294637\n",
      "Max:\t93\t93\n",
      "上四分位:\t68.0\t68.0\n",
      "中位数:\t60.0\t60.0\n",
      "下四分位:\t52.0\t51.0\n",
      "Min:\t15\t15\n",
      "偏度:\t-0.2920279851484594\t-0.30013983493490837\n",
      "峰度:\t-0.0817600958674034\t-0.2359651357991508\n",
      "P值:\t0.5373023296419617\n"
     ]
    },
    {
     "data": {
      "image/png": "[encoded data removed]",
      "text/plain": [
       "<Figure size 432x288 with 1 Axes>"
      ]
     },
     "metadata": {
      "needs_background": "light"
     },
     "output_type": "display_data"
    },
    {
     "name": "stdout",
     "output_type": "stream",
     "text": [
      "Age:不处理\n"
     ]
    }
   ],
   "source": [
    "fea = cancer_data.columns[6]\n",
    "stat_info(cancer_data, fea)\n",
    "print(fea+':不处理')\n",
    "cancer_data2[fea] = cancer_data[fea]"
   ]
  },
  {
   "cell_type": "code",
   "execution_count": 158,
   "metadata": {},
   "outputs": [
    {
     "name": "stdout",
     "output_type": "stream",
     "text": [
      "Smoke:\tCase\tControl\n",
      "Null:\tFalse\tFalse\n",
      "均值:\t366.91862794191286\t75.00631911532385\n",
      "方差:\t497.0882919421782\t251.53001908313217\n",
      "Max:\t5000.0\t7500.0\n",
      "上四分位:\t600.0\t0.0\n",
      "中位数:\t100.0\t0.0\n",
      "下四分位:\t0.0\t0.0\n",
      "Min:\t0.0\t0.0\n",
      "偏度:\t2.051267061257296\t10.220703054796905\n",
      "峰度:\t8.128748372143859\t220.72049814075623\n",
      "P值:\t7.813003886451698e-217\n"
     ]
    },
    {
     "data": {
      "image/png": "[encoded data removed]",
      "text/plain": [
       "<Figure size 432x288 with 1 Axes>"
      ]
     },
     "metadata": {
      "needs_background": "light"
     },
     "output_type": "display_data"
    },
    {
     "name": "stdout",
     "output_type": "stream",
     "text": [
      "Smoke:不处理\n"
     ]
    }
   ],
   "source": [
    "fea = cancer_data.columns[7]\n",
    "stat_info(cancer_data, fea)\n",
    "print(fea+':不处理')\n",
    "cancer_data2[fea] = cancer_data[fea]"
   ]
  },
  {
   "cell_type": "code",
   "execution_count": 159,
   "metadata": {},
   "outputs": [
    {
     "name": "stdout",
     "output_type": "stream",
     "text": [
      "RBC:\tCase\tControl\n",
      "Null:\tFalse\tFalse\n",
      "均值:\t4.406805207811719\t4.905397577672466\n",
      "方差:\t0.5905467493547621\t0.5320618333281549\n",
      "Max:\t7.4\t8.52\n",
      "上四分位:\t4.76\t5.21\n",
      "中位数:\t4.41\t4.89\n",
      "下四分位:\t4.06\t4.57\n",
      "Min:\t1.84\t2.33\n",
      "偏度:\t0.03220394287654117\t0.543117565130891\n",
      "峰度:\t1.6381684116558244\t2.665710637883019\n",
      "P值:\t2.4629616521271564e-305\n"
     ]
    },
    {
     "data": {
      "image/png": "[encoded data removed]",
      "text/plain": [
       "<Figure size 432x288 with 1 Axes>"
      ]
     },
     "metadata": {
      "needs_background": "light"
     },
     "output_type": "display_data"
    },
    {
     "name": "stdout",
     "output_type": "stream",
     "text": [
      "RBC:不处理\n"
     ]
    }
   ],
   "source": [
    "fea = cancer_data.columns[8]\n",
    "stat_info(cancer_data, fea)\n",
    "print(fea+':不处理')\n",
    "cancer_data2[fea] = cancer_data[fea]"
   ]
  },
  {
   "cell_type": "code",
   "execution_count": 162,
   "metadata": {
    "scrolled": true
   },
   "outputs": [
    {
     "name": "stdout",
     "output_type": "stream",
     "text": [
      "HGB:\tCase\tControl\n",
      "Null:\tFalse\tFalse\n",
      "均值:\t129.18400600901353\t149.38177988414955\n",
      "方差:\t18.938637033275405\t14.634466544870447\n",
      "Max:\t224.0\t235.0\n",
      "上四分位:\t141.0\t159.0\n",
      "中位数:\t130.0\t150.0\n",
      "下四分位:\t118.0\t140.0\n",
      "Min:\t4.0\t67.0\n",
      "偏度:\t-0.534098416353028\t-0.43277401826803735\n",
      "峰度:\t2.7586743561277043\t1.9724938165254402\n",
      "P值:\t0.0\n"
     ]
    },
    {
     "data": {
      "image/png": "[encoded data removed]",
      "text/plain": [
       "<Figure size 432x288 with 1 Axes>"
      ]
     },
     "metadata": {
      "needs_background": "light"
     },
     "output_type": "display_data"
    },
    {
     "name": "stdout",
     "output_type": "stream",
     "text": [
      "HGB:正常范围100-200，移除了30以下的值\n"
     ]
    }
   ],
   "source": [
    "fea = cancer_data.columns[9]\n",
    "stat_info(cancer_data, fea)\n",
    "print(fea+':正常范围100-200，移除了30以下的值')\n",
    "cancer_data2[fea] = cancer_data.groupby(['A=male B=female', 'Age_group']).apply(lambda x: x[fea].apply(lambda y: np.nan if y < 30 else y)).reset_index(level=[0,0])[fea]"
   ]
  },
  {
   "cell_type": "code",
   "execution_count": 165,
   "metadata": {
    "scrolled": false
   },
   "outputs": [
    {
     "name": "stdout",
     "output_type": "stream",
     "text": [
      "HCT:\tCase\tControl\n",
      "Null:\tFalse\tFalse\n",
      "均值:\t0.5338833249874907\t0.45310953133229664\n",
      "方差:\t4.323767090240391\t0.04014451257196567\n",
      "Max:\t152.0\t0.71\n",
      "上四分位:\t0.43\t0.48\n",
      "中位数:\t0.4\t0.45\n",
      "下四分位:\t0.37\t0.43\n",
      "Min:\t0.17\t0.25\n",
      "偏度:\t32.092180348017855\t-0.24110469262799794\n",
      "峰度:\t1038.5706614931496\t1.7905477112405173\n",
      "P值:\t0.24966815891453886\n"
     ]
    },
    {
     "data": {
      "image/png": "[encoded data removed]",
      "text/plain": [
       "<Figure size 432x288 with 1 Axes>"
      ]
     },
     "metadata": {
      "needs_background": "light"
     },
     "output_type": "display_data"
    },
    {
     "name": "stdout",
     "output_type": "stream",
     "text": [
      "HCT:红细胞积压，表示的是百分率\n"
     ]
    }
   ],
   "source": [
    "fea = cancer_data.columns[10]\n",
    "stat_info(cancer_data, fea)\n",
    "print(fea+':红细胞积压，表示的是百分率')\n",
    "cancer_data2[fea] = cancer_data.groupby(['A=male B=female', 'Age_group']).apply(lambda x: x[fea].apply(lambda y: np.nan if y>1 else y)).reset_index(level=[0,0])[fea]"
   ]
  },
  {
   "cell_type": "code",
   "execution_count": 167,
   "metadata": {
    "scrolled": false
   },
   "outputs": [
    {
     "name": "stdout",
     "output_type": "stream",
     "text": [
      "MCV :\tCase\tControl\n",
      "Null:\tFalse\tFalse\n",
      "均值:\t90.39463945918872\t92.67111637704052\n",
      "方差:\t7.289000484072181\t6.256345137664674\n",
      "Max:\t118.0\t126.8\n",
      "上四分位:\t94.4\t96.1\n",
      "中位数:\t91.2\t93.2\n",
      "下四分位:\t87.7\t90.4\n",
      "Min:\t0.35\t59.5\n",
      "偏度:\t-2.963182422523725\t-1.7534571714377574\n",
      "峰度:\t25.601758116496548\t6.898993249376171\n",
      "P值:\t1.2064187607362017e-48\n"
     ]
    },
    {
     "data": {
      "image/png": "[encoded data removed]",
      "text/plain": [
       "<Figure size 432x288 with 1 Axes>"
      ]
     },
     "metadata": {
      "needs_background": "light"
     },
     "output_type": "display_data"
    },
    {
     "name": "stdout",
     "output_type": "stream",
     "text": [
      "MCV :正常范围86-100，移除40以下\n"
     ]
    }
   ],
   "source": [
    "fea = cancer_data.columns[11]\n",
    "stat_info(cancer_data, fea)\n",
    "print(fea+':正常范围86-100，移除40以下')\n",
    "cancer_data2[fea] = cancer_data.groupby(['A=male B=female', 'Age_group']).apply(lambda x: x[fea].apply(lambda y: np.nan if y<40 else y)).reset_index(level=[0,0])[fea]"
   ]
  },
  {
   "cell_type": "code",
   "execution_count": 169,
   "metadata": {},
   "outputs": [
    {
     "name": "stdout",
     "output_type": "stream",
     "text": [
      "MCH:\tCase\tControl\n",
      "Null:\tFalse\tFalse\n",
      "均值:\t29.48044566850279\t30.576829910479148\n",
      "方差:\t3.213679236730298\t2.3316986968258013\n",
      "Max:\t97.2\t45.8\n",
      "上四分位:\t30.9\t31.8\n",
      "中位数:\t29.7\t30.8\n",
      "下四分位:\t28.5\t29.8\n",
      "Min:\t15.9\t18.2\n",
      "偏度:\t7.394393487707981\t-1.926419813899924\n",
      "峰度:\t163.2281475344463\t7.7419920510387135\n",
      "P值:\t7.680555405571511e-65\n"
     ]
    },
    {
     "data": {
      "image/png": "[encoded data removed]",
      "text/plain": [
       "<Figure size 432x288 with 1 Axes>"
      ]
     },
     "metadata": {
      "needs_background": "light"
     },
     "output_type": "display_data"
    },
    {
     "name": "stdout",
     "output_type": "stream",
     "text": [
      "MCH:正常范围26-34，移除50以上\n"
     ]
    }
   ],
   "source": [
    "fea = cancer_data.columns[12]\n",
    "stat_info(cancer_data, fea)\n",
    "print(fea+':正常范围26-34，移除50以上')\n",
    "cancer_data2[fea] = cancer_data.groupby(['A=male B=female', 'Age_group']).apply(lambda x: x[fea].apply(lambda y: np.nan if y>50 else y)).reset_index(level=[0,0])[fea]"
   ]
  },
  {
   "cell_type": "code",
   "execution_count": 171,
   "metadata": {
    "scrolled": true
   },
   "outputs": [
    {
     "name": "stdout",
     "output_type": "stream",
     "text": [
      "MCHC :\tCase\tControl\n",
      "Null:\tFalse\tFalse\n",
      "均值:\t324.7129193790686\t329.87282780410743\n",
      "方差:\t15.180252747190332\t10.872977619046615\n",
      "Max:\t426.0\t370.0\n",
      "上四分位:\t332.0\t337.0\n",
      "中位数:\t325.0\t330.0\n",
      "下四分位:\t318.0\t323.0\n",
      "Min:\t28.3\t259.0\n",
      "偏度:\t-7.239304612990288\t-0.2620806530453273\n",
      "峰度:\t140.9911716583128\t1.9220889901677003\n",
      "P值:\t6.497218671989774e-65\n"
     ]
    },
    {
     "data": {
      "image/png": "[encoded data removed]",
      "text/plain": [
       "<Figure size 432x288 with 1 Axes>"
      ]
     },
     "metadata": {
      "needs_background": "light"
     },
     "output_type": "display_data"
    },
    {
     "name": "stdout",
     "output_type": "stream",
     "text": [
      "MCHC :正常范围26-34，移除200以下\n"
     ]
    }
   ],
   "source": [
    "fea = cancer_data.columns[13]\n",
    "stat_info(cancer_data, fea)\n",
    "print(fea+':正常范围26-34，移除200以下')\n",
    "cancer_data2[fea] = cancer_data.groupby(['A=male B=female', 'Age_group']).apply(lambda x: x[fea].apply(lambda y: np.nan if y<200 else y)).reset_index(level=[0,0])[fea]"
   ]
  },
  {
   "cell_type": "code",
   "execution_count": 173,
   "metadata": {},
   "outputs": [
    {
     "name": "stdout",
     "output_type": "stream",
     "text": [
      "RDW-CV:\tCase\tControl\n",
      "Null:\tFalse\tFalse\n",
      "均值:\t42.989158738107214\t13.458794102159048\n",
      "方差:\t14.122120064806403\t1.0707229013470334\n",
      "Max:\t327.0\t25.0\n",
      "上四分位:\t48.0\t13.9\n",
      "中位数:\t45.3\t13.3\n",
      "下四分位:\t42.3\t12.8\n",
      "Min:\t11.4\t11.3\n",
      "偏度:\t7.076808647960118\t2.4949073690589536\n",
      "峰度:\t156.58577504630205\t13.442495160886946\n",
      "P值:\t0.0\n"
     ]
    },
    {
     "data": {
      "image/png": "[encoded data removed]",
      "text/plain": [
       "<Figure size 432x288 with 1 Axes>"
      ]
     },
     "metadata": {
      "needs_background": "light"
     },
     "output_type": "display_data"
    },
    {
     "name": "stdout",
     "output_type": "stream",
     "text": [
      "RDW-CV:移除100以上\n"
     ]
    }
   ],
   "source": [
    "fea = cancer_data.columns[14]\n",
    "stat_info(cancer_data, fea)\n",
    "print(fea+':移除100以上')\n",
    "cancer_data2[fea] = cancer_data.groupby(['A=male B=female', 'Age_group']).apply(lambda x: x[fea].apply(lambda y: np.nan if y>100 else y)).reset_index(level=[0,0])[fea]"
   ]
  },
  {
   "cell_type": "code",
   "execution_count": 175,
   "metadata": {
    "scrolled": true
   },
   "outputs": [
    {
     "name": "stdout",
     "output_type": "stream",
     "text": [
      "RDW-SD:\tCase\tControl\n",
      "Null:\tFalse\tFalse\n",
      "均值:\t17.471156735102664\t45.409373354397154\n",
      "方差:\t9.868521308250335\t3.68349128697957\n",
      "Max:\t65.8\t72.3\n",
      "上四分位:\t15.1\t47.5\n",
      "中位数:\t14.0\t45.2\n",
      "下四分位:\t13.3\t43.1\n",
      "Min:\t11.5\t32.5\n",
      "偏度:\t2.5356940678179996\t0.6279328980939861\n",
      "峰度:\t4.813921239118507\t2.685532313686565\n",
      "P值:\t0.0\n"
     ]
    },
    {
     "data": {
      "image/png": "[encoded data removed]",
      "text/plain": [
       "<Figure size 432x288 with 1 Axes>"
      ]
     },
     "metadata": {
      "needs_background": "light"
     },
     "output_type": "display_data"
    },
    {
     "name": "stdout",
     "output_type": "stream",
     "text": [
      "RDW-SD:不处理\n"
     ]
    }
   ],
   "source": [
    "fea = cancer_data.columns[15]\n",
    "stat_info(cancer_data, fea)\n",
    "print(fea+':不处理')\n",
    "cancer_data2[fea] = cancer_data[fea]"
   ]
  },
  {
   "cell_type": "code",
   "execution_count": 177,
   "metadata": {},
   "outputs": [
    {
     "name": "stdout",
     "output_type": "stream",
     "text": [
      "PLT:\tCase\tControl\n",
      "Null:\tFalse\tFalse\n",
      "均值:\t210.0875813720581\t194.00210637177463\n",
      "方差:\t87.36119305848017\t58.88662811319967\n",
      "Max:\t895.0\t658.0\n",
      "上四分位:\t252.75\t229.0\n",
      "中位数:\t197.0\t191.0\n",
      "下四分位:\t150.0\t153.0\n",
      "Min:\t7.0\t42.0\n",
      "偏度:\t1.1544286904171424\t0.6269923982465981\n",
      "峰度:\t2.7911259671726825\t1.7742657218771951\n",
      "P值:\t3.2375024585600768e-21\n"
     ]
    },
    {
     "data": {
      "image/png": "[encoded data removed]",
      "text/plain": [
       "<Figure size 432x288 with 1 Axes>"
      ]
     },
     "metadata": {
      "needs_background": "light"
     },
     "output_type": "display_data"
    },
    {
     "name": "stdout",
     "output_type": "stream",
     "text": [
      "PLT:有超过600的可能，移除800以上\n"
     ]
    }
   ],
   "source": [
    "fea = cancer_data.columns[16]\n",
    "stat_info(cancer_data, fea)\n",
    "print(fea+':有超过600的可能，移除800以上')\n",
    "cancer_data2[fea] = cancer_data.groupby(['A=male B=female', 'Age_group']).apply(lambda x: x[fea].apply(lambda y: np.nan if y>800 else y)).reset_index(level=[0,0])[fea]"
   ]
  },
  {
   "cell_type": "code",
   "execution_count": 181,
   "metadata": {
    "scrolled": false
   },
   "outputs": [
    {
     "name": "stdout",
     "output_type": "stream",
     "text": [
      "WBC:\tCase\tControl\n",
      "Null:\tFalse\tFalse\n",
      "均值:\t7.442173259889852\t6.064607688256959\n",
      "方差:\t4.025715123176102\t4.37085807444501\n",
      "Max:\t101.69\t256.44\n",
      "上四分位:\t8.54\t6.86\n",
      "中位数:\t6.72\t5.77\n",
      "下四分位:\t5.37\t4.91\n",
      "Min:\t0.4\t2.17\n",
      "偏度:\t8.890734526994143\t49.593817914651005\n",
      "峰度:\t164.5483653667544\t2837.3274938803283\n",
      "P值:\t6.53468939311505e-47\n"
     ]
    },
    {
     "data": {
      "image/png": "[encoded data removed]",
      "text/plain": [
       "<Figure size 432x288 with 1 Axes>"
      ]
     },
     "metadata": {
      "needs_background": "light"
     },
     "output_type": "display_data"
    },
    {
     "name": "stdout",
     "output_type": "stream",
     "text": [
      "WBC:正常范围4-20，移除50以上\n"
     ]
    }
   ],
   "source": [
    "fea = cancer_data.columns[17]\n",
    "stat_info(cancer_data, fea)\n",
    "print(fea+':正常范围4-20，移除50以上')\n",
    "cancer_data2[fea] = cancer_data.groupby(['A=male B=female', 'Age_group']).apply(lambda x: x[fea].apply(lambda y: np.nan if y>50 else y)).reset_index(level=[0,0])[fea]"
   ]
  },
  {
   "cell_type": "code",
   "execution_count": 183,
   "metadata": {
    "scrolled": true
   },
   "outputs": [
    {
     "name": "stdout",
     "output_type": "stream",
     "text": [
      "NEUT%:\tCase\tControl\n",
      "Null:\tFalse\tFalse\n",
      "均值:\t68.00263144717057\t59.05377830437072\n",
      "方差:\t11.028714649396074\t8.46498805218019\n",
      "Max:\t97.7\t93.1\n",
      "上四分位:\t75.3\t64.6\n",
      "中位数:\t68.4\t59.1\n",
      "下四分位:\t61.4\t53.4\n",
      "Min:\t0.1\t25.0\n",
      "偏度:\t-0.8581440342958098\t0.009639462601308754\n",
      "峰度:\t3.816519105916065\t0.3230653224459159\n",
      "P值:\t0.0\n"
     ]
    },
    {
     "data": {
      "image/png": "[encoded data removed]",
      "text/plain": [
       "<Figure size 432x288 with 1 Axes>"
      ]
     },
     "metadata": {
      "needs_background": "light"
     },
     "output_type": "display_data"
    },
    {
     "name": "stdout",
     "output_type": "stream",
     "text": [
      "NEUT%:四分位\n"
     ]
    }
   ],
   "source": [
    "fea = cancer_data.columns[18]\n",
    "stat_info(cancer_data, fea)\n",
    "print(fea+':四分位')\n",
    "cancer_data2[fea] = cancer_data.groupby(['A=male B=female', 'Age_group']).apply(lambda x: x[fea].apply(lambda y: np.nan if y > 3*(x[fea].quantile(0.75)-x[fea].quantile(0.25))+x[fea].quantile(0.75) or y < -3*(x[fea].quantile(0.75)-x[fea].quantile(0.25))+x[fea].quantile(0.25) else y)).reset_index(level=[0,0])[fea]"
   ]
  },
  {
   "cell_type": "code",
   "execution_count": 186,
   "metadata": {},
   "outputs": [
    {
     "name": "stdout",
     "output_type": "stream",
     "text": [
      "LYM%:\tCase\tControl\n",
      "Null:\tFalse\tFalse\n",
      "均值:\t22.202804206309445\t31.676592943654583\n",
      "方差:\t9.407833969262562\t8.021805762317923\n",
      "Max:\t79.5\t99.0\n",
      "上四分位:\t28.3\t36.9\n",
      "中位数:\t21.5\t31.6\n",
      "下四分位:\t15.3\t26.3\n",
      "Min:\t1.0\t2.2\n",
      "偏度:\t0.514643501573898\t0.26162116611046626\n",
      "峰度:\t0.615924765785024\t1.3779699459844075\n",
      "P值:\t0.0\n"
     ]
    },
    {
     "data": {
      "image/png": "[encoded data removed]",
      "text/plain": [
       "<Figure size 432x288 with 1 Axes>"
      ]
     },
     "metadata": {
      "needs_background": "light"
     },
     "output_type": "display_data"
    },
    {
     "name": "stdout",
     "output_type": "stream",
     "text": [
      "LYM%:四分位\n"
     ]
    }
   ],
   "source": [
    "fea = cancer_data.columns[19]\n",
    "stat_info(cancer_data, fea)\n",
    "print(fea+':四分位')\n",
    "cancer_data2[fea] = cancer_data.groupby(['A=male B=female', 'Age_group']).apply(lambda x: x[fea].apply(lambda y: np.nan if y > 3*(x[fea].quantile(0.75)-x[fea].quantile(0.25))+x[fea].quantile(0.75) or y < -3*(x[fea].quantile(0.75)-x[fea].quantile(0.25))+x[fea].quantile(0.25) else y)).reset_index(level=[0,0])[fea]"
   ]
  },
  {
   "cell_type": "code",
   "execution_count": 230,
   "metadata": {
    "scrolled": false
   },
   "outputs": [
    {
     "name": "stdout",
     "output_type": "stream",
     "text": [
      "MONO%:\tCase\tControl\n",
      "Null:\tFalse\tFalse\n",
      "均值:\t6.338212318477726\t6.261045286993153\n",
      "方差:\t2.2932877827442093\t1.6229498037124162\n",
      "Max:\t45.0\t13.5\n",
      "上四分位:\t7.5\t7.2\n",
      "中位数:\t6.2\t6.1\n",
      "下四分位:\t5.0\t5.1\n",
      "Min:\t0.2\t1.0\n",
      "偏度:\t2.2799375539890794\t0.6378463138885772\n",
      "峰度:\t28.885713671159223\t0.7561538865687969\n",
      "P值:\t0.08790868645594356\n"
     ]
    },
    {
     "data": {
      "image/png": "[encoded data removed]",
      "text/plain": [
       "<Figure size 432x288 with 1 Axes>"
      ]
     },
     "metadata": {
      "needs_background": "light"
     },
     "output_type": "display_data"
    },
    {
     "name": "stdout",
     "output_type": "stream",
     "text": [
      "MONO%:四分位\n"
     ]
    }
   ],
   "source": [
    "fea = cancer_data.columns[20]\n",
    "stat_info(cancer_data, fea)\n",
    "print(fea+':四分位')\n",
    "cancer_data2[fea] = cancer_data.groupby(['A=male B=female', 'Age_group']).apply(lambda x: x[fea].apply(lambda y: np.nan if y > 3*(x[fea].quantile(0.75)-x[fea].quantile(0.25))+x[fea].quantile(0.75) or y < -3*(x[fea].quantile(0.75)-x[fea].quantile(0.25))+x[fea].quantile(0.25) else y)).reset_index(level=[0,0])[fea]"
   ]
  },
  {
   "cell_type": "code",
   "execution_count": 190,
   "metadata": {
    "scrolled": true
   },
   "outputs": [
    {
     "name": "stdout",
     "output_type": "stream",
     "text": [
      "EO%:\tCase\tControl\n",
      "Null:\tFalse\tFalse\n",
      "均值:\t2.819526790185282\t2.5363875724065266\n",
      "方差:\t2.7630978889301105\t2.2062180924967603\n",
      "Max:\t53.8\t40.5\n",
      "上四分位:\t3.6\t3.1\n",
      "中位数:\t2.1\t2.0\n",
      "下四分位:\t1.1\t1.3\n",
      "Min:\t0.0\t0.1\n",
      "偏度:\t4.0993205535660975\t4.9327026859272225\n",
      "峰度:\t41.75585603426242\t55.76917731946566\n",
      "P值:\t6.401666457738209e-07\n"
     ]
    },
    {
     "data": {
      "image/png": "[encoded data removed]",
      "text/plain": [
       "<Figure size 432x288 with 1 Axes>"
      ]
     },
     "metadata": {
      "needs_background": "light"
     },
     "output_type": "display_data"
    },
    {
     "name": "stdout",
     "output_type": "stream",
     "text": [
      "EO%:四分位\n"
     ]
    }
   ],
   "source": [
    "fea = cancer_data.columns[21]\n",
    "stat_info(cancer_data, fea)\n",
    "print(fea+':四分位')\n",
    "cancer_data2[fea] = cancer_data.groupby(['A=male B=female', 'Age_group']).apply(lambda x: x[fea].apply(lambda y: np.nan if y > 3*(x[fea].quantile(0.75)-x[fea].quantile(0.25))+x[fea].quantile(0.75) or y < -3*(x[fea].quantile(0.75)-x[fea].quantile(0.25))+x[fea].quantile(0.25) else y)).reset_index(level=[0,0])[fea]"
   ]
  },
  {
   "cell_type": "code",
   "execution_count": 192,
   "metadata": {
    "scrolled": false
   },
   "outputs": [
    {
     "name": "stdout",
     "output_type": "stream",
     "text": [
      "BASO%:\tCase\tControl\n",
      "Null:\tFalse\tFalse\n",
      "均值:\t0.3750550826239362\t0.507161664033705\n",
      "方差:\t1.116783312986346\t0.3095466379713186\n",
      "Max:\t51.0\t2.4\n",
      "上四分位:\t0.4\t0.7\n",
      "中位数:\t0.3\t0.4\n",
      "下四分位:\t0.2\t0.3\n",
      "Min:\t0.0\t0.1\n",
      "偏度:\t33.52922426941793\t1.3253176252571979\n",
      "峰度:\t1325.4943594806757\t2.5606772620101763\n",
      "P值:\t2.122940842873336e-12\n"
     ]
    },
    {
     "data": {
      "image/png": "[encoded data removed]",
      "text/plain": [
       "<Figure size 432x288 with 1 Axes>"
      ]
     },
     "metadata": {
      "needs_background": "light"
     },
     "output_type": "display_data"
    },
    {
     "name": "stdout",
     "output_type": "stream",
     "text": [
      "BASO%:四分位\n"
     ]
    }
   ],
   "source": [
    "fea = cancer_data.columns[22]\n",
    "stat_info(cancer_data, fea)\n",
    "print(fea+':四分位')\n",
    "cancer_data2[fea] = cancer_data.groupby(['A=male B=female', 'Age_group']).apply(lambda x: x[fea].apply(lambda y: np.nan if y > 3*(x[fea].quantile(0.75)-x[fea].quantile(0.25))+x[fea].quantile(0.75) or y < -3*(x[fea].quantile(0.75)-x[fea].quantile(0.25))+x[fea].quantile(0.25) else y)).reset_index(level=[0,0])[fea]"
   ]
  },
  {
   "cell_type": "code",
   "execution_count": 194,
   "metadata": {},
   "outputs": [
    {
     "name": "stdout",
     "output_type": "stream",
     "text": [
      "NEUT:\tCase\tControl\n",
      "Null:\tFalse\tFalse\n",
      "均值:\t5.196169253880834\t3.579189046866772\n",
      "方差:\t3.4215824619388964\t1.2639654942592315\n",
      "Max:\t99.25\t16.15\n",
      "上四分位:\t6.13\t4.16\n",
      "中位数:\t4.52\t3.36\n",
      "下四分位:\t3.38\t2.74\n",
      "Min:\t0.01\t0.81\n",
      "偏度:\t9.121094204992477\t2.00316578864643\n",
      "峰度:\t193.566049809568\t10.03092004551499\n",
      "P值:\t6.866666115120606e-158\n"
     ]
    },
    {
     "data": {
      "image/png": "[encoded data removed]",
      "text/plain": [
       "<Figure size 432x288 with 1 Axes>"
      ]
     },
     "metadata": {
      "needs_background": "light"
     },
     "output_type": "display_data"
    },
    {
     "name": "stdout",
     "output_type": "stream",
     "text": [
      "NEUT:四分位\n"
     ]
    }
   ],
   "source": [
    "fea = cancer_data.columns[23]\n",
    "stat_info(cancer_data, fea)\n",
    "print(fea+':四分位')\n",
    "cancer_data2[fea] = cancer_data.groupby(['A=male B=female', 'Age_group']).apply(lambda x: x[fea].apply(lambda y: np.nan if y > 3*(x[fea].quantile(0.75)-x[fea].quantile(0.25))+x[fea].quantile(0.75) or y < -3*(x[fea].quantile(0.75)-x[fea].quantile(0.25))+x[fea].quantile(0.25) else y)).reset_index(level=[0,0])[fea]"
   ]
  },
  {
   "cell_type": "code",
   "execution_count": 195,
   "metadata": {},
   "outputs": [
    {
     "name": "stdout",
     "output_type": "stream",
     "text": [
      "LYMPH:\tCase\tControl\n",
      "Null:\tFalse\tFalse\n",
      "均值:\t1.5167951927891872\t1.8700315955766234\n",
      "方差:\t1.0179074279115807\t4.1412870415929985\n",
      "Max:\t45.02\t253.88\n",
      "上四分位:\t1.81\t2.17\n",
      "中位数:\t1.42\t1.74\n",
      "下四分位:\t1.08\t1.36\n",
      "Min:\t0.05\t0.27\n",
      "偏度:\t22.260868796683233\t59.385451037110535\n",
      "峰度:\t873.0470123868771\t3614.2324959809325\n",
      "P值:\t1.7666911162929094e-07\n"
     ]
    },
    {
     "data": {
      "image/png": "[encoded data removed]",
      "text/plain": [
       "<Figure size 432x288 with 1 Axes>"
      ]
     },
     "metadata": {
      "needs_background": "light"
     },
     "output_type": "display_data"
    },
    {
     "name": "stdout",
     "output_type": "stream",
     "text": [
      "LYMPH:四分位\n"
     ]
    }
   ],
   "source": [
    "fea = cancer_data.columns[24]\n",
    "stat_info(cancer_data, fea)\n",
    "print(fea+':四分位')\n",
    "cancer_data2[fea] = cancer_data.groupby(['A=male B=female', 'Age_group']).apply(lambda x: x[fea].apply(lambda y: np.nan if y > 3*(x[fea].quantile(0.75)-x[fea].quantile(0.25))+x[fea].quantile(0.75) or y < -3*(x[fea].quantile(0.75)-x[fea].quantile(0.25))+x[fea].quantile(0.25) else y)).reset_index(level=[0,0])[fea]"
   ]
  },
  {
   "cell_type": "code",
   "execution_count": 197,
   "metadata": {},
   "outputs": [
    {
     "name": "stdout",
     "output_type": "stream",
     "text": [
      "MONO:\tCase\tControl\n",
      "Null:\tFalse\tFalse\n",
      "均值:\t0.4668227341011512\t0.37245918904686426\n",
      "方差:\t0.28127851131139736\t0.13314773762768525\n",
      "Max:\t6.61\t2.56\n",
      "上四分位:\t0.56\t0.44\n",
      "中位数:\t0.42\t0.35\n",
      "下四分位:\t0.3\t0.28\n",
      "Min:\t0.01\t0.07\n",
      "偏度:\t5.964564910641943\t2.1688631706174917\n",
      "峰度:\t95.66972236484392\t21.241765398240116\n",
      "P值:\t6.31878739976748e-77\n"
     ]
    },
    {
     "data": {
      "image/png": "[encoded data removed]",
      "text/plain": [
       "<Figure size 432x288 with 1 Axes>"
      ]
     },
     "metadata": {
      "needs_background": "light"
     },
     "output_type": "display_data"
    },
    {
     "name": "stdout",
     "output_type": "stream",
     "text": [
      "MONO:四分位\n"
     ]
    }
   ],
   "source": [
    "fea = cancer_data.columns[25]\n",
    "stat_info(cancer_data, fea)\n",
    "print(fea+':四分位')\n",
    "cancer_data2[fea] = cancer_data.groupby(['A=male B=female', 'Age_group']).apply(lambda x: x[fea].apply(lambda y: np.nan if y > 3*(x[fea].quantile(0.75)-x[fea].quantile(0.25))+x[fea].quantile(0.75) or y < -3*(x[fea].quantile(0.75)-x[fea].quantile(0.25))+x[fea].quantile(0.25) else y)).reset_index(level=[0,0])[fea]"
   ]
  },
  {
   "cell_type": "code",
   "execution_count": 198,
   "metadata": {},
   "outputs": [
    {
     "name": "stdout",
     "output_type": "stream",
     "text": [
      "EO:\tCase\tControl\n",
      "Null:\tFalse\tFalse\n",
      "均值:\t0.20775162744115988\t0.15189310163243783\n",
      "方差:\t0.36014953958406504\t0.15841665258916637\n",
      "Max:\t12.7\t3.94\n",
      "上四分位:\t0.25\t0.18\n",
      "中位数:\t0.14\t0.11\n",
      "下四分位:\t0.07\t0.07\n",
      "Min:\t0.0\t0.01\n",
      "偏度:\t16.72854432126674\t8.218143207543505\n",
      "峰度:\t455.35808087639487\t138.98617418598255\n",
      "P值:\t1.9107019589030647e-18\n"
     ]
    },
    {
     "data": {
      "image/png": "[encoded data removed]",
      "text/plain": [
       "<Figure size 432x288 with 1 Axes>"
      ]
     },
     "metadata": {
      "needs_background": "light"
     },
     "output_type": "display_data"
    },
    {
     "name": "stdout",
     "output_type": "stream",
     "text": [
      "EO:四分位\n"
     ]
    }
   ],
   "source": [
    "fea = cancer_data.columns[26]\n",
    "stat_info(cancer_data, fea)\n",
    "print(fea+':四分位')\n",
    "cancer_data2[fea] = cancer_data.groupby(['A=male B=female', 'Age_group']).apply(lambda x: x[fea].apply(lambda y: np.nan if y > 3*(x[fea].quantile(0.75)-x[fea].quantile(0.25))+x[fea].quantile(0.75) or y < -3*(x[fea].quantile(0.75)-x[fea].quantile(0.25))+x[fea].quantile(0.25) else y)).reset_index(level=[0,0])[fea]"
   ]
  },
  {
   "cell_type": "code",
   "execution_count": 200,
   "metadata": {
    "scrolled": false
   },
   "outputs": [
    {
     "name": "stdout",
     "output_type": "stream",
     "text": [
      "BASO:\tCase\tControl\n",
      "Null:\tFalse\tFalse\n",
      "均值:\t0.03411116675012591\t0.02955766192733063\n",
      "方差:\t0.3120692251131234\t0.018421061162365575\n",
      "Max:\t14.92\t0.14\n",
      "上四分位:\t0.03\t0.04\n",
      "中位数:\t0.02\t0.02\n",
      "下四分位:\t0.01\t0.02\n",
      "Min:\t0.0\t0.01\n",
      "偏度:\t36.6745911295596\t1.427020516219571\n",
      "峰度:\t1520.3783662619724\t3.0293575544332807\n",
      "P值:\t0.36934961243061404\n"
     ]
    },
    {
     "data": {
      "image/png": "[encoded data removed]",
      "text/plain": [
       "<Figure size 432x288 with 1 Axes>"
      ]
     },
     "metadata": {
      "needs_background": "light"
     },
     "output_type": "display_data"
    },
    {
     "name": "stdout",
     "output_type": "stream",
     "text": [
      "BASO:四分位\n"
     ]
    }
   ],
   "source": [
    "fea = cancer_data.columns[27]\n",
    "stat_info(cancer_data, fea)\n",
    "print(fea+':四分位')\n",
    "cancer_data2[fea] = cancer_data.groupby(['A=male B=female', 'Age_group']).apply(lambda x: x[fea].apply(lambda y: np.nan if y > 3*(x[fea].quantile(0.75)-x[fea].quantile(0.25))+x[fea].quantile(0.75) or y < -3*(x[fea].quantile(0.75)-x[fea].quantile(0.25))+x[fea].quantile(0.25) else y)).reset_index(level=[0,0])[fea]"
   ]
  },
  {
   "cell_type": "code",
   "execution_count": 201,
   "metadata": {},
   "outputs": [
    {
     "name": "stdout",
     "output_type": "stream",
     "text": [
      "TBIL:\tCase\tControl\n",
      "Null:\tFalse\tFalse\n",
      "均值:\t11.150510766149223\t14.99349657714588\n",
      "方差:\t6.145070161704476\t6.001544647222797\n",
      "Max:\t129.5\t60.9\n",
      "上四分位:\t13.3\t17.575000000000003\n",
      "中位数:\t9.9\t13.9\n",
      "下四分位:\t7.7\t11.0\n",
      "Min:\t0.08\t2.7\n",
      "偏度:\t5.657459669791268\t1.704006676913967\n",
      "峰度:\t72.94134559898495\t5.701019076884104\n",
      "P值:\t1.867764506872895e-163\n"
     ]
    },
    {
     "data": {
      "image/png": "[encoded data removed]",
      "text/plain": [
       "<Figure size 432x288 with 1 Axes>"
      ]
     },
     "metadata": {
      "needs_background": "light"
     },
     "output_type": "display_data"
    },
    {
     "name": "stdout",
     "output_type": "stream",
     "text": [
      "TBIL:四分位\n"
     ]
    }
   ],
   "source": [
    "fea = cancer_data.columns[28]\n",
    "stat_info(cancer_data, fea)\n",
    "print(fea+':四分位')\n",
    "cancer_data2[fea] = cancer_data.groupby(['A=male B=female', 'Age_group']).apply(lambda x: x[fea].apply(lambda y: np.nan if y > 3*(x[fea].quantile(0.75)-x[fea].quantile(0.25))+x[fea].quantile(0.75) or y < -3*(x[fea].quantile(0.75)-x[fea].quantile(0.25))+x[fea].quantile(0.25) else y)).reset_index(level=[0,0])[fea]"
   ]
  },
  {
   "cell_type": "code",
   "execution_count": 202,
   "metadata": {},
   "outputs": [
    {
     "name": "stdout",
     "output_type": "stream",
     "text": [
      "DBIL:\tCase\tControl\n",
      "Null:\tFalse\tFalse\n",
      "均值:\t3.8443915873810703\t4.501342812006316\n",
      "方差:\t4.3588184884744345\t1.9159603792315243\n",
      "Max:\t146.0\t19.0\n",
      "上四分位:\t4.3\t5.4\n",
      "中位数:\t3.2\t4.2\n",
      "下四分位:\t2.4\t3.2\n",
      "Min:\t0.3\t0.5\n",
      "偏度:\t17.511679203350415\t1.6157211361211274\n",
      "峰度:\t441.9443269153969\t5.0646276194899675\n",
      "P值:\t1.6368599719241653e-17\n"
     ]
    },
    {
     "data": {
      "image/png": "[encoded data removed]",
      "text/plain": [
       "<Figure size 432x288 with 1 Axes>"
      ]
     },
     "metadata": {
      "needs_background": "light"
     },
     "output_type": "display_data"
    },
    {
     "name": "stdout",
     "output_type": "stream",
     "text": [
      "DBIL:四分位\n"
     ]
    }
   ],
   "source": [
    "fea = cancer_data.columns[29]\n",
    "stat_info(cancer_data, fea)\n",
    "print(fea+':四分位')\n",
    "cancer_data2[fea] = cancer_data.groupby(['A=male B=female', 'Age_group']).apply(lambda x: x[fea].apply(lambda y: np.nan if y > 3*(x[fea].quantile(0.75)-x[fea].quantile(0.25))+x[fea].quantile(0.75) or y < -3*(x[fea].quantile(0.75)-x[fea].quantile(0.25))+x[fea].quantile(0.25) else y)).reset_index(level=[0,0])[fea]"
   ]
  },
  {
   "cell_type": "code",
   "execution_count": 203,
   "metadata": {},
   "outputs": [
    {
     "name": "stdout",
     "output_type": "stream",
     "text": [
      "IBIL:\tCase\tControl\n",
      "Null:\tFalse\tFalse\n",
      "均值:\t7.349093640460685\t10.492153765139514\n",
      "方差:\t3.477506811436309\t4.403313755101143\n",
      "Max:\t45.7\t45.7\n",
      "上四分位:\t8.9\t12.4\n",
      "中位数:\t6.6\t9.7\n",
      "下四分位:\t5.0\t7.6\n",
      "Min:\t0.43\t0.7\n",
      "偏度:\t1.8077745007388835\t1.7600585391300962\n",
      "峰度:\t7.433636432411722\t6.278500119927844\n",
      "P值:\t3.981036437499889e-250\n"
     ]
    },
    {
     "data": {
      "image/png": "[encoded data removed]",
      "text/plain": [
       "<Figure size 432x288 with 1 Axes>"
      ]
     },
     "metadata": {
      "needs_background": "light"
     },
     "output_type": "display_data"
    },
    {
     "name": "stdout",
     "output_type": "stream",
     "text": [
      "IBIL:四分位\n"
     ]
    }
   ],
   "source": [
    "fea = cancer_data.columns[30]\n",
    "stat_info(cancer_data, fea)\n",
    "print(fea+':四分位')\n",
    "cancer_data2[fea] = cancer_data.groupby(['A=male B=female', 'Age_group']).apply(lambda x: x[fea].apply(lambda y: np.nan if y > 3*(x[fea].quantile(0.75)-x[fea].quantile(0.25))+x[fea].quantile(0.75) or y < -3*(x[fea].quantile(0.75)-x[fea].quantile(0.25))+x[fea].quantile(0.25) else y)).reset_index(level=[0,0])[fea]"
   ]
  },
  {
   "cell_type": "code",
   "execution_count": 204,
   "metadata": {
    "scrolled": false
   },
   "outputs": [
    {
     "name": "stdout",
     "output_type": "stream",
     "text": [
      "ALT:\tCase\tControl\n",
      "Null:\tFalse\tFalse\n",
      "均值:\t28.428668002003004\t25.827277514481306\n",
      "方差:\t70.77400972582126\t20.725723661503228\n",
      "Max:\t3860.0\t749.0\n",
      "上四分位:\t30.0\t30.0\n",
      "中位数:\t20.0\t21.0\n",
      "下四分位:\t14.0\t16.0\n",
      "Min:\t2.0\t5.0\n",
      "偏度:\t41.91655199372133\t13.313764293623734\n",
      "峰度:\t2183.4258488732753\t402.1046399824574\n",
      "P值:\t0.029425811526486913\n"
     ]
    },
    {
     "data": {
      "image/png": "[encoded data removed]",
      "text/plain": [
       "<Figure size 432x288 with 1 Axes>"
      ]
     },
     "metadata": {
      "needs_background": "light"
     },
     "output_type": "display_data"
    },
    {
     "name": "stdout",
     "output_type": "stream",
     "text": [
      "ALT:四分位\n"
     ]
    }
   ],
   "source": [
    "fea = cancer_data.columns[31]\n",
    "stat_info(cancer_data, fea)\n",
    "print(fea+':四分位')\n",
    "cancer_data2[fea] = cancer_data.groupby(['A=male B=female', 'Age_group']).apply(lambda x: x[fea].apply(lambda y: np.nan if y > 3*(x[fea].quantile(0.75)-x[fea].quantile(0.25))+x[fea].quantile(0.75) or y < -3*(x[fea].quantile(0.75)-x[fea].quantile(0.25))+x[fea].quantile(0.25) else y)).reset_index(level=[0,0])[fea]"
   ]
  },
  {
   "cell_type": "code",
   "execution_count": 205,
   "metadata": {
    "scrolled": true
   },
   "outputs": [
    {
     "name": "stdout",
     "output_type": "stream",
     "text": [
      "AST:\tCase\tControl\n",
      "Null:\tFalse\tFalse\n",
      "均值:\t28.892163244867298\t24.718272775144815\n",
      "方差:\t94.11283079254953\t11.410696318999868\n",
      "Max:\t5411.0\t302.0\n",
      "上四分位:\t28.0\t27.0\n",
      "中位数:\t21.0\t23.0\n",
      "下四分位:\t17.0\t19.0\n",
      "Min:\t2.0\t9.0\n",
      "偏度:\t48.08324807919334\t7.80764898790299\n",
      "峰度:\t2690.428008682861\t128.9456626408661\n",
      "P值:\t0.0066567157588240744\n"
     ]
    },
    {
     "data": {
      "image/png": "[encoded data removed]",
      "text/plain": [
       "<Figure size 432x288 with 1 Axes>"
      ]
     },
     "metadata": {
      "needs_background": "light"
     },
     "output_type": "display_data"
    },
    {
     "name": "stdout",
     "output_type": "stream",
     "text": [
      "AST:四分位\n"
     ]
    }
   ],
   "source": [
    "fea = cancer_data.columns[32]\n",
    "stat_info(cancer_data, fea)\n",
    "print(fea+':四分位')\n",
    "cancer_data2[fea] = cancer_data.groupby(['A=male B=female', 'Age_group']).apply(lambda x: x[fea].apply(lambda y: np.nan if y > 3*(x[fea].quantile(0.75)-x[fea].quantile(0.25))+x[fea].quantile(0.75) or y < -3*(x[fea].quantile(0.75)-x[fea].quantile(0.25))+x[fea].quantile(0.25) else y)).reset_index(level=[0,0])[fea]"
   ]
  },
  {
   "cell_type": "code",
   "execution_count": 207,
   "metadata": {},
   "outputs": [
    {
     "name": "stdout",
     "output_type": "stream",
     "text": [
      "AST:ALT:\tCase\tControl\n",
      "Null:\tFalse\tFalse\n",
      "均值:\t1.2839334001001523\t1.1180647709320701\n",
      "方差:\t5.4438064326723286\t0.4246350199899079\n",
      "Max:\t341.0\t6.22\n",
      "上四分位:\t1.39\t1.32\n",
      "中位数:\t1.08\t1.05\n",
      "下四分位:\t0.83\t0.83\n",
      "Min:\t0.14\t0.33\n",
      "偏度:\t60.94939814781441\t2.075217709928424\n",
      "峰度:\t3800.920115479035\t11.464586537217901\n",
      "P值:\t0.06119688434361651\n"
     ]
    },
    {
     "data": {
      "image/png": "[encoded data removed]",
      "text/plain": [
       "<Figure size 432x288 with 1 Axes>"
      ]
     },
     "metadata": {
      "needs_background": "light"
     },
     "output_type": "display_data"
    },
    {
     "name": "stdout",
     "output_type": "stream",
     "text": [
      "AST:ALT:四分位\n"
     ]
    }
   ],
   "source": [
    "fea = cancer_data.columns[33]\n",
    "stat_info(cancer_data, fea)\n",
    "print(fea+':四分位')\n",
    "cancer_data2[fea] = cancer_data.groupby(['A=male B=female', 'Age_group']).apply(lambda x: x[fea].apply(lambda y: np.nan if y > 3*(x[fea].quantile(0.75)-x[fea].quantile(0.25))+x[fea].quantile(0.75) or y < -3*(x[fea].quantile(0.75)-x[fea].quantile(0.25))+x[fea].quantile(0.25) else y)).reset_index(level=[0,0])[fea]"
   ]
  },
  {
   "cell_type": "code",
   "execution_count": 209,
   "metadata": {},
   "outputs": [
    {
     "name": "stdout",
     "output_type": "stream",
     "text": [
      "TP:\tCase\tControl\n",
      "Null:\tFalse\tFalse\n",
      "均值:\t67.12622183274902\t74.35365982095847\n",
      "方差:\t6.931598724565716\t4.380160461657536\n",
      "Max:\t90.0\t94.0\n",
      "上四分位:\t71.7\t77.27499999999999\n",
      "中位数:\t67.4\t74.4\n",
      "下四分位:\t62.824999999999996\t71.5\n",
      "Min:\t0.81\t59.9\n",
      "偏度:\t-0.9230692666832447\t0.03568234123493401\n",
      "峰度:\t7.745162173661193\t0.1016699561653871\n",
      "P值:\t0.0\n"
     ]
    },
    {
     "data": {
      "image/png": "[encoded data removed]",
      "text/plain": [
       "<Figure size 432x288 with 1 Axes>"
      ]
     },
     "metadata": {
      "needs_background": "light"
     },
     "output_type": "display_data"
    },
    {
     "name": "stdout",
     "output_type": "stream",
     "text": [
      "TP:四分位\n"
     ]
    }
   ],
   "source": [
    "fea = cancer_data.columns[34]\n",
    "stat_info(cancer_data, fea)\n",
    "print(fea+':四分位')\n",
    "cancer_data2[fea] = cancer_data.groupby(['A=male B=female', 'Age_group']).apply(lambda x: x[fea].apply(lambda y: np.nan if y > 3*(x[fea].quantile(0.75)-x[fea].quantile(0.25))+x[fea].quantile(0.75) or y < -3*(x[fea].quantile(0.75)-x[fea].quantile(0.25))+x[fea].quantile(0.25) else y)).reset_index(level=[0,0])[fea]"
   ]
  },
  {
   "cell_type": "code",
   "execution_count": 210,
   "metadata": {},
   "outputs": [
    {
     "name": "stdout",
     "output_type": "stream",
     "text": [
      "ALB:\tCase\tControl\n",
      "Null:\tFalse\tFalse\n",
      "均值:\t38.735403104656825\t47.1065034228541\n",
      "方差:\t5.386383431540655\t2.987121394116887\n",
      "Max:\t81.2\t57.4\n",
      "上四分位:\t42.5\t49.1\n",
      "中位数:\t39.0\t47.2\n",
      "下四分位:\t35.4\t45.1\n",
      "Min:\t12.7\t31.9\n",
      "偏度:\t-0.1752769424323947\t-0.1914881323217245\n",
      "峰度:\t1.2768154215152112\t0.30943550816089127\n",
      "P值:\t0.0\n"
     ]
    },
    {
     "data": {
      "image/png": "[encoded data removed]",
      "text/plain": [
       "<Figure size 432x288 with 1 Axes>"
      ]
     },
     "metadata": {
      "needs_background": "light"
     },
     "output_type": "display_data"
    },
    {
     "name": "stdout",
     "output_type": "stream",
     "text": [
      "ALB:四分位\n"
     ]
    }
   ],
   "source": [
    "fea = cancer_data.columns[35]\n",
    "stat_info(cancer_data, fea)\n",
    "print(fea+':四分位')\n",
    "cancer_data2[fea] = cancer_data.groupby(['A=male B=female', 'Age_group']).apply(lambda x: x[fea].apply(lambda y: np.nan if y > 3*(x[fea].quantile(0.75)-x[fea].quantile(0.25))+x[fea].quantile(0.75) or y < -3*(x[fea].quantile(0.75)-x[fea].quantile(0.25))+x[fea].quantile(0.25) else y)).reset_index(level=[0,0])[fea]"
   ]
  },
  {
   "cell_type": "code",
   "execution_count": 211,
   "metadata": {},
   "outputs": [
    {
     "name": "stdout",
     "output_type": "stream",
     "text": [
      "GLO:\tCase\tControl\n",
      "Null:\tFalse\tFalse\n",
      "均值:\t28.529819729594404\t27.247156398104323\n",
      "方差:\t5.620011347030124\t3.905796300753688\n",
      "Max:\t186.0\t49.6\n",
      "上四分位:\t31.3\t29.6\n",
      "中位数:\t28.0\t27.0\n",
      "下四分位:\t25.0\t24.5\n",
      "Min:\t15.2\t16.5\n",
      "偏度:\t6.084640854023134\t0.5985903190410444\n",
      "峰度:\t154.50698003468648\t1.1227997470602018\n",
      "P值:\t4.478544677610131e-31\n"
     ]
    },
    {
     "data": {
      "image/png": "[encoded data removed]",
      "text/plain": [
       "<Figure size 432x288 with 1 Axes>"
      ]
     },
     "metadata": {
      "needs_background": "light"
     },
     "output_type": "display_data"
    },
    {
     "name": "stdout",
     "output_type": "stream",
     "text": [
      "GLO:四分位\n"
     ]
    }
   ],
   "source": [
    "fea = cancer_data.columns[36]\n",
    "stat_info(cancer_data, fea)\n",
    "print(fea+':四分位')\n",
    "cancer_data2[fea] = cancer_data.groupby(['A=male B=female', 'Age_group']).apply(lambda x: x[fea].apply(lambda y: np.nan if y > 3*(x[fea].quantile(0.75)-x[fea].quantile(0.25))+x[fea].quantile(0.75) or y < -3*(x[fea].quantile(0.75)-x[fea].quantile(0.25))+x[fea].quantile(0.25) else y)).reset_index(level=[0,0])[fea]"
   ]
  },
  {
   "cell_type": "code",
   "execution_count": 213,
   "metadata": {},
   "outputs": [
    {
     "name": "stdout",
     "output_type": "stream",
     "text": [
      "A/G:\tCase\tControl\n",
      "Null:\tFalse\tFalse\n",
      "均值:\t1.4363720580871364\t1.7668641390205397\n",
      "方差:\t1.0701548194636405\t0.2906485405262118\n",
      "Max:\t36.7\t3.04\n",
      "上四分位:\t1.62\t1.96\n",
      "中位数:\t1.4\t1.75\n",
      "下四分位:\t1.18\t1.57\n",
      "Min:\t0.25\t0.69\n",
      "偏度:\t27.67815079559537\t0.27752036937277047\n",
      "峰度:\t846.3092592490833\t0.2679274699047589\n",
      "P值:\t4.967202125351869e-74\n"
     ]
    },
    {
     "data": {
      "image/png": "[encoded data removed]",
      "text/plain": [
       "<Figure size 432x288 with 1 Axes>"
      ]
     },
     "metadata": {
      "needs_background": "light"
     },
     "output_type": "display_data"
    },
    {
     "name": "stdout",
     "output_type": "stream",
     "text": [
      "A/G:四分位\n"
     ]
    }
   ],
   "source": [
    "fea = cancer_data.columns[37]\n",
    "stat_info(cancer_data, fea)\n",
    "print(fea+':四分位')\n",
    "cancer_data2[fea] = cancer_data.groupby(['A=male B=female', 'Age_group']).apply(lambda x: x[fea].apply(lambda y: np.nan if y > 3*(x[fea].quantile(0.75)-x[fea].quantile(0.25))+x[fea].quantile(0.75) or y < -3*(x[fea].quantile(0.75)-x[fea].quantile(0.25))+x[fea].quantile(0.25) else y)).reset_index(level=[0,0])[fea]"
   ]
  },
  {
   "cell_type": "code",
   "execution_count": 212,
   "metadata": {
    "scrolled": true
   },
   "outputs": [
    {
     "name": "stdout",
     "output_type": "stream",
     "text": [
      "GLU:\tCase\tControl\n",
      "Null:\tFalse\tFalse\n",
      "均值:\t5.432531296945423\t5.706124275934681\n",
      "方差:\t1.5792566344018446\t1.6422274894277968\n",
      "Max:\t26.69\t21.06\n",
      "上四分位:\t5.7175\t5.9174999999999995\n",
      "中位数:\t5.08\t5.27\n",
      "下四分位:\t4.65\t4.85\n",
      "Min:\t0.59\t2.27\n",
      "偏度:\t4.142232879012459\t3.4765525576078917\n",
      "峰度:\t30.63242054011123\t16.81988117891134\n",
      "P值:\t7.268268611009115e-14\n"
     ]
    },
    {
     "data": {
      "image/png": "[encoded data removed]",
      "text/plain": [
       "<Figure size 432x288 with 1 Axes>"
      ]
     },
     "metadata": {
      "needs_background": "light"
     },
     "output_type": "display_data"
    },
    {
     "name": "stdout",
     "output_type": "stream",
     "text": [
      "GLU:四分位\n"
     ]
    }
   ],
   "source": [
    "fea = cancer_data.columns[38]\n",
    "stat_info(cancer_data, fea)\n",
    "print(fea+':四分位')\n",
    "cancer_data2[fea] = cancer_data.groupby(['A=male B=female', 'Age_group']).apply(lambda x: x[fea].apply(lambda y: np.nan if y > 3*(x[fea].quantile(0.75)-x[fea].quantile(0.25))+x[fea].quantile(0.75) or y < -3*(x[fea].quantile(0.75)-x[fea].quantile(0.25))+x[fea].quantile(0.25) else y)).reset_index(level=[0,0])[fea]"
   ]
  },
  {
   "cell_type": "code",
   "execution_count": 214,
   "metadata": {},
   "outputs": [
    {
     "name": "stdout",
     "output_type": "stream",
     "text": [
      "BUN:\tCase\tControl\n",
      "Null:\tFalse\tFalse\n",
      "均值:\t5.455751126690037\t5.192896261190091\n",
      "方差:\t2.366421954485643\t1.5566894517799086\n",
      "Max:\t54.7\t33.7\n",
      "上四分位:\t6.39\t5.9\n",
      "中位数:\t5.115\t5.0\n",
      "下四分位:\t4.11\t4.2\n",
      "Min:\t1.12\t1.2\n",
      "偏度:\t6.345310788093554\t3.8335820844344712\n",
      "峰度:\t101.75886533196395\t48.82588964062983\n",
      "P值:\t8.637263897080878e-09\n"
     ]
    },
    {
     "data": {
      "image/png": "[encoded data removed]",
      "text/plain": [
       "<Figure size 432x288 with 1 Axes>"
      ]
     },
     "metadata": {
      "needs_background": "light"
     },
     "output_type": "display_data"
    },
    {
     "name": "stdout",
     "output_type": "stream",
     "text": [
      "BUN:四分位\n"
     ]
    }
   ],
   "source": [
    "fea = cancer_data.columns[39]\n",
    "stat_info(cancer_data, fea)\n",
    "print(fea+':四分位')\n",
    "cancer_data2[fea] = cancer_data.groupby(['A=male B=female', 'Age_group']).apply(lambda x: x[fea].apply(lambda y: np.nan if y > 3*(x[fea].quantile(0.75)-x[fea].quantile(0.25))+x[fea].quantile(0.75) or y < -3*(x[fea].quantile(0.75)-x[fea].quantile(0.25))+x[fea].quantile(0.25) else y)).reset_index(level=[0,0])[fea]"
   ]
  },
  {
   "cell_type": "code",
   "execution_count": 215,
   "metadata": {},
   "outputs": [
    {
     "name": "stdout",
     "output_type": "stream",
     "text": [
      "Cr:\tCase\tControl\n",
      "Null:\tFalse\tFalse\n",
      "均值:\t75.30597646469694\t75.27395997893628\n",
      "方差:\t126.24921574288277\t23.934613295958055\n",
      "Max:\t7901.0\t742.0\n",
      "上四分位:\t82.2\t85.0\n",
      "中位数:\t71.4\t74.0\n",
      "下四分位:\t60.9\t63.0\n",
      "Min:\t2.66\t30.0\n",
      "偏度:\t59.75229058776091\t11.452026248412823\n",
      "峰度:\t3700.183257153662\t263.0631709120472\n",
      "P值:\t0.9877388098770352\n"
     ]
    },
    {
     "data": {
      "image/png": "[encoded data removed]",
      "text/plain": [
       "<Figure size 432x288 with 1 Axes>"
      ]
     },
     "metadata": {
      "needs_background": "light"
     },
     "output_type": "display_data"
    },
    {
     "name": "stdout",
     "output_type": "stream",
     "text": [
      "Cr:四分位\n"
     ]
    }
   ],
   "source": [
    "fea = cancer_data.columns[40]\n",
    "stat_info(cancer_data, fea)\n",
    "print(fea+':四分位')\n",
    "cancer_data2[fea] = cancer_data.groupby(['A=male B=female', 'Age_group']).apply(lambda x: x[fea].apply(lambda y: np.nan if y > 3*(x[fea].quantile(0.75)-x[fea].quantile(0.25))+x[fea].quantile(0.75) or y < -3*(x[fea].quantile(0.75)-x[fea].quantile(0.25))+x[fea].quantile(0.25) else y)).reset_index(level=[0,0])[fea]"
   ]
  },
  {
   "cell_type": "code",
   "execution_count": 216,
   "metadata": {},
   "outputs": [
    {
     "name": "stdout",
     "output_type": "stream",
     "text": [
      "Cystatin-C:\tCase\tControl\n",
      "Null:\tFalse\tFalse\n",
      "均值:\t2.1732148222333425\t0.8932438125329125\n",
      "方差:\t19.688644730153833\t0.23456280460594692\n",
      "Max:\t472.0\t7.23\n",
      "上四分位:\t1.06\t0.97\n",
      "中位数:\t0.93\t0.86\n",
      "下四分位:\t0.84\t0.77\n",
      "Min:\t0.41\t0.42\n",
      "偏度:\t18.97399326236112\t10.241973194511907\n",
      "峰度:\t380.7652874233007\t221.5727863532804\n",
      "P值:\t6.228130196609396e-05\n"
     ]
    },
    {
     "data": {
      "image/png": "[encoded data removed]",
      "text/plain": [
       "<Figure size 432x288 with 1 Axes>"
      ]
     },
     "metadata": {
      "needs_background": "light"
     },
     "output_type": "display_data"
    },
    {
     "name": "stdout",
     "output_type": "stream",
     "text": [
      "Cystatin-C:四分位\n"
     ]
    }
   ],
   "source": [
    "fea = cancer_data.columns[41]\n",
    "stat_info(cancer_data, fea)\n",
    "print(fea+':四分位')\n",
    "cancer_data2[fea] = cancer_data.groupby(['A=male B=female', 'Age_group']).apply(lambda x: x[fea].apply(lambda y: np.nan if y > 3*(x[fea].quantile(0.75)-x[fea].quantile(0.25))+x[fea].quantile(0.75) or y < -3*(x[fea].quantile(0.75)-x[fea].quantile(0.25))+x[fea].quantile(0.25) else y)).reset_index(level=[0,0])[fea]"
   ]
  },
  {
   "cell_type": "code",
   "execution_count": 217,
   "metadata": {},
   "outputs": [
    {
     "name": "stdout",
     "output_type": "stream",
     "text": [
      "UA:\tCase\tControl\n",
      "Null:\tFalse\tFalse\n",
      "均值:\t287.7302578868304\t361.6119010005266\n",
      "方差:\t98.74916664106658\t83.31224199403017\n",
      "Max:\t1111.0\t716.0\n",
      "上四分位:\t344.0\t415.0\n",
      "中位数:\t283.0\t356.0\n",
      "下四分位:\t223.0\t303.0\n",
      "Min:\t0.57\t116.0\n",
      "偏度:\t0.7140712915742307\t0.34919395076537796\n",
      "峰度:\t3.2099518535171736\t0.09752544899720439\n",
      "P值:\t2.042874208362448e-257\n"
     ]
    },
    {
     "data": {
      "image/png": "[encoded data removed]",
      "text/plain": [
       "<Figure size 432x288 with 1 Axes>"
      ]
     },
     "metadata": {
      "needs_background": "light"
     },
     "output_type": "display_data"
    },
    {
     "name": "stdout",
     "output_type": "stream",
     "text": [
      "UA:四分位\n"
     ]
    }
   ],
   "source": [
    "fea = cancer_data.columns[42]\n",
    "stat_info(cancer_data, fea)\n",
    "print(fea+':四分位')\n",
    "cancer_data2[fea] = cancer_data.groupby(['A=male B=female', 'Age_group']).apply(lambda x: x[fea].apply(lambda y: np.nan if y > 3*(x[fea].quantile(0.75)-x[fea].quantile(0.25))+x[fea].quantile(0.75) or y < -3*(x[fea].quantile(0.75)-x[fea].quantile(0.25))+x[fea].quantile(0.25) else y)).reset_index(level=[0,0])[fea]"
   ]
  },
  {
   "cell_type": "code",
   "execution_count": 218,
   "metadata": {},
   "outputs": [
    {
     "name": "stdout",
     "output_type": "stream",
     "text": [
      "TG:\tCase\tControl\n",
      "Null:\tFalse\tFalse\n",
      "均值:\t1.879531797696545\t1.6547604002106364\n",
      "方差:\t13.928740502180124\t1.203748089614699\n",
      "Max:\t584.0\t15.66\n",
      "上四分位:\t1.5375\t1.93\n",
      "中位数:\t1.16\t1.35\n",
      "下四分位:\t0.88\t0.97\n",
      "Min:\t0.34\t0.36\n",
      "偏度:\t31.056956816437065\t4.16371585285391\n",
      "峰度:\t1079.0508315686516\t29.106369978897774\n",
      "P值:\t0.3217220443711982\n"
     ]
    },
    {
     "data": {
      "image/png": "[encoded data removed]",
      "text/plain": [
       "<Figure size 432x288 with 1 Axes>"
      ]
     },
     "metadata": {
      "needs_background": "light"
     },
     "output_type": "display_data"
    },
    {
     "name": "stdout",
     "output_type": "stream",
     "text": [
      "TG:四分位\n"
     ]
    }
   ],
   "source": [
    "fea = cancer_data.columns[43]\n",
    "stat_info(cancer_data, fea)\n",
    "print(fea+':四分位')\n",
    "cancer_data2[fea] = cancer_data.groupby(['A=male B=female', 'Age_group']).apply(lambda x: x[fea].apply(lambda y: np.nan if y > 3*(x[fea].quantile(0.75)-x[fea].quantile(0.25))+x[fea].quantile(0.75) or y < -3*(x[fea].quantile(0.75)-x[fea].quantile(0.25))+x[fea].quantile(0.25) else y)).reset_index(level=[0,0])[fea]"
   ]
  },
  {
   "cell_type": "code",
   "execution_count": 219,
   "metadata": {},
   "outputs": [
    {
     "name": "stdout",
     "output_type": "stream",
     "text": [
      "TCH:\tCase\tControl\n",
      "Null:\tFalse\tFalse\n",
      "均值:\t4.445085127691529\t4.967680358083201\n",
      "方差:\t4.226062447708868\t0.9698445425162707\n",
      "Max:\t237.0\t12.17\n",
      "上四分位:\t4.94\t5.58\n",
      "中位数:\t4.33\t4.92\n",
      "下四分位:\t3.7\t4.32\n",
      "Min:\t0.45\t1.86\n",
      "偏度:\t46.7459537187644\t0.48738381647054746\n",
      "峰度:\t2432.342071679838\t1.7394201579843598\n",
      "P值:\t1.1402106649668667e-13\n"
     ]
    },
    {
     "data": {
      "image/png": "[encoded data removed]",
      "text/plain": [
       "<Figure size 432x288 with 1 Axes>"
      ]
     },
     "metadata": {
      "needs_background": "light"
     },
     "output_type": "display_data"
    },
    {
     "name": "stdout",
     "output_type": "stream",
     "text": [
      "TCH:四分位\n"
     ]
    }
   ],
   "source": [
    "fea = cancer_data.columns[44]\n",
    "stat_info(cancer_data, fea)\n",
    "print(fea+':四分位')\n",
    "cancer_data2[fea] = cancer_data.groupby(['A=male B=female', 'Age_group']).apply(lambda x: x[fea].apply(lambda y: np.nan if y > 3*(x[fea].quantile(0.75)-x[fea].quantile(0.25))+x[fea].quantile(0.75) or y < -3*(x[fea].quantile(0.75)-x[fea].quantile(0.25))+x[fea].quantile(0.25) else y)).reset_index(level=[0,0])[fea]"
   ]
  },
  {
   "cell_type": "code",
   "execution_count": 220,
   "metadata": {},
   "outputs": [
    {
     "name": "stdout",
     "output_type": "stream",
     "text": [
      "HDL-C:\tCase\tControl\n",
      "Null:\tFalse\tFalse\n",
      "均值:\t1.297230846269404\t1.3878988941548211\n",
      "方差:\t0.9899155902513217\t0.3873233013750713\n",
      "Max:\t58.0\t3.7\n",
      "上四分位:\t1.49\t1.61\n",
      "中位数:\t1.24\t1.33\n",
      "下四分位:\t1.01\t1.1\n",
      "Min:\t0.13\t0.51\n",
      "偏度:\t47.24679169600422\t0.9066922633457888\n",
      "峰度:\t2697.770775741341\t1.3198455095224944\n",
      "P值:\t1.3725137985213758e-07\n"
     ]
    },
    {
     "data": {
      "image/png": "[encoded data removed]",
      "text/plain": [
       "<Figure size 432x288 with 1 Axes>"
      ]
     },
     "metadata": {
      "needs_background": "light"
     },
     "output_type": "display_data"
    },
    {
     "name": "stdout",
     "output_type": "stream",
     "text": [
      "HDL-C:四分位\n"
     ]
    }
   ],
   "source": [
    "fea = cancer_data.columns[45]\n",
    "stat_info(cancer_data, fea)\n",
    "print(fea+':四分位')\n",
    "cancer_data2[fea] = cancer_data.groupby(['A=male B=female', 'Age_group']).apply(lambda x: x[fea].apply(lambda y: np.nan if y > 3*(x[fea].quantile(0.75)-x[fea].quantile(0.25))+x[fea].quantile(0.75) or y < -3*(x[fea].quantile(0.75)-x[fea].quantile(0.25))+x[fea].quantile(0.25) else y)).reset_index(level=[0,0])[fea]"
   ]
  },
  {
   "cell_type": "code",
   "execution_count": 221,
   "metadata": {},
   "outputs": [
    {
     "name": "stdout",
     "output_type": "stream",
     "text": [
      "LDL-C:\tCase\tControl\n",
      "Null:\tFalse\tFalse\n",
      "均值:\t2.8768327491236874\t3.0117772511848284\n",
      "方差:\t5.808593199281562\t0.8425005583516748\n",
      "Max:\t151.0\t8.61\n",
      "上四分位:\t3.04\t3.5474999999999994\n",
      "中位数:\t2.51\t2.98\n",
      "下四分位:\t2.03\t2.45\n",
      "Min:\t0.1\t0.64\n",
      "偏度:\t19.463157513110442\t0.43348389706932833\n",
      "峰度:\t412.5760499555452\t1.5697584752516622\n",
      "P值:\t0.1563423519896915\n"
     ]
    },
    {
     "data": {
      "image/png": "[encoded data removed]",
      "text/plain": [
       "<Figure size 432x288 with 1 Axes>"
      ]
     },
     "metadata": {
      "needs_background": "light"
     },
     "output_type": "display_data"
    },
    {
     "name": "stdout",
     "output_type": "stream",
     "text": [
      "LDL-C:四分位\n"
     ]
    }
   ],
   "source": [
    "fea = cancer_data.columns[46]\n",
    "stat_info(cancer_data, fea)\n",
    "print(fea+':四分位')\n",
    "cancer_data2[fea] = cancer_data.groupby(['A=male B=female', 'Age_group']).apply(lambda x: x[fea].apply(lambda y: np.nan if y > 3*(x[fea].quantile(0.75)-x[fea].quantile(0.25))+x[fea].quantile(0.75) or y < -3*(x[fea].quantile(0.75)-x[fea].quantile(0.25))+x[fea].quantile(0.25) else y)).reset_index(level=[0,0])[fea]"
   ]
  },
  {
   "cell_type": "code",
   "execution_count": 222,
   "metadata": {},
   "outputs": [
    {
     "name": "stdout",
     "output_type": "stream",
     "text": [
      "ALP:\tCase\tControl\n",
      "Null:\tFalse\tFalse\n",
      "均值:\t101.43452679018527\t76.0347551342812\n",
      "方差:\t110.38612937056172\t22.805953440524842\n",
      "Max:\t3539.0\t629.0\n",
      "上四分位:\t103.0\t87.0\n",
      "中位数:\t82.0\t73.0\n",
      "下四分位:\t68.0\t62.0\n",
      "Min:\t0.89\t21.0\n",
      "偏度:\t13.746518232693397\t4.676083748436537\n",
      "峰度:\t308.78433155531025\t93.30317797401543\n",
      "P值:\t2.0503473622814925e-43\n"
     ]
    },
    {
     "data": {
      "image/png": "[encoded data removed]",
      "text/plain": [
       "<Figure size 432x288 with 1 Axes>"
      ]
     },
     "metadata": {
      "needs_background": "light"
     },
     "output_type": "display_data"
    },
    {
     "name": "stdout",
     "output_type": "stream",
     "text": [
      "ALP:四分位\n"
     ]
    }
   ],
   "source": [
    "fea = cancer_data.columns[47]\n",
    "stat_info(cancer_data, fea)\n",
    "print(fea+':四分位')\n",
    "cancer_data2[fea] = cancer_data.groupby(['A=male B=female', 'Age_group']).apply(lambda x: x[fea].apply(lambda y: np.nan if y > 3*(x[fea].quantile(0.75)-x[fea].quantile(0.25))+x[fea].quantile(0.75) or y < -3*(x[fea].quantile(0.75)-x[fea].quantile(0.25))+x[fea].quantile(0.25) else y)).reset_index(level=[0,0])[fea]"
   ]
  },
  {
   "cell_type": "code",
   "execution_count": 223,
   "metadata": {},
   "outputs": [
    {
     "name": "stdout",
     "output_type": "stream",
     "text": [
      "GGT:\tCase\tControl\n",
      "Null:\tFalse\tFalse\n",
      "均值:\t46.5086379569354\t36.976829910479196\n",
      "方差:\t92.62656678014238\t47.23852240165465\n",
      "Max:\t1865.0\t1122.0\n",
      "上四分位:\t44.75\t40.0\n",
      "中位数:\t25.0\t25.0\n",
      "下四分位:\t16.0\t17.0\n",
      "Min:\t2.57\t5.0\n",
      "偏度:\t9.534043168459421\t9.264160404120565\n",
      "峰度:\t125.35886054738565\t147.44041641922286\n",
      "P值:\t1.4084159127632855e-08\n"
     ]
    },
    {
     "data": {
      "image/png": "[encoded data removed]",
      "text/plain": [
       "<Figure size 432x288 with 1 Axes>"
      ]
     },
     "metadata": {
      "needs_background": "light"
     },
     "output_type": "display_data"
    },
    {
     "name": "stdout",
     "output_type": "stream",
     "text": [
      "GGT:四分位\n"
     ]
    }
   ],
   "source": [
    "fea = cancer_data.columns[48]\n",
    "stat_info(cancer_data, fea)\n",
    "print(fea+':四分位')\n",
    "cancer_data2[fea] = cancer_data.groupby(['A=male B=female', 'Age_group']).apply(lambda x: x[fea].apply(lambda y: np.nan if y > 3*(x[fea].quantile(0.75)-x[fea].quantile(0.25))+x[fea].quantile(0.75) or y < -3*(x[fea].quantile(0.75)-x[fea].quantile(0.25))+x[fea].quantile(0.25) else y)).reset_index(level=[0,0])[fea]"
   ]
  },
  {
   "cell_type": "code",
   "execution_count": 224,
   "metadata": {},
   "outputs": [
    {
     "name": "stdout",
     "output_type": "stream",
     "text": [
      "CK:\tCase\tControl\n",
      "Null:\tFalse\tFalse\n",
      "均值:\t87.10826740110166\t118.09478672985782\n",
      "方差:\t546.8809448719744\t142.18333992941535\n",
      "Max:\t33028.0\t5101.0\n",
      "上四分位:\t79.0\t131.0\n",
      "中位数:\t55.0\t96.0\n",
      "下四分位:\t38.0\t75.0\n",
      "Min:\t1.91\t21.0\n",
      "偏度:\t55.210084385686805\t20.811347144937123\n",
      "峰度:\t3301.898780799874\t600.7760816044287\n",
      "P值:\t0.0007159022979505102\n"
     ]
    },
    {
     "data": {
      "image/png": "[encoded data removed]",
      "text/plain": [
       "<Figure size 432x288 with 1 Axes>"
      ]
     },
     "metadata": {
      "needs_background": "light"
     },
     "output_type": "display_data"
    },
    {
     "name": "stdout",
     "output_type": "stream",
     "text": [
      "CK:四分位\n"
     ]
    }
   ],
   "source": [
    "fea = cancer_data.columns[49]\n",
    "stat_info(cancer_data, fea)\n",
    "print(fea+':四分位')\n",
    "cancer_data2[fea] = cancer_data.groupby(['A=male B=female', 'Age_group']).apply(lambda x: x[fea].apply(lambda y: np.nan if y > 3*(x[fea].quantile(0.75)-x[fea].quantile(0.25))+x[fea].quantile(0.75) or y < -3*(x[fea].quantile(0.75)-x[fea].quantile(0.25))+x[fea].quantile(0.25) else y)).reset_index(level=[0,0])[fea]"
   ]
  },
  {
   "cell_type": "code",
   "execution_count": 225,
   "metadata": {},
   "outputs": [
    {
     "name": "stdout",
     "output_type": "stream",
     "text": [
      "LDH-L:\tCase\tControl\n",
      "Null:\tFalse\tFalse\n",
      "均值:\t234.3017576364547\t180.3013428120063\n",
      "方差:\t285.3044020087579\t33.07332124428852\n",
      "Max:\t13790.0\t580.0\n",
      "上四分位:\t234.0\t198.0\n",
      "中位数:\t187.0\t177.0\n",
      "下四分位:\t161.0\t158.0\n",
      "Min:\t0.54\t61.0\n",
      "偏度:\t29.01151139624582\t1.470667256355468\n",
      "峰度:\t1291.034120864283\t8.77507470678561\n",
      "P值:\t8.219386702448344e-31\n"
     ]
    },
    {
     "data": {
      "image/png": "[encoded data removed]",
      "text/plain": [
       "<Figure size 432x288 with 1 Axes>"
      ]
     },
     "metadata": {
      "needs_background": "light"
     },
     "output_type": "display_data"
    },
    {
     "name": "stdout",
     "output_type": "stream",
     "text": [
      "LDH-L:四分位\n"
     ]
    }
   ],
   "source": [
    "fea = cancer_data.columns[50]\n",
    "stat_info(cancer_data, fea)\n",
    "print(fea+':四分位')\n",
    "cancer_data2[fea] = cancer_data.groupby(['A=male B=female', 'Age_group']).apply(lambda x: x[fea].apply(lambda y: np.nan if y > 3*(x[fea].quantile(0.75)-x[fea].quantile(0.25))+x[fea].quantile(0.75) or y < -3*(x[fea].quantile(0.75)-x[fea].quantile(0.25))+x[fea].quantile(0.25) else y)).reset_index(level=[0,0])[fea]"
   ]
  },
  {
   "cell_type": "code",
   "execution_count": 226,
   "metadata": {},
   "outputs": [
    {
     "name": "stdout",
     "output_type": "stream",
     "text": [
      "HBDH:\tCase\tControl\n",
      "Null:\tFalse\tFalse\n",
      "均值:\t188.41501251877818\t141.3678251711427\n",
      "方差:\t247.96404713604886\t26.81585557369071\n",
      "Max:\t12730.0\t467.0\n",
      "上四分位:\t186.0\t155.0\n",
      "中位数:\t150.0\t139.0\n",
      "下四分位:\t129.25\t123.0\n",
      "Min:\t0.23\t2.0\n",
      "偏度:\t33.97375091172493\t1.697039294768706\n",
      "峰度:\t1648.700207401553\t11.056043021258283\n",
      "P值:\t5.3259956126937405e-31\n"
     ]
    },
    {
     "data": {
      "image/png": "[encoded data removed]",
      "text/plain": [
       "<Figure size 432x288 with 1 Axes>"
      ]
     },
     "metadata": {
      "needs_background": "light"
     },
     "output_type": "display_data"
    },
    {
     "name": "stdout",
     "output_type": "stream",
     "text": [
      "HBDH:四分位\n"
     ]
    }
   ],
   "source": [
    "fea = cancer_data.columns[51]\n",
    "stat_info(cancer_data, fea)\n",
    "print(fea+':四分位')\n",
    "cancer_data2[fea] = cancer_data.groupby(['A=male B=female', 'Age_group']).apply(lambda x: x[fea].apply(lambda y: np.nan if y > 3*(x[fea].quantile(0.75)-x[fea].quantile(0.25))+x[fea].quantile(0.75) or y < -3*(x[fea].quantile(0.75)-x[fea].quantile(0.25))+x[fea].quantile(0.25) else y)).reset_index(level=[0,0])[fea]"
   ]
  },
  {
   "cell_type": "code",
   "execution_count": 227,
   "metadata": {},
   "outputs": [
    {
     "name": "stdout",
     "output_type": "stream",
     "text": [
      "T-CEA:\tCase\tControl\n",
      "Null:\tFalse\tFalse\n",
      "均值:\t31.730525788683412\t2.132847551342809\n",
      "方差:\t125.1498401671996\t1.4176818777266678\n",
      "Max:\t5052.0\t25.93\n",
      "上四分位:\t9.81\t2.6975000000000002\n",
      "中位数:\t2.85\t1.81\n",
      "下四分位:\t2.17\t1.2\n",
      "Min:\t0.22\t0.25\n",
      "偏度:\t18.684968356052003\t3.337232986202304\n",
      "峰度:\t659.7799317939221\t30.677830128335764\n",
      "P值:\t1.7287489568667932e-47\n"
     ]
    },
    {
     "data": {
      "image/png": "[encoded data removed]",
      "text/plain": [
       "<Figure size 432x288 with 1 Axes>"
      ]
     },
     "metadata": {
      "needs_background": "light"
     },
     "output_type": "display_data"
    },
    {
     "name": "stdout",
     "output_type": "stream",
     "text": [
      "T-CEA:四分位\n"
     ]
    }
   ],
   "source": [
    "fea = cancer_data.columns[52]\n",
    "stat_info(cancer_data, fea)\n",
    "print(fea+':四分位')\n",
    "cancer_data2[fea] = cancer_data.groupby(['A=male B=female', 'Age_group']).apply(lambda x: x[fea].apply(lambda y: np.nan if y > 3*(x[fea].quantile(0.75)-x[fea].quantile(0.25))+x[fea].quantile(0.75) or y < -3*(x[fea].quantile(0.75)-x[fea].quantile(0.25))+x[fea].quantile(0.25) else y)).reset_index(level=[0,0])[fea]"
   ]
  },
  {
   "cell_type": "markdown",
   "metadata": {},
   "source": [
    "## 对移除异常值后的AB组做t检验"
   ]
  },
  {
   "cell_type": "code",
   "execution_count": 231,
   "metadata": {},
   "outputs": [
    {
     "name": "stdout",
     "output_type": "stream",
     "text": [
      "Age\n",
      "GGT\n",
      "MONO%\n"
     ]
    }
   ],
   "source": [
    "a = cancer_data2[cancer_data2['A=Case, B=Control']=='A']\n",
    "b = cancer_data2[cancer_data2['A=Case, B=Control']=='B']\n",
    "dif_fea = []\n",
    "for i in cancer_data2.columns[6:]:\n",
    "    p_val = ss.ttest_ind(a[i].dropna(), b[i].dropna())[1]\n",
    "    if p_val<0.05:\n",
    "        dif_fea.append(i)\n",
    "    if p_val>0.05:\n",
    "        print(i)"
   ]
  },
  {
   "cell_type": "markdown",
   "metadata": {},
   "source": [
    "## 替换异常值后得到V4"
   ]
  },
  {
   "cell_type": "code",
   "execution_count": 232,
   "metadata": {},
   "outputs": [],
   "source": [
    "cancer_data2.to_csv('../../data/cancer_data_v4.csv', index=False)"
   ]
  }
 ],
 "metadata": {
  "kernelspec": {
   "display_name": "Python 3",
   "language": "python",
   "name": "python3"
  },
  "language_info": {
   "codemirror_mode": {
    "name": "ipython",
    "version": 3
   },
   "file_extension": ".py",
   "mimetype": "text/x-python",
   "name": "python",
   "nbconvert_exporter": "python",
   "pygments_lexer": "ipython3",
   "version": "3.8.3"
  },
  "latex_envs": {
   "LaTeX_envs_menu_present": true,
   "autoclose": false,
   "autocomplete": true,
   "bibliofile": "biblio.bib",
   "cite_by": "apalike",
   "current_citInitial": 1,
   "eqLabelWithNumbers": true,
   "eqNumInitial": 1,
   "hotkeys": {
    "equation": "Ctrl-E",
    "itemize": "Ctrl-I"
   },
   "labels_anchors": false,
   "latex_user_defs": false,
   "report_style_numbering": false,
   "user_envs_cfg": false
  },
  "varInspector": {
   "cols": {
    "lenName": 16,
    "lenType": 16,
    "lenVar": 40
   },
   "kernels_config": {
    "python": {
     "delete_cmd_postfix": "",
     "delete_cmd_prefix": "del ",
     "library": "var_list.py",
     "varRefreshCmd": "print(var_dic_list())"
    },
    "r": {
     "delete_cmd_postfix": ") ",
     "delete_cmd_prefix": "rm(",
     "library": "var_list.r",
     "varRefreshCmd": "cat(var_dic_list()) "
    }
   },
   "types_to_exclude": [
    "module",
    "function",
    "builtin_function_or_method",
    "instance",
    "_Feature"
   ],
   "window_display": false
  }
 },
 "nbformat": 4,
 "nbformat_minor": 4
}
