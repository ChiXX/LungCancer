{
 "cells": [
  {
   "cell_type": "code",
   "execution_count": 1,
   "metadata": {},
   "outputs": [],
   "source": [
    "import pandas as pd\n",
    "import numpy as np\n",
    "import matplotlib.pyplot as plt\n",
    "from sklearn.ensemble import RandomForestClassifier\n",
    "from sklearn.metrics import roc_curve, auc, recall_score, accuracy_score, f1_score, confusion_matrix\n",
    "from sklearn.model_selection import train_test_split, GridSearchCV, cross_val_score\n",
    "from joblib import dump, load"
   ]
  },
  {
   "cell_type": "markdown",
   "metadata": {},
   "source": [
    "# Data preparing"
   ]
  },
  {
   "cell_type": "code",
   "execution_count": 36,
   "metadata": {},
   "outputs": [],
   "source": [
    "cancer_data = pd.read_csv('../../data/cancer_data_v4.csv')\n",
    "cancer_data.drop(['WBC', 'EO%', 'EO', 'GLO', 'NEUT%', 'HCT', 'TCH','TBIL', 'IBIL', 'LDH-L'], axis=1, inplace=True)\n",
    "for fea in cancer_data.columns[6:]:\n",
    "    median = cancer_data.groupby(['Age_group', 'A=male B=female'])[fea].median()\n",
    "    cancer_data.set_index(['Age_group', 'A=male B=female'], inplace=True)\n",
    "    cancer_data[fea].fillna(median, inplace=True)\n",
    "    cancer_data.reset_index(inplace=True)\n",
    "cancer_data['A=Case, B=Control'] = cancer_data['A=Case, B=Control'].apply(lambda x: 1 if x=='A' else 0)\n",
    "X_train, X_test, y_train, y_test = train_test_split(cancer_data.drop(['Origin','Age_group','A=male B=female','ID', 'A=Case, B=Control', 'Pattern'], axis=1), cancer_data['A=Case, B=Control'], test_size=0.3, random_state=0)"
   ]
  },
  {
   "cell_type": "markdown",
   "metadata": {},
   "source": [
    "# Random Forest"
   ]
  },
  {
   "cell_type": "code",
   "execution_count": 37,
   "metadata": {
    "scrolled": true
   },
   "outputs": [
    {
     "name": "stdout",
     "output_type": "stream",
     "text": [
      "ACC: 0.9414029084687767\n",
      "REC: 0.9325657894736842\n",
      "SPC: 0.9509803921568627\n",
      "AUC: 0.9844820105075522\n"
     ]
    }
   ],
   "source": [
    "rf = load('../model/rf_clf')\n",
    "y_pred = rf.predict(X_test)\n",
    "tn, fp, fn, tp = confusion_matrix(y_test, y_pred).ravel()\n",
    "\n",
    "rf_prob = rf.predict_proba(X_test)[:,1]\n",
    "rf_fpr, rf_tpr, _ = roc_curve(y_test, rf_prob)\n",
    "rf_auc = auc(rf_fpr, rf_tpr)\n",
    "\n",
    "print(\"ACC:\",accuracy_score(y_test, y_pred))\n",
    "print(\"REC:\",recall_score(y_test, y_pred))\n",
    "print(\"SPC:\",tn/(tn+fp))\n",
    "print(\"AUC:\",rf_auc)\n",
    "importances = pd.DataFrame(rf.feature_importances_, columns = ['rf_importance'], index=X_train.columns).sort_values(by='rf_importance', ascending=False)"
   ]
  },
  {
   "cell_type": "markdown",
   "metadata": {},
   "source": [
    "# XGBoost"
   ]
  },
  {
   "cell_type": "code",
   "execution_count": 30,
   "metadata": {},
   "outputs": [
    {
     "name": "stdout",
     "output_type": "stream",
     "text": [
      "ACC: 0.9820359281437125\n",
      "REC: 0.9720394736842105\n",
      "SPC: 0.9928698752228164\n",
      "AUC: 0.9973899697438784\n"
     ]
    }
   ],
   "source": [
    "xgb = load('../model/xgb_clf')\n",
    "y_pred = xgb.predict(X_test)\n",
    "tn, fp, fn, tp = confusion_matrix(y_test, y_pred).ravel()\n",
    "\n",
    "xgb_prob = xgb.predict_proba(X_test)[:,1]\n",
    "xgb_fpr, xgb_tpr, _ = roc_curve(y_test, xgb_prob)\n",
    "xgb_auc = auc(xgb_fpr, xgb_tpr)\n",
    "\n",
    "print(\"ACC:\",accuracy_score(y_test, y_pred))\n",
    "print(\"REC:\",recall_score(y_test, y_pred))\n",
    "print(\"SPC:\",tn/(tn+fp))\n",
    "print(\"AUC:\",xgb_auc)\n",
    "importances['xgb_importance'] = pd.DataFrame(xgb.feature_importances_, index=X_train.columns)"
   ]
  },
  {
   "cell_type": "markdown",
   "metadata": {},
   "source": [
    "# ROC & AUC"
   ]
  },
  {
   "cell_type": "code",
   "execution_count": 26,
   "metadata": {
    "scrolled": true
   },
   "outputs": [
    {
     "data": {
      "image/png": "[encoded data removed]",
      "text/plain": [
       "<Figure size 432x288 with 1 Axes>"
      ]
     },
     "metadata": {
      "needs_background": "light"
     },
     "output_type": "display_data"
    }
   ],
   "source": [
    "plt.plot([0, 1], [0, 1], 'k--')\n",
    "plt.plot(rf_fpr, rf_tpr, label='RF (area = %0.2f)' % rf_auc)\n",
    "plt.plot(xgb_fpr, xgb_tpr, label='XG (area = %0.2f)' % xgb_auc)\n",
    "plt.xlabel('False positive rate')\n",
    "plt.ylabel('True positive rate')\n",
    "plt.title('ROC curve')\n",
    "plt.legend(loc=\"lower right\")\n",
    "plt.show()"
   ]
  },
  {
   "cell_type": "markdown",
   "metadata": {},
   "source": [
    "# Data preparing2"
   ]
  },
  {
   "cell_type": "code",
   "execution_count": 38,
   "metadata": {},
   "outputs": [],
   "source": [
    "cancer_data2 = pd.read_csv('../../data/cancer_data_v4.csv')\n",
    "cancer_data2.drop(['WBC', 'EO%', 'EO', 'GLO', 'NEUT%', 'HCT', 'TCH','TBIL', 'IBIL', 'LDH-L'], axis=1, inplace=True)\n",
    "for fea in cancer_data2.columns[6:]:\n",
    "    median = cancer_data2.groupby(['Age_group', 'A=male B=female'])[fea].median()\n",
    "    cancer_data2.set_index(['Age_group', 'A=male B=female'], inplace=True)\n",
    "    cancer_data2[fea].fillna(median, inplace=True)\n",
    "    cancer_data2.reset_index(inplace=True)\n",
    "cancer_data2['A=Case, B=Control'] = cancer_data2['A=Case, B=Control'].apply(lambda x: 1 if x=='A' else 0)\n",
    "\n",
    "group_b = cancer_data2[cancer_data2['Origin']=='B']\n",
    "group_c = cancer_data2[cancer_data2['Origin']=='C'].sample(n=212)\n",
    "new = pd.concat([group_b,group_c], axis=0).sample(frac=1,random_state=0)\n",
    "\n",
    "X_train2, X_test2, y_train2, y_test2 = train_test_split(new.drop(['Origin','Age_group','A=male B=female','ID', 'A=Case, B=Control', 'Pattern'], axis=1), new['A=Case, B=Control'].sample(frac=1,random_state=0), test_size=0.2, random_state=0)"
   ]
  },
  {
   "cell_type": "markdown",
   "metadata": {},
   "source": [
    "## RF"
   ]
  },
  {
   "cell_type": "code",
   "execution_count": 39,
   "metadata": {},
   "outputs": [
    {
     "name": "stdout",
     "output_type": "stream",
     "text": [
      "ACC: 0.6352941176470588\n",
      "REC: 0.6756756756756757\n",
      "SPC: 0.6041666666666666\n",
      "AUC: 0.7550675675675675\n"
     ]
    }
   ],
   "source": [
    "rf = load('../model/rf_clf_mini')\n",
    "y_pred = rf.predict(X_test2)\n",
    "tn, fp, fn, tp = confusion_matrix(y_test2, y_pred).ravel()\n",
    "\n",
    "rf_prob = rf.predict_proba(X_test2)[:,1]\n",
    "rf_fpr2, rf_tpr2, _ = roc_curve(y_test2, rf_prob)\n",
    "rf_auc2 = auc(rf_fpr2, rf_tpr2)\n",
    "\n",
    "print(\"ACC:\",accuracy_score(y_test2, y_pred))\n",
    "print(\"REC:\",recall_score(y_test2, y_pred))\n",
    "print(\"SPC:\",tn/(tn+fp))\n",
    "print(\"AUC:\",rf_auc2)\n",
    "importances['rf_mini_importance'] = pd.DataFrame(rf.feature_importances_, index=X_train2.columns)"
   ]
  },
  {
   "cell_type": "markdown",
   "metadata": {},
   "source": [
    "## XGB"
   ]
  },
  {
   "cell_type": "code",
   "execution_count": 40,
   "metadata": {},
   "outputs": [
    {
     "name": "stdout",
     "output_type": "stream",
     "text": [
      "ACC: 0.788235294117647\n",
      "REC: 0.7837837837837838\n",
      "SPC: 0.7916666666666666\n",
      "AUC: 0.8502252252252253\n"
     ]
    }
   ],
   "source": [
    "xgb = load('../model/xgb_clf_mini')\n",
    "y_pred = xgb.predict(X_test2)\n",
    "tn, fp, fn, tp = confusion_matrix(y_test2, y_pred).ravel()\n",
    "\n",
    "xgb_prob = xgb.predict_proba(X_test2)[:,1]\n",
    "xgb_fpr2, xgb_tpr2, _ = roc_curve(y_test2, xgb_prob)\n",
    "xgb_auc2 = auc(xgb_fpr2, xgb_tpr2)\n",
    "\n",
    "print(\"ACC:\",accuracy_score(y_test2, y_pred))\n",
    "print(\"REC:\",recall_score(y_test2, y_pred))\n",
    "print(\"SPC:\",tn/(tn+fp))\n",
    "print(\"AUC:\",xgb_auc2)\n",
    "importances['xgb_mini_importance'] = pd.DataFrame(xgb.feature_importances_, index=X_train2.columns)"
   ]
  },
  {
   "cell_type": "code",
   "execution_count": 34,
   "metadata": {},
   "outputs": [],
   "source": [
    "importances.to_csv('../../data/featureImportance.csv')"
   ]
  },
  {
   "cell_type": "code",
   "execution_count": 41,
   "metadata": {
    "scrolled": true
   },
   "outputs": [
    {
     "data": {
      "image/png": "[encoded data removed]",
      "text/plain": [
       "<Figure size 432x288 with 1 Axes>"
      ]
     },
     "metadata": {
      "needs_background": "light"
     },
     "output_type": "display_data"
    }
   ],
   "source": [
    "plt.plot([0, 1], [0, 1], 'k--')\n",
    "plt.plot(xgb_fpr, xgb_tpr, label='XG (area = %0.2f)' % xgb_auc, color='g')\n",
    "plt.plot(xgb_fpr2, xgb_tpr2, label='XG_mini (area = %0.2f)' % xgb_auc2, color='g', linestyle=\"--\")\n",
    "plt.plot(rf_fpr, rf_tpr, label='RF (area = %0.2f)' % rf_auc, color='b')\n",
    "plt.plot(rf_fpr2, rf_tpr2, label='RF_mini (area = %0.2f)' % rf_auc2, color='b', linestyle=\"--\")\n",
    "plt.xlabel('False positive rate')\n",
    "plt.ylabel('True positive rate')\n",
    "plt.title('ROC curve')\n",
    "plt.legend(loc=\"lower right\")\n",
    "plt.show()"
   ]
  }
 ],
 "metadata": {
  "kernelspec": {
   "display_name": "Python 3",
   "language": "python",
   "name": "python3"
  },
  "language_info": {
   "codemirror_mode": {
    "name": "ipython",
    "version": 3
   },
   "file_extension": ".py",
   "mimetype": "text/x-python",
   "name": "python",
   "nbconvert_exporter": "python",
   "pygments_lexer": "ipython3",
   "version": "3.8.3"
  }
 },
 "nbformat": 4,
 "nbformat_minor": 4
}
