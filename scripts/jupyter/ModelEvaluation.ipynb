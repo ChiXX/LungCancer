{
 "cells": [
  {
   "cell_type": "code",
   "execution_count": 34,
   "metadata": {},
   "outputs": [],
   "source": [
    "import pandas as pd\n",
    "import numpy as np\n",
    "import matplotlib.pyplot as plt\n",
    "from sklearn.ensemble import RandomForestClassifier\n",
    "from sklearn.metrics import roc_curve, auc, recall_score, accuracy_score, f1_score, confusion_matrix\n",
    "from sklearn.model_selection import train_test_split, GridSearchCV, cross_val_score\n",
    "from joblib import dump, load"
   ]
  },
  {
   "cell_type": "markdown",
   "metadata": {},
   "source": [
    "# Data preparing"
   ]
  },
  {
   "cell_type": "code",
   "execution_count": 35,
   "metadata": {},
   "outputs": [],
   "source": [
    "cancer_data = pd.read_csv('../../data/cancer_data_v4.csv')\n",
    "\n",
    "cancer_data.drop(['WBC', 'EO%', 'EO', 'GLO', 'NEUT%', 'HCT', 'TCH','TBIL', 'IBIL', 'LDH-L'], axis=1, inplace=True)\n",
    "for fea in cancer_data.columns[6:]:\n",
    "    median = cancer_data.groupby(['Origin','Age_group', 'A=male B=female'])[fea].median()\n",
    "    cancer_data.set_index(['Origin','Age_group', 'A=male B=female'], inplace=True)\n",
    "    cancer_data[fea].fillna(median, inplace=True)\n",
    "    cancer_data.reset_index(inplace=True)\n",
    "cancer_data['A=Case, B=Control'] = cancer_data['A=Case, B=Control'].apply(lambda x: 1 if x=='A' else 0)\n",
    "\n",
    "group_b = cancer_data[cancer_data['Origin']=='B']\n",
    "group_c = cancer_data[cancer_data['Origin']=='C'].sample(n=212,random_state=0)\n",
    "\n",
    "data_bc = pd.concat([group_b,group_c], axis=0).sample(frac=1,random_state=0)# 424\n",
    "data_ac = cancer_data.append(data_bc).drop_duplicates(keep=False).sample(frac=1,random_state=0) # 7368"
   ]
  },
  {
   "cell_type": "code",
   "execution_count": 36,
   "metadata": {},
   "outputs": [],
   "source": [
    "X1, y1 = data_bc.drop(['Origin','Age_group','A=male B=female','ID', 'A=Case, B=Control', 'Pattern'], axis=1), data_bc['A=Case, B=Control']\n",
    "X2, y2 = data_ac.drop(['Origin','Age_group','A=male B=female','ID', 'A=Case, B=Control', 'Pattern'], axis=1), data_ac['A=Case, B=Control']"
   ]
  },
  {
   "cell_type": "markdown",
   "metadata": {},
   "source": [
    "# Random Forest"
   ]
  },
  {
   "cell_type": "code",
   "execution_count": 41,
   "metadata": {},
   "outputs": [
    {
     "name": "stdout",
     "output_type": "stream",
     "text": [
      "ACC: 0.5377358490566038\n",
      "REC: 0.08490566037735849\n",
      "SPC: 0.9905660377358491\n",
      "AUC: 0.7150787646849414\n"
     ]
    }
   ],
   "source": [
    "rf = load('../model/rf_clf')\n",
    "y_pred = rf.predict(X1)\n",
    "tn, fp, fn, tp = confusion_matrix(y1, y_pred).ravel()\n",
    "\n",
    "rf_prob = rf.predict_proba(X1)[:,1]\n",
    "rf_fpr, rf_tpr, _ = roc_curve(y1, rf_prob)\n",
    "rf_auc = auc(rf_fpr, rf_tpr)\n",
    "\n",
    "print(\"ACC:\",accuracy_score(y1, y_pred))\n",
    "print(\"REC:\",recall_score(y1, y_pred))\n",
    "print(\"SPC:\",tn/(tn+fp))\n",
    "print(\"AUC:\",rf_auc)\n",
    "importances = pd.DataFrame(rf.feature_importances_, columns = ['rf_importance'], index=X1.columns).sort_values(by='rf_importance', ascending=False)"
   ]
  },
  {
   "cell_type": "markdown",
   "metadata": {},
   "source": [
    "# XGBoost"
   ]
  },
  {
   "cell_type": "code",
   "execution_count": 42,
   "metadata": {},
   "outputs": [
    {
     "name": "stdout",
     "output_type": "stream",
     "text": [
      "ACC: 0.5023584905660378\n",
      "REC: 0.0047169811320754715\n",
      "SPC: 1.0\n",
      "AUC: 0.6608001067995729\n"
     ]
    }
   ],
   "source": [
    "xgb = load('../model/xgb_clf')\n",
    "y_pred = xgb.predict(X1)\n",
    "tn, fp, fn, tp = confusion_matrix(y1, y_pred).ravel()\n",
    "\n",
    "xgb_prob = xgb.predict_proba(X1)[:,1]\n",
    "xgb_fpr, xgb_tpr, _ = roc_curve(y1, xgb_prob)\n",
    "xgb_auc = auc(xgb_fpr, xgb_tpr)\n",
    "\n",
    "print(\"ACC:\",accuracy_score(y1, y_pred))\n",
    "print(\"REC:\",recall_score(y1, y_pred))\n",
    "print(\"SPC:\",tn/(tn+fp))\n",
    "print(\"AUC:\",xgb_auc)\n",
    "importances['xgb_importance'] = pd.DataFrame(xgb.feature_importances_, index=X1.columns)"
   ]
  },
  {
   "cell_type": "markdown",
   "metadata": {},
   "source": [
    "## RF_mini"
   ]
  },
  {
   "cell_type": "code",
   "execution_count": 44,
   "metadata": {},
   "outputs": [
    {
     "name": "stdout",
     "output_type": "stream",
     "text": [
      "ACC: 0.6669381107491856\n",
      "REC: 0.6356425171866738\n",
      "SPC: 0.6999442275515895\n",
      "AUC: 0.7298051975438887\n"
     ]
    }
   ],
   "source": [
    "rf = load('../model/rf_clf_mini')\n",
    "y_pred = rf.predict(X2)\n",
    "tn, fp, fn, tp = confusion_matrix(y2, y_pred).ravel()\n",
    "\n",
    "rf_prob = rf.predict_proba(X2)[:,1]\n",
    "rf_fpr2, rf_tpr2, _ = roc_curve(y2, rf_prob)\n",
    "rf_auc2 = auc(rf_fpr2, rf_tpr2)\n",
    "\n",
    "print(\"ACC:\",accuracy_score(y2, y_pred))\n",
    "print(\"REC:\",recall_score(y2, y_pred))\n",
    "print(\"SPC:\",tn/(tn+fp))\n",
    "print(\"AUC:\",rf_auc2)\n",
    "importances['rf_mini_importance'] = pd.DataFrame(rf.feature_importances_, index=X2.columns)"
   ]
  },
  {
   "cell_type": "markdown",
   "metadata": {},
   "source": [
    "## XGB_mini"
   ]
  },
  {
   "cell_type": "code",
   "execution_count": 45,
   "metadata": {},
   "outputs": [
    {
     "name": "stdout",
     "output_type": "stream",
     "text": [
      "ACC: 0.6867535287730727\n",
      "REC: 0.6485986250661026\n",
      "SPC: 0.7269938650306749\n",
      "AUC: 0.7642652562421048\n"
     ]
    }
   ],
   "source": [
    "xgb = load('../model/xgb_clf_mini')\n",
    "y_pred = xgb.predict(X2)\n",
    "tn, fp, fn, tp = confusion_matrix(y2, y_pred).ravel()\n",
    "\n",
    "xgb_prob = xgb.predict_proba(X2)[:,1]\n",
    "xgb_fpr2, xgb_tpr2, _ = roc_curve(y2, xgb_prob)\n",
    "xgb_auc2 = auc(xgb_fpr2, xgb_tpr2)\n",
    "\n",
    "print(\"ACC:\",accuracy_score(y2, y_pred))\n",
    "print(\"REC:\",recall_score(y2, y_pred))\n",
    "print(\"SPC:\",tn/(tn+fp))\n",
    "print(\"AUC:\",xgb_auc2)\n",
    "importances['xgb_mini_importance'] = pd.DataFrame(xgb.feature_importances_, index=X2.columns)"
   ]
  },
  {
   "cell_type": "code",
   "execution_count": 47,
   "metadata": {},
   "outputs": [],
   "source": [
    "# importances.to_csv('../../data/featureImportance.csv')"
   ]
  },
  {
   "cell_type": "code",
   "execution_count": 46,
   "metadata": {
    "scrolled": true
   },
   "outputs": [
    {
     "data": {
      "image/png": "[encoded data removed]",
      "text/plain": [
       "<Figure size 432x288 with 1 Axes>"
      ]
     },
     "metadata": {
      "needs_background": "light"
     },
     "output_type": "display_data"
    }
   ],
   "source": [
    "plt.plot([0, 1], [0, 1], 'k--')\n",
    "plt.plot(xgb_fpr, xgb_tpr, label='XG (area = %0.2f)' % xgb_auc, color='g')\n",
    "plt.plot(xgb_fpr2, xgb_tpr2, label='XG_mini (area = %0.2f)' % xgb_auc2, color='g', linestyle=\"--\")\n",
    "plt.plot(rf_fpr, rf_tpr, label='RF (area = %0.2f)' % rf_auc, color='b')\n",
    "plt.plot(rf_fpr2, rf_tpr2, label='RF_mini (area = %0.2f)' % rf_auc2, color='b', linestyle=\"--\")\n",
    "plt.xlabel('False positive rate')\n",
    "plt.ylabel('True positive rate')\n",
    "plt.title('ROC curve')\n",
    "plt.legend(loc=\"lower right\")\n",
    "plt.show()"
   ]
  }
 ],
 "metadata": {
  "kernelspec": {
   "display_name": "Python 3",
   "language": "python",
   "name": "python3"
  },
  "language_info": {
   "codemirror_mode": {
    "name": "ipython",
    "version": 3
   },
   "file_extension": ".py",
   "mimetype": "text/x-python",
   "name": "python",
   "nbconvert_exporter": "python",
   "pygments_lexer": "ipython3",
   "version": "3.8.3"
  }
 },
 "nbformat": 4,
 "nbformat_minor": 4
}
