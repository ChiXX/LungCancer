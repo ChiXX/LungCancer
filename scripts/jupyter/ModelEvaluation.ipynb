{
 "cells": [
  {
   "cell_type": "code",
   "execution_count": 1,
   "metadata": {},
   "outputs": [],
   "source": [
    "import pandas as pd\n",
    "import numpy as np\n",
    "import matplotlib.pyplot as plt\n",
    "from sklearn.ensemble import RandomForestClassifier\n",
    "from sklearn.metrics import roc_curve, auc, recall_score, accuracy_score, f1_score, confusion_matrix\n",
    "from sklearn.model_selection import train_test_split, GridSearchCV, cross_val_score\n",
    "from joblib import dump, load"
   ]
  },
  {
   "cell_type": "markdown",
   "metadata": {},
   "source": [
    "# Data preparing"
   ]
  },
  {
   "cell_type": "code",
   "execution_count": 65,
   "metadata": {},
   "outputs": [],
   "source": [
    "cancer_data = pd.read_csv('../../data/cancer_data_v4.csv')\n",
    "cancer_data.drop(['WBC', 'EO%', 'EO', 'GLO', 'NEUT%', 'HCT', 'TCH','TBIL', 'IBIL', 'LDH-L'], axis=1, inplace=True)\n",
    "for fea in cancer_data.columns[6:]:\n",
    "    median = cancer_data.groupby(['Age_group', 'A=male B=female'])[fea].median()\n",
    "    cancer_data.set_index(['Age_group', 'A=male B=female'], inplace=True)\n",
    "    cancer_data[fea].fillna(median, inplace=True)\n",
    "    cancer_data.reset_index(inplace=True)\n",
    "cancer_data['A=Case, B=Control'] = cancer_data['A=Case, B=Control'].apply(lambda x: 1 if x=='A' else 0)\n",
    "X_train, X_test, y_train, y_test = train_test_split(cancer_data.drop(['Origin','Age_group','A=male B=female','ID', 'A=Case, B=Control', 'Pattern'], axis=1), cancer_data['A=Case, B=Control'], test_size=0.3, random_state=0)"
   ]
  },
  {
   "cell_type": "markdown",
   "metadata": {},
   "source": [
    "# Random Forest"
   ]
  },
  {
   "cell_type": "code",
   "execution_count": 66,
   "metadata": {
    "scrolled": true
   },
   "outputs": [
    {
     "name": "stdout",
     "output_type": "stream",
     "text": [
      "ACC: 0.9414029084687767\n",
      "REC: 0.9325657894736842\n",
      "SPC: 0.9509803921568627\n",
      "AUC: 0.9844820105075522\n"
     ]
    }
   ],
   "source": [
    "rf = load('../model/rf_clf')\n",
    "y_pred = rf.predict(X_test)\n",
    "tn, fp, fn, tp = confusion_matrix(y_test, y_pred).ravel()\n",
    "\n",
    "rf_prob = rf.predict_proba(X_test)[:,1]\n",
    "rf_fpr, rf_tpr, _ = roc_curve(y_test, rf_prob)\n",
    "rf_auc = auc(rf_fpr, rf_tpr)\n",
    "\n",
    "print(\"ACC:\",accuracy_score(y_test, y_pred))\n",
    "print(\"REC:\",recall_score(y_test, y_pred))\n",
    "print(\"SPC:\",tn/(tn+fp))\n",
    "print(\"AUC:\",rf_auc)\n",
    "importances = pd.DataFrame(rf.feature_importances_, columns = ['rf_importance'], index=X_train.columns).sort_values(by='rf_importance', ascending=False)"
   ]
  },
  {
   "cell_type": "markdown",
   "metadata": {},
   "source": [
    "# XGBoost"
   ]
  },
  {
   "cell_type": "code",
   "execution_count": 67,
   "metadata": {},
   "outputs": [
    {
     "name": "stdout",
     "output_type": "stream",
     "text": [
      "ACC: 0.9820359281437125\n",
      "REC: 0.9720394736842105\n",
      "SPC: 0.9928698752228164\n",
      "AUC: 0.9973899697438784\n"
     ]
    }
   ],
   "source": [
    "xgb = load('../model/xgb_clf')\n",
    "y_pred = xgb.predict(X_test)\n",
    "tn, fp, fn, tp = confusion_matrix(y_test, y_pred).ravel()\n",
    "\n",
    "xgb_prob = xgb.predict_proba(X_test)[:,1]\n",
    "xgb_fpr, xgb_tpr, _ = roc_curve(y_test, xgb_prob)\n",
    "xgb_auc = auc(xgb_fpr, xgb_tpr)\n",
    "\n",
    "print(\"ACC:\",accuracy_score(y_test, y_pred))\n",
    "print(\"REC:\",recall_score(y_test, y_pred))\n",
    "print(\"SPC:\",tn/(tn+fp))\n",
    "print(\"AUC:\",xgb_auc)\n",
    "importances['xgb_importance'] = pd.DataFrame(xgb.feature_importances_, index=X_train.columns)"
   ]
  },
  {
   "cell_type": "markdown",
   "metadata": {},
   "source": [
    "# ROC & AUC"
   ]
  },
  {
   "cell_type": "code",
   "execution_count": 26,
   "metadata": {
    "scrolled": true
   },
   "outputs": [
    {
     "data": {
      "image/png": "[encoded data removed]",
      "text/plain": [
       "<Figure size 432x288 with 1 Axes>"
      ]
     },
     "metadata": {
      "needs_background": "light"
     },
     "output_type": "display_data"
    }
   ],
   "source": [
    "plt.plot([0, 1], [0, 1], 'k--')\n",
    "plt.plot(rf_fpr, rf_tpr, label='RF (area = %0.2f)' % rf_auc)\n",
    "plt.plot(xgb_fpr, xgb_tpr, label='XG (area = %0.2f)' % xgb_auc)\n",
    "plt.xlabel('False positive rate')\n",
    "plt.ylabel('True positive rate')\n",
    "plt.title('ROC curve')\n",
    "plt.legend(loc=\"lower right\")\n",
    "plt.show()"
   ]
  },
  {
   "cell_type": "markdown",
   "metadata": {},
   "source": [
    "# Data preparing2"
   ]
  },
  {
   "cell_type": "code",
   "execution_count": 88,
   "metadata": {},
   "outputs": [],
   "source": [
    "cancer_data = pd.read_csv('../../data/cancer_data_v4.csv')\n",
    "cancer_data.drop(['WBC', 'EO%', 'EO', 'GLO', 'NEUT%', 'HCT', 'TCH','TBIL', 'IBIL', 'LDH-L'], axis=1, inplace=True)\n",
    "for fea in cancer_data.columns[6:]:\n",
    "    median = cancer_data.groupby(['Age_group', 'A=male B=female'])[fea].median()\n",
    "    cancer_data.set_index(['Age_group', 'A=male B=female'], inplace=True)\n",
    "    cancer_data[fea].fillna(median, inplace=True)\n",
    "    cancer_data.reset_index(inplace=True)\n",
    "cancer_data['A=Case, B=Control'] = cancer_data['A=Case, B=Control'].apply(lambda x: 1 if x=='A' else 0)\n",
    "\n",
    "group_b = cancer_data[cancer_data['Origin']=='B']\n",
    "group_c = cancer_data[cancer_data['Origin']=='C'].sample(n=212,random_state=0)\n",
    "\n",
    "new = pd.concat([group_b,group_c], axis=0).sample(frac=1,random_state=0)\n",
    "X_train2, X_test2, y_train2, y_test2 = train_test_split(new.drop(['Origin','Age_group','A=male B=female','ID', 'A=Case, B=Control', 'Pattern'], axis=1), new['A=Case, B=Control'], test_size=0.3, random_state=0)"
   ]
  },
  {
   "cell_type": "code",
   "execution_count": 89,
   "metadata": {},
   "outputs": [
    {
     "data": {
      "text/html": [
       "<div>\n",
       "<style scoped>\n",
       "    .dataframe tbody tr th:only-of-type {\n",
       "        vertical-align: middle;\n",
       "    }\n",
       "\n",
       "    .dataframe tbody tr th {\n",
       "        vertical-align: top;\n",
       "    }\n",
       "\n",
       "    .dataframe thead th {\n",
       "        text-align: right;\n",
       "    }\n",
       "</style>\n",
       "<table border=\"1\" class=\"dataframe\">\n",
       "  <thead>\n",
       "    <tr style=\"text-align: right;\">\n",
       "      <th></th>\n",
       "      <th>Age</th>\n",
       "      <th>Smoke</th>\n",
       "      <th>MCV</th>\n",
       "      <th>ALT</th>\n",
       "      <th>AST:ALT</th>\n",
       "      <th>GLU</th>\n",
       "      <th>BUN</th>\n",
       "      <th>Cr</th>\n",
       "      <th>RBC</th>\n",
       "      <th>HGB</th>\n",
       "      <th>...</th>\n",
       "      <th>Cystatin-C</th>\n",
       "      <th>UA</th>\n",
       "      <th>TG</th>\n",
       "      <th>HDL-C</th>\n",
       "      <th>LDL-C</th>\n",
       "      <th>ALP</th>\n",
       "      <th>GGT</th>\n",
       "      <th>CK</th>\n",
       "      <th>HBDH</th>\n",
       "      <th>T-CEA</th>\n",
       "    </tr>\n",
       "  </thead>\n",
       "  <tbody>\n",
       "    <tr>\n",
       "      <th>4539</th>\n",
       "      <td>59</td>\n",
       "      <td>0.0</td>\n",
       "      <td>83.5</td>\n",
       "      <td>23.0</td>\n",
       "      <td>0.91</td>\n",
       "      <td>5.97</td>\n",
       "      <td>4.50</td>\n",
       "      <td>67.0</td>\n",
       "      <td>5.70</td>\n",
       "      <td>147.0</td>\n",
       "      <td>...</td>\n",
       "      <td>0.88</td>\n",
       "      <td>404.0</td>\n",
       "      <td>1.11</td>\n",
       "      <td>1.50</td>\n",
       "      <td>3.84</td>\n",
       "      <td>50.0</td>\n",
       "      <td>23.0</td>\n",
       "      <td>119.0</td>\n",
       "      <td>101.0</td>\n",
       "      <td>1.44</td>\n",
       "    </tr>\n",
       "    <tr>\n",
       "      <th>1937</th>\n",
       "      <td>53</td>\n",
       "      <td>300.0</td>\n",
       "      <td>90.7</td>\n",
       "      <td>33.0</td>\n",
       "      <td>0.88</td>\n",
       "      <td>5.29</td>\n",
       "      <td>4.55</td>\n",
       "      <td>93.3</td>\n",
       "      <td>4.83</td>\n",
       "      <td>144.0</td>\n",
       "      <td>...</td>\n",
       "      <td>0.83</td>\n",
       "      <td>293.0</td>\n",
       "      <td>3.82</td>\n",
       "      <td>0.87</td>\n",
       "      <td>2.49</td>\n",
       "      <td>56.0</td>\n",
       "      <td>46.0</td>\n",
       "      <td>162.0</td>\n",
       "      <td>110.0</td>\n",
       "      <td>0.88</td>\n",
       "    </tr>\n",
       "    <tr>\n",
       "      <th>5451</th>\n",
       "      <td>47</td>\n",
       "      <td>0.0</td>\n",
       "      <td>92.5</td>\n",
       "      <td>19.0</td>\n",
       "      <td>1.16</td>\n",
       "      <td>5.89</td>\n",
       "      <td>3.90</td>\n",
       "      <td>74.0</td>\n",
       "      <td>5.59</td>\n",
       "      <td>169.0</td>\n",
       "      <td>...</td>\n",
       "      <td>0.82</td>\n",
       "      <td>271.0</td>\n",
       "      <td>1.36</td>\n",
       "      <td>1.34</td>\n",
       "      <td>4.73</td>\n",
       "      <td>79.0</td>\n",
       "      <td>17.0</td>\n",
       "      <td>116.0</td>\n",
       "      <td>157.0</td>\n",
       "      <td>1.08</td>\n",
       "    </tr>\n",
       "    <tr>\n",
       "      <th>5364</th>\n",
       "      <td>48</td>\n",
       "      <td>0.0</td>\n",
       "      <td>93.4</td>\n",
       "      <td>12.0</td>\n",
       "      <td>0.83</td>\n",
       "      <td>4.57</td>\n",
       "      <td>4.70</td>\n",
       "      <td>80.0</td>\n",
       "      <td>5.33</td>\n",
       "      <td>164.0</td>\n",
       "      <td>...</td>\n",
       "      <td>0.91</td>\n",
       "      <td>374.0</td>\n",
       "      <td>1.78</td>\n",
       "      <td>1.49</td>\n",
       "      <td>3.83</td>\n",
       "      <td>48.0</td>\n",
       "      <td>21.0</td>\n",
       "      <td>77.0</td>\n",
       "      <td>114.0</td>\n",
       "      <td>0.65</td>\n",
       "    </tr>\n",
       "    <tr>\n",
       "      <th>4975</th>\n",
       "      <td>74</td>\n",
       "      <td>0.0</td>\n",
       "      <td>93.1</td>\n",
       "      <td>14.0</td>\n",
       "      <td>1.36</td>\n",
       "      <td>4.87</td>\n",
       "      <td>4.90</td>\n",
       "      <td>82.0</td>\n",
       "      <td>4.51</td>\n",
       "      <td>135.0</td>\n",
       "      <td>...</td>\n",
       "      <td>1.16</td>\n",
       "      <td>390.0</td>\n",
       "      <td>1.41</td>\n",
       "      <td>0.84</td>\n",
       "      <td>1.55</td>\n",
       "      <td>98.0</td>\n",
       "      <td>26.0</td>\n",
       "      <td>107.0</td>\n",
       "      <td>141.0</td>\n",
       "      <td>2.73</td>\n",
       "    </tr>\n",
       "    <tr>\n",
       "      <th>...</th>\n",
       "      <td>...</td>\n",
       "      <td>...</td>\n",
       "      <td>...</td>\n",
       "      <td>...</td>\n",
       "      <td>...</td>\n",
       "      <td>...</td>\n",
       "      <td>...</td>\n",
       "      <td>...</td>\n",
       "      <td>...</td>\n",
       "      <td>...</td>\n",
       "      <td>...</td>\n",
       "      <td>...</td>\n",
       "      <td>...</td>\n",
       "      <td>...</td>\n",
       "      <td>...</td>\n",
       "      <td>...</td>\n",
       "      <td>...</td>\n",
       "      <td>...</td>\n",
       "      <td>...</td>\n",
       "      <td>...</td>\n",
       "      <td>...</td>\n",
       "    </tr>\n",
       "    <tr>\n",
       "      <th>7621</th>\n",
       "      <td>51</td>\n",
       "      <td>900.0</td>\n",
       "      <td>93.1</td>\n",
       "      <td>29.0</td>\n",
       "      <td>0.76</td>\n",
       "      <td>4.78</td>\n",
       "      <td>4.60</td>\n",
       "      <td>81.0</td>\n",
       "      <td>5.53</td>\n",
       "      <td>173.0</td>\n",
       "      <td>...</td>\n",
       "      <td>0.95</td>\n",
       "      <td>499.0</td>\n",
       "      <td>4.61</td>\n",
       "      <td>0.97</td>\n",
       "      <td>2.82</td>\n",
       "      <td>91.0</td>\n",
       "      <td>23.0</td>\n",
       "      <td>100.0</td>\n",
       "      <td>136.0</td>\n",
       "      <td>1.43</td>\n",
       "    </tr>\n",
       "    <tr>\n",
       "      <th>7060</th>\n",
       "      <td>66</td>\n",
       "      <td>0.0</td>\n",
       "      <td>87.3</td>\n",
       "      <td>7.0</td>\n",
       "      <td>1.17</td>\n",
       "      <td>5.94</td>\n",
       "      <td>4.40</td>\n",
       "      <td>45.0</td>\n",
       "      <td>4.81</td>\n",
       "      <td>136.0</td>\n",
       "      <td>...</td>\n",
       "      <td>0.74</td>\n",
       "      <td>289.0</td>\n",
       "      <td>1.27</td>\n",
       "      <td>1.54</td>\n",
       "      <td>3.69</td>\n",
       "      <td>93.0</td>\n",
       "      <td>11.0</td>\n",
       "      <td>148.0</td>\n",
       "      <td>177.0</td>\n",
       "      <td>1.47</td>\n",
       "    </tr>\n",
       "    <tr>\n",
       "      <th>7241</th>\n",
       "      <td>65</td>\n",
       "      <td>0.0</td>\n",
       "      <td>87.6</td>\n",
       "      <td>18.0</td>\n",
       "      <td>1.33</td>\n",
       "      <td>7.63</td>\n",
       "      <td>9.70</td>\n",
       "      <td>121.0</td>\n",
       "      <td>4.99</td>\n",
       "      <td>143.0</td>\n",
       "      <td>...</td>\n",
       "      <td>0.90</td>\n",
       "      <td>424.0</td>\n",
       "      <td>0.57</td>\n",
       "      <td>1.44</td>\n",
       "      <td>2.15</td>\n",
       "      <td>58.0</td>\n",
       "      <td>8.0</td>\n",
       "      <td>100.0</td>\n",
       "      <td>154.0</td>\n",
       "      <td>7.05</td>\n",
       "    </tr>\n",
       "    <tr>\n",
       "      <th>6362</th>\n",
       "      <td>65</td>\n",
       "      <td>0.0</td>\n",
       "      <td>98.3</td>\n",
       "      <td>14.0</td>\n",
       "      <td>1.00</td>\n",
       "      <td>4.22</td>\n",
       "      <td>7.10</td>\n",
       "      <td>89.0</td>\n",
       "      <td>4.64</td>\n",
       "      <td>148.0</td>\n",
       "      <td>...</td>\n",
       "      <td>1.21</td>\n",
       "      <td>360.0</td>\n",
       "      <td>1.16</td>\n",
       "      <td>1.70</td>\n",
       "      <td>1.64</td>\n",
       "      <td>68.0</td>\n",
       "      <td>28.0</td>\n",
       "      <td>48.0</td>\n",
       "      <td>143.0</td>\n",
       "      <td>2.82</td>\n",
       "    </tr>\n",
       "    <tr>\n",
       "      <th>1998</th>\n",
       "      <td>32</td>\n",
       "      <td>0.0</td>\n",
       "      <td>92.8</td>\n",
       "      <td>11.0</td>\n",
       "      <td>1.82</td>\n",
       "      <td>4.47</td>\n",
       "      <td>4.60</td>\n",
       "      <td>64.0</td>\n",
       "      <td>4.57</td>\n",
       "      <td>136.0</td>\n",
       "      <td>...</td>\n",
       "      <td>0.80</td>\n",
       "      <td>249.0</td>\n",
       "      <td>0.83</td>\n",
       "      <td>2.30</td>\n",
       "      <td>2.55</td>\n",
       "      <td>53.0</td>\n",
       "      <td>7.0</td>\n",
       "      <td>105.0</td>\n",
       "      <td>161.0</td>\n",
       "      <td>1.74</td>\n",
       "    </tr>\n",
       "  </tbody>\n",
       "</table>\n",
       "<p>296 rows × 37 columns</p>\n",
       "</div>"
      ],
      "text/plain": [
       "      Age  Smoke  MCV    ALT  AST:ALT   GLU   BUN     Cr   RBC    HGB  ...  \\\n",
       "4539   59    0.0  83.5  23.0     0.91  5.97  4.50   67.0  5.70  147.0  ...   \n",
       "1937   53  300.0  90.7  33.0     0.88  5.29  4.55   93.3  4.83  144.0  ...   \n",
       "5451   47    0.0  92.5  19.0     1.16  5.89  3.90   74.0  5.59  169.0  ...   \n",
       "5364   48    0.0  93.4  12.0     0.83  4.57  4.70   80.0  5.33  164.0  ...   \n",
       "4975   74    0.0  93.1  14.0     1.36  4.87  4.90   82.0  4.51  135.0  ...   \n",
       "...   ...    ...   ...   ...      ...   ...   ...    ...   ...    ...  ...   \n",
       "7621   51  900.0  93.1  29.0     0.76  4.78  4.60   81.0  5.53  173.0  ...   \n",
       "7060   66    0.0  87.3   7.0     1.17  5.94  4.40   45.0  4.81  136.0  ...   \n",
       "7241   65    0.0  87.6  18.0     1.33  7.63  9.70  121.0  4.99  143.0  ...   \n",
       "6362   65    0.0  98.3  14.0     1.00  4.22  7.10   89.0  4.64  148.0  ...   \n",
       "1998   32    0.0  92.8  11.0     1.82  4.47  4.60   64.0  4.57  136.0  ...   \n",
       "\n",
       "      Cystatin-C     UA    TG  HDL-C  LDL-C   ALP   GGT     CK   HBDH  T-CEA  \n",
       "4539        0.88  404.0  1.11   1.50   3.84  50.0  23.0  119.0  101.0   1.44  \n",
       "1937        0.83  293.0  3.82   0.87   2.49  56.0  46.0  162.0  110.0   0.88  \n",
       "5451        0.82  271.0  1.36   1.34   4.73  79.0  17.0  116.0  157.0   1.08  \n",
       "5364        0.91  374.0  1.78   1.49   3.83  48.0  21.0   77.0  114.0   0.65  \n",
       "4975        1.16  390.0  1.41   0.84   1.55  98.0  26.0  107.0  141.0   2.73  \n",
       "...          ...    ...   ...    ...    ...   ...   ...    ...    ...    ...  \n",
       "7621        0.95  499.0  4.61   0.97   2.82  91.0  23.0  100.0  136.0   1.43  \n",
       "7060        0.74  289.0  1.27   1.54   3.69  93.0  11.0  148.0  177.0   1.47  \n",
       "7241        0.90  424.0  0.57   1.44   2.15  58.0   8.0  100.0  154.0   7.05  \n",
       "6362        1.21  360.0  1.16   1.70   1.64  68.0  28.0   48.0  143.0   2.82  \n",
       "1998        0.80  249.0  0.83   2.30   2.55  53.0   7.0  105.0  161.0   1.74  \n",
       "\n",
       "[296 rows x 37 columns]"
      ]
     },
     "execution_count": 89,
     "metadata": {},
     "output_type": "execute_result"
    }
   ],
   "source": [
    "X_train2"
   ]
  },
  {
   "cell_type": "markdown",
   "metadata": {},
   "source": [
    "## RF"
   ]
  },
  {
   "cell_type": "code",
   "execution_count": 90,
   "metadata": {},
   "outputs": [
    {
     "name": "stdout",
     "output_type": "stream",
     "text": [
      "ACC: 0.640625\n",
      "REC: 0.5373134328358209\n",
      "SPC: 0.7540983606557377\n",
      "AUC: 0.7122583802299975\n"
     ]
    }
   ],
   "source": [
    "rf = load('../model/rf_clf_mini')\n",
    "y_pred = rf.predict(X_test2)\n",
    "tn, fp, fn, tp = confusion_matrix(y_test2, y_pred).ravel()\n",
    "\n",
    "rf_prob = rf.predict_proba(X_test2)[:,1]\n",
    "rf_fpr2, rf_tpr2, _ = roc_curve(y_test2, rf_prob)\n",
    "rf_auc2 = auc(rf_fpr2, rf_tpr2)\n",
    "\n",
    "print(\"ACC:\",accuracy_score(y_test2, y_pred))\n",
    "print(\"REC:\",recall_score(y_test2, y_pred))\n",
    "print(\"SPC:\",tn/(tn+fp))\n",
    "print(\"AUC:\",rf_auc2)\n",
    "importances['rf_mini_importance'] = pd.DataFrame(rf.feature_importances_, index=X_train2.columns)"
   ]
  },
  {
   "cell_type": "markdown",
   "metadata": {},
   "source": [
    "## XGB"
   ]
  },
  {
   "cell_type": "code",
   "execution_count": 91,
   "metadata": {},
   "outputs": [
    {
     "name": "stdout",
     "output_type": "stream",
     "text": [
      "ACC: 0.6640625\n",
      "REC: 0.5970149253731343\n",
      "SPC: 0.7377049180327869\n",
      "AUC: 0.7700024467824811\n"
     ]
    }
   ],
   "source": [
    "xgb = load('../model/xgb_clf_mini')\n",
    "y_pred = xgb.predict(X_test2)\n",
    "tn, fp, fn, tp = confusion_matrix(y_test2, y_pred).ravel()\n",
    "\n",
    "xgb_prob = xgb.predict_proba(X_test2)[:,1]\n",
    "xgb_fpr2, xgb_tpr2, _ = roc_curve(y_test2, xgb_prob)\n",
    "xgb_auc2 = auc(xgb_fpr2, xgb_tpr2)\n",
    "\n",
    "print(\"ACC:\",accuracy_score(y_test2, y_pred))\n",
    "print(\"REC:\",recall_score(y_test2, y_pred))\n",
    "print(\"SPC:\",tn/(tn+fp))\n",
    "print(\"AUC:\",xgb_auc2)\n",
    "importances['xgb_mini_importance'] = pd.DataFrame(xgb.feature_importances_, index=X_train2.columns)"
   ]
  },
  {
   "cell_type": "code",
   "execution_count": 92,
   "metadata": {},
   "outputs": [],
   "source": [
    "importances.to_csv('../../data/featureImportance.csv')"
   ]
  },
  {
   "cell_type": "code",
   "execution_count": 93,
   "metadata": {
    "scrolled": true
   },
   "outputs": [
    {
     "data": {
      "image/png": "[encoded data removed]",
      "text/plain": [
       "<Figure size 432x288 with 1 Axes>"
      ]
     },
     "metadata": {
      "needs_background": "light"
     },
     "output_type": "display_data"
    }
   ],
   "source": [
    "plt.plot([0, 1], [0, 1], 'k--')\n",
    "plt.plot(xgb_fpr, xgb_tpr, label='XG (area = %0.2f)' % xgb_auc, color='g')\n",
    "plt.plot(xgb_fpr2, xgb_tpr2, label='XG_mini (area = %0.2f)' % xgb_auc2, color='g', linestyle=\"--\")\n",
    "plt.plot(rf_fpr, rf_tpr, label='RF (area = %0.2f)' % rf_auc, color='b')\n",
    "plt.plot(rf_fpr2, rf_tpr2, label='RF_mini (area = %0.2f)' % rf_auc2, color='b', linestyle=\"--\")\n",
    "plt.xlabel('False positive rate')\n",
    "plt.ylabel('True positive rate')\n",
    "plt.title('ROC curve')\n",
    "plt.legend(loc=\"lower right\")\n",
    "plt.show()"
   ]
  }
 ],
 "metadata": {
  "kernelspec": {
   "display_name": "Python 3",
   "language": "python",
   "name": "python3"
  },
  "language_info": {
   "codemirror_mode": {
    "name": "ipython",
    "version": 3
   },
   "file_extension": ".py",
   "mimetype": "text/x-python",
   "name": "python",
   "nbconvert_exporter": "python",
   "pygments_lexer": "ipython3",
   "version": "3.8.3"
  }
 },
 "nbformat": 4,
 "nbformat_minor": 4
}
